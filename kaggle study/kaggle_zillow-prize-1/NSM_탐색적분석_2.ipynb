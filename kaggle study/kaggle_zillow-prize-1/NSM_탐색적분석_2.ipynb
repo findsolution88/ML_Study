{
 "cells": [
  {
   "cell_type": "markdown",
   "metadata": {
    "toc": true
   },
   "source": [
    "<h1>Table of Contents<span class=\"tocSkip\"></span></h1>\n",
    "<div class=\"toc\"><ul class=\"toc-item\"><li><span><a href=\"#탐색적-분석\" data-toc-modified-id=\"탐색적-분석-1\"><span class=\"toc-item-num\">1&nbsp;&nbsp;</span>탐색적 분석</a></span><ul class=\"toc-item\"><li><span><a href=\"#결측치-확인-및-처리\" data-toc-modified-id=\"결측치-확인-및-처리-1.1\"><span class=\"toc-item-num\">1.1&nbsp;&nbsp;</span>결측치 확인 및 처리</a></span></li></ul></li></ul></div>"
   ]
  },
  {
   "cell_type": "markdown",
   "metadata": {},
   "source": [
    "Kaggle 사이트 : https://www.kaggle.com/c/zillow-prize-1\n",
    "\n",
    "현재 참고 커널 : https://www.kaggle.com/viveksrinivasan/zillow-eda-on-missing-values-multicollinearity"
   ]
  },
  {
   "cell_type": "code",
   "execution_count": null,
   "metadata": {},
   "outputs": [],
   "source": [
    "# !pip install missingno\n",
    "import pylab\n",
    "import calendar\n",
    "import missingno as msno\n",
    "from datetime import datetime\n",
    "\n",
    "import numpy as np\n",
    "import pandas as pd\n",
    "pd.options.mode.chained_assignment = None\n",
    "\n",
    "from scipy import stats\n",
    "from scipy.stats import kendalltau\n",
    "\n",
    "import seaborn as sns\n",
    "import matplotlib\n",
    "import matplotlib.pyplot as plt\n",
    "matplotlib.style.use('ggplot')\n",
    "%matplotlib inline\n",
    "\n",
    "import warnings\n",
    "warnings.filterwarnings(\"ignore\")"
   ]
  },
  {
   "cell_type": "markdown",
   "metadata": {},
   "source": [
    "### 탐색적 분석"
   ]
  },
  {
   "cell_type": "code",
   "execution_count": null,
   "metadata": {},
   "outputs": [],
   "source": [
    "train = pd.read_csv('train_2016_v2.csv', parse_dates=[\"transactiondate\"])\n",
    "properties = pd.read_csv('properties_2016.csv')"
   ]
  },
  {
   "cell_type": "code",
   "execution_count": null,
   "metadata": {},
   "outputs": [],
   "source": [
    "print(train.head(2))\n",
    "print(f'train.shape :{ train.shape}')"
   ]
  },
  {
   "cell_type": "code",
   "execution_count": null,
   "metadata": {},
   "outputs": [],
   "source": [
    "properties.head(2)"
   ]
  },
  {
   "cell_type": "code",
   "execution_count": null,
   "metadata": {},
   "outputs": [],
   "source": [
    "print(f'properties.shape :{ properties.shape}')"
   ]
  },
  {
   "cell_type": "code",
   "execution_count": null,
   "metadata": {},
   "outputs": [],
   "source": [
    "# 2016 데이터와 \n",
    "merged = pd.merge(train,properties,on=\"parcelid\",how=\"left\")"
   ]
  },
  {
   "cell_type": "code",
   "execution_count": null,
   "metadata": {},
   "outputs": [],
   "source": [
    "merged.shape"
   ]
  },
  {
   "cell_type": "code",
   "execution_count": null,
   "metadata": {
    "scrolled": true
   },
   "outputs": [],
   "source": [
    "merged.info()"
   ]
  },
  {
   "cell_type": "code",
   "execution_count": null,
   "metadata": {
    "scrolled": true
   },
   "outputs": [],
   "source": [
    "merged.head(3).transpose()"
   ]
  },
  {
   "cell_type": "code",
   "execution_count": null,
   "metadata": {
    "scrolled": false
   },
   "outputs": [],
   "source": [
    "# 변수별 null값 시각화\n",
    "null_value = merged.isnull().sum().reset_index()\n",
    "null_value.columns = ['feature','CountNA']\n",
    "null_value = null_value.sort_values('CountNA', ascending=False)\n",
    "fig, ax = plt.subplots()\n",
    "fig.set_size_inches(11, 15)\n",
    "graph = sns.barplot(x='CountNA',y='feature',data=null_value, ax=ax, color=\"#34495e\")\n",
    "graph.set(xlabel='Count of NA values', ylabel='Features', title = 'NA value counts')\n",
    "ax.plot([merged.shape[0]/2, merged.shape[0]/2], [0,null_value.shape[0]], \"r--\")\n",
    "plt.show()"
   ]
  },
  {
   "cell_type": "markdown",
   "metadata": {},
   "source": [
    "#### 결측치 확인 및 처리"
   ]
  },
  {
   "cell_type": "markdown",
   "metadata": {},
   "source": [
    "- 결측치가 0.5이상인 컬럼은 삭제하고 모델링한다. (결측치가 0.5이상인 변수를 모델링에 포함할 시 더 많은 정보손실이 있을것이라 판단)\n",
    "- logerror를 제외한 30개 변수가 있음"
   ]
  },
  {
   "cell_type": "code",
   "execution_count": null,
   "metadata": {},
   "outputs": [],
   "source": [
    "# null 값 50%이상 제외\n",
    "upper_50 = (merged.isnull().sum()/merged.shape[0] > 0.5)\n",
    "merged_50 = merged.columns[upper_50]\n",
    "new_merged = merged.drop(merged_50,axis=1)\n",
    "new_merged.shape"
   ]
  },
  {
   "cell_type": "code",
   "execution_count": null,
   "metadata": {},
   "outputs": [],
   "source": [
    "null_value = new_merged.isnull().sum().reset_index()\n",
    "null_value.columns = ['feature','CountNA']\n",
    "null_value = null_value.sort_values('CountNA', ascending=False)\n",
    "fig, ax = plt.subplots()\n",
    "fig.set_size_inches(11, 15)\n",
    "graph = sns.barplot(x='CountNA',y='feature',data=null_value, ax=ax, color=\"#34495e\")\n",
    "graph.set(xlabel='Count of NA values', ylabel='Features', title = 'NA value counts', )\n",
    "ax.plot([merged.shape[0]/2, merged.shape[0]/2], [0,null_value.shape[0]], \"r--\")\n",
    "plt.show()"
   ]
  },
  {
   "cell_type": "code",
   "execution_count": null,
   "metadata": {},
   "outputs": [],
   "source": [
    "new_merged.info()"
   ]
  },
  {
   "cell_type": "code",
   "execution_count": null,
   "metadata": {},
   "outputs": [],
   "source": []
  },
  {
   "cell_type": "code",
   "execution_count": null,
   "metadata": {},
   "outputs": [],
   "source": [
    "new_merged.corr().style.background_gradient(cmap='coolwarm')"
   ]
  },
  {
   "cell_type": "code",
   "execution_count": null,
   "metadata": {},
   "outputs": [],
   "source": []
  },
  {
   "cell_type": "code",
   "execution_count": null,
   "metadata": {},
   "outputs": [],
   "source": []
  }
 ],
 "metadata": {
  "kernelspec": {
   "display_name": "Python 3",
   "language": "python",
   "name": "python3"
  },
  "language_info": {
   "codemirror_mode": {
    "name": "ipython",
    "version": 3
   },
   "file_extension": ".py",
   "mimetype": "text/x-python",
   "name": "python",
   "nbconvert_exporter": "python",
   "pygments_lexer": "ipython3",
   "version": "3.6.7"
  },
  "toc": {
   "base_numbering": 1,
   "nav_menu": {},
   "number_sections": true,
   "sideBar": true,
   "skip_h1_title": false,
   "title_cell": "Table of Contents",
   "title_sidebar": "Contents",
   "toc_cell": true,
   "toc_position": {},
   "toc_section_display": true,
   "toc_window_display": false
  }
 },
 "nbformat": 4,
 "nbformat_minor": 2
}
