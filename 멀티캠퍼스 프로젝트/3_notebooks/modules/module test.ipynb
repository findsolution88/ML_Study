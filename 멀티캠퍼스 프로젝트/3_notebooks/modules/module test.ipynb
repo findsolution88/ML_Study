{
 "cells": [
  {
   "cell_type": "markdown",
   "metadata": {
    "toc": true
   },
   "source": [
    "<h1>Table of Contents<span class=\"tocSkip\"></span></h1>\n",
    "<div class=\"toc\"><ul class=\"toc-item\"><li><span><a href=\"#데이터-불러오기\" data-toc-modified-id=\"데이터-불러오기-1\"><span class=\"toc-item-num\">1&nbsp;&nbsp;</span>데이터 불러오기</a></span></li><li><span><a href=\"#전처리,-명사추출\" data-toc-modified-id=\"전처리,-명사추출-2\"><span class=\"toc-item-num\">2&nbsp;&nbsp;</span>전처리, 명사추출</a></span></li><li><span><a href=\"#문서검색\" data-toc-modified-id=\"문서검색-3\"><span class=\"toc-item-num\">3&nbsp;&nbsp;</span>문서검색</a></span></li><li><span><a href=\"#벡터화\" data-toc-modified-id=\"벡터화-4\"><span class=\"toc-item-num\">4&nbsp;&nbsp;</span>벡터화</a></span></li><li><span><a href=\"#유의어,-불용어-처리\" data-toc-modified-id=\"유의어,-불용어-처리-5\"><span class=\"toc-item-num\">5&nbsp;&nbsp;</span>유의어, 불용어 처리</a></span></li><li><span><a href=\"#군집화,-시각화\" data-toc-modified-id=\"군집화,-시각화-6\"><span class=\"toc-item-num\">6&nbsp;&nbsp;</span>군집화, 시각화</a></span><ul class=\"toc-item\"><li><span><a href=\"#doc2cec\" data-toc-modified-id=\"doc2cec-6.1\"><span class=\"toc-item-num\">6.1&nbsp;&nbsp;</span>doc2cec</a></span></li></ul></li></ul></div>"
   ]
  },
  {
   "cell_type": "code",
   "execution_count": 1,
   "metadata": {
    "ExecuteTime": {
     "end_time": "2019-05-06T11:05:45.200014Z",
     "start_time": "2019-05-06T11:05:44.035022Z"
    }
   },
   "outputs": [],
   "source": [
    "import newsight"
   ]
  },
  {
   "cell_type": "code",
   "execution_count": 2,
   "metadata": {
    "ExecuteTime": {
     "end_time": "2019-05-06T11:05:45.808451Z",
     "start_time": "2019-05-06T11:05:45.803521Z"
    }
   },
   "outputs": [
    {
     "name": "stdout",
     "output_type": "stream",
     "text": [
      "******Description*****\n",
      "code by 현호킴, description by 승현백\n",
      "클래스 이름.help() : 해당 클래스에서 사용할 수 있는 함수 출력\n",
      "******Class names******\n",
      "1) 데이터 불러오기 : Pickle2DF\n",
      "2) 전처리 : PreprocessingText\n",
      "3) 불용어,유의어 처리 : GetSimilarWords, GetStopWords\n",
      "4) 문서 검색 :  GetDocsFromQuery\n",
      "5) 벡터화 :  Vecterizer\n",
      "6) 시각화 : Get2DPlot, AnalyzingNewsData\n",
      "**********************\n"
     ]
    }
   ],
   "source": [
    "newsight.readme()"
   ]
  },
  {
   "cell_type": "markdown",
   "metadata": {},
   "source": [
    "## 데이터 불러오기"
   ]
  },
  {
   "cell_type": "code",
   "execution_count": 3,
   "metadata": {
    "ExecuteTime": {
     "end_time": "2019-05-06T11:05:46.752995Z",
     "start_time": "2019-05-06T11:05:46.748531Z"
    }
   },
   "outputs": [
    {
     "name": "stdout",
     "output_type": "stream",
     "text": [
      "******Pickle2DF******\n",
      "1) get_dataframe('피클 경로') : 피클을 데이터프레임으로 반환\n",
      "2) get_dataframe_from_list('피클 경로를 저장한 리스트') : 피클여러개를 데이터프레임으로 구성된 리스트로 반환\n",
      "**********************\n"
     ]
    }
   ],
   "source": [
    "newsight.Pickle2DF().help()"
   ]
  },
  {
   "cell_type": "code",
   "execution_count": 4,
   "metadata": {
    "ExecuteTime": {
     "end_time": "2019-05-06T11:05:47.583328Z",
     "start_time": "2019-05-06T11:05:47.237943Z"
    }
   },
   "outputs": [],
   "source": [
    "data_loader = newsight.Pickle2DF()\n",
    "df = data_loader.get_dataframe('data/미래에셋대우/rawdata_미래에셋대우.pickle')"
   ]
  },
  {
   "cell_type": "code",
   "execution_count": 5,
   "metadata": {
    "ExecuteTime": {
     "end_time": "2019-05-06T11:05:47.756218Z",
     "start_time": "2019-05-06T11:05:47.735867Z"
    }
   },
   "outputs": [
    {
     "data": {
      "text/html": [
       "<div>\n",
       "<style scoped>\n",
       "    .dataframe tbody tr th:only-of-type {\n",
       "        vertical-align: middle;\n",
       "    }\n",
       "\n",
       "    .dataframe tbody tr th {\n",
       "        vertical-align: top;\n",
       "    }\n",
       "\n",
       "    .dataframe thead th {\n",
       "        text-align: right;\n",
       "    }\n",
       "</style>\n",
       "<table border=\"1\" class=\"dataframe\">\n",
       "  <thead>\n",
       "    <tr style=\"text-align: right;\">\n",
       "      <th></th>\n",
       "      <th>date</th>\n",
       "      <th>title</th>\n",
       "      <th>content</th>\n",
       "      <th>date_tmp</th>\n",
       "    </tr>\n",
       "  </thead>\n",
       "  <tbody>\n",
       "    <tr>\n",
       "      <th>0</th>\n",
       "      <td>2019-04-19</td>\n",
       "      <td>NH투자證 `선택과 집중` 통했다…펀드설정액, 증권사 1위에 올라</td>\n",
       "      <td>지난해 말 조직개편을 통해 펀드 판매에 승부수를 띄운 NH투자증권이 올해 들어 금융...</td>\n",
       "      <td>737168</td>\n",
       "    </tr>\n",
       "    <tr>\n",
       "      <th>1</th>\n",
       "      <td>2019-04-19</td>\n",
       "      <td>2차전지 기업들, 속속 '코스닥 입성' 채비</td>\n",
       "      <td>코윈테크, 8월 코스닥 상장 추진 \\n \\n \\n[ 이우상 기자 ] 2차전지 생산용...</td>\n",
       "      <td>737168</td>\n",
       "    </tr>\n",
       "    <tr>\n",
       "      <th>2</th>\n",
       "      <td>2019-04-19</td>\n",
       "      <td>증시 호조에 증권株 `훨훨`…2분기 실적도 `맑음`</td>\n",
       "      <td>올해 들어 증시가 호조를 보이면서 증권주들이 1분기 양호한 성적표를 받아들었다. 이...</td>\n",
       "      <td>737168</td>\n",
       "    </tr>\n",
       "    <tr>\n",
       "      <th>3</th>\n",
       "      <td>2019-04-19</td>\n",
       "      <td>한화 LifePlus TDF 설정 1년, 4% 대 운용성과 달성</td>\n",
       "      <td>한화 라이프플러스 상장지수펀드(ETF)의 수익률이 설정 이후 양호한 수익률을 올리고...</td>\n",
       "      <td>737168</td>\n",
       "    </tr>\n",
       "    <tr>\n",
       "      <th>4</th>\n",
       "      <td>2019-04-19</td>\n",
       "      <td>미래에셋벤처투자의 사회적기업1호펀드, 72.4% 수익 올리고 청산돼</td>\n",
       "      <td>미래에셋벤처투자는 지난 2011년 42억원으로 결성했던 사회적기업1호펀드가 72.4...</td>\n",
       "      <td>737168</td>\n",
       "    </tr>\n",
       "  </tbody>\n",
       "</table>\n",
       "</div>"
      ],
      "text/plain": [
       "         date                                  title  \\\n",
       "0  2019-04-19   NH투자證 `선택과 집중` 통했다…펀드설정액, 증권사 1위에 올라   \n",
       "1  2019-04-19               2차전지 기업들, 속속 '코스닥 입성' 채비   \n",
       "2  2019-04-19           증시 호조에 증권株 `훨훨`…2분기 실적도 `맑음`   \n",
       "3  2019-04-19    한화 LifePlus TDF 설정 1년, 4% 대 운용성과 달성   \n",
       "4  2019-04-19  미래에셋벤처투자의 사회적기업1호펀드, 72.4% 수익 올리고 청산돼   \n",
       "\n",
       "                                             content  date_tmp  \n",
       "0  지난해 말 조직개편을 통해 펀드 판매에 승부수를 띄운 NH투자증권이 올해 들어 금융...    737168  \n",
       "1  코윈테크, 8월 코스닥 상장 추진 \\n \\n \\n[ 이우상 기자 ] 2차전지 생산용...    737168  \n",
       "2  올해 들어 증시가 호조를 보이면서 증권주들이 1분기 양호한 성적표를 받아들었다. 이...    737168  \n",
       "3  한화 라이프플러스 상장지수펀드(ETF)의 수익률이 설정 이후 양호한 수익률을 올리고...    737168  \n",
       "4  미래에셋벤처투자는 지난 2011년 42억원으로 결성했던 사회적기업1호펀드가 72.4...    737168  "
      ]
     },
     "execution_count": 5,
     "metadata": {},
     "output_type": "execute_result"
    }
   ],
   "source": [
    "df.head()"
   ]
  },
  {
   "cell_type": "code",
   "execution_count": 6,
   "metadata": {
    "ExecuteTime": {
     "end_time": "2019-05-06T11:05:48.375904Z",
     "start_time": "2019-05-06T11:05:48.364975Z"
    }
   },
   "outputs": [
    {
     "data": {
      "text/plain": [
       "(300, 4)"
      ]
     },
     "execution_count": 6,
     "metadata": {},
     "output_type": "execute_result"
    }
   ],
   "source": [
    "# 300개만 가져와서 테스트\n",
    "import random\n",
    "rand_idx = random.sample(range(10000),300)\n",
    "df_2 = df.iloc[rand_idx]\n",
    "df_2.shape"
   ]
  },
  {
   "cell_type": "markdown",
   "metadata": {},
   "source": [
    "## 전처리, 명사추출"
   ]
  },
  {
   "cell_type": "code",
   "execution_count": 7,
   "metadata": {
    "ExecuteTime": {
     "end_time": "2019-05-06T11:05:53.653974Z",
     "start_time": "2019-05-06T11:05:53.269108Z"
    }
   },
   "outputs": [
    {
     "name": "stderr",
     "output_type": "stream",
     "text": [
      "d:\\pl\\python\\python37\\lib\\site-packages\\konlpy\\tag\\_okt.py:16: UserWarning: \"Twitter\" has changed to \"Okt\" since KoNLPy v0.4.5.\n",
      "  warn('\"Twitter\" has changed to \"Okt\" since KoNLPy v0.4.5.')\n"
     ]
    },
    {
     "name": "stdout",
     "output_type": "stream",
     "text": [
      "******PreprocessingText******\n",
      "1) make_content_re('dataframe') : content 열 전처리 후, 'content_re'열에 저장\n",
      "2) add_noun_dict('list') : 명사 사전에 단어 추가\n",
      "3) add_stopwords('list') : 불용어 사전에 단어 추가\n",
      "4) tokenize('dataframe') : 데이터 프레임에 'tokenized_doc' 열을 추가하고, 토큰화된 문서를 저장한다\n",
      "*****************************\n"
     ]
    }
   ],
   "source": [
    "preprocessor = newsight.PreprocessingText()\n",
    "preprocessor.help()"
   ]
  },
  {
   "cell_type": "code",
   "execution_count": 8,
   "metadata": {
    "ExecuteTime": {
     "end_time": "2019-05-06T11:05:56.573590Z",
     "start_time": "2019-05-06T11:05:56.565158Z"
    }
   },
   "outputs": [
    {
     "name": "stdout",
     "output_type": "stream",
     "text": [
      "추가한 명사\n",
      "['그리고', '미래에셋', '미래에셋대우', 'ibk']\n"
     ]
    }
   ],
   "source": [
    "# 명사 추가\n",
    "noun_list = ['그리고', '미래에셋','미래에셋대우','ibk']\n",
    "preprocessor.add_noun_dict(noun_list)"
   ]
  },
  {
   "cell_type": "code",
   "execution_count": 9,
   "metadata": {
    "ExecuteTime": {
     "end_time": "2019-05-06T11:05:58.852993Z",
     "start_time": "2019-05-06T11:05:58.599040Z"
    }
   },
   "outputs": [
    {
     "name": "stderr",
     "output_type": "stream",
     "text": [
      "D:\\document\\뉴스중복기사제거프로젝트_190416\\newsight.py:109: SettingWithCopyWarning: \n",
      "A value is trying to be set on a copy of a slice from a DataFrame.\n",
      "Try using .loc[row_indexer,col_indexer] = value instead\n",
      "\n",
      "See the caveats in the documentation: http://pandas.pydata.org/pandas-docs/stable/indexing.html#indexing-view-versus-copy\n",
      "  data['content_re'] = data['content'].apply(self.preprocessing)\n"
     ]
    }
   ],
   "source": [
    "df_pre_1 = preprocessor.make_content_re(df_2) # 전처리"
   ]
  },
  {
   "cell_type": "code",
   "execution_count": 10,
   "metadata": {
    "ExecuteTime": {
     "end_time": "2019-05-06T11:06:18.943440Z",
     "start_time": "2019-05-06T11:06:00.461420Z"
    }
   },
   "outputs": [
    {
     "name": "stdout",
     "output_type": "stream",
     "text": [
      "추가한 명사: ['그리고', '미래에셋', '미래에셋대우', 'ibk']\n",
      "불용어:  []\n"
     ]
    },
    {
     "name": "stderr",
     "output_type": "stream",
     "text": [
      "D:\\document\\뉴스중복기사제거프로젝트_190416\\newsight.py:129: SettingWithCopyWarning: \n",
      "A value is trying to be set on a copy of a slice from a DataFrame.\n",
      "Try using .loc[row_indexer,col_indexer] = value instead\n",
      "\n",
      "See the caveats in the documentation: http://pandas.pydata.org/pandas-docs/stable/indexing.html#indexing-view-versus-copy\n",
      "  data[\"tokenized_doc\"] = tokenized_doc_without_stopwords\n"
     ]
    }
   ],
   "source": [
    "df_pre_2 = preprocessor.tokenize(df_pre_1) # 명사 추출"
   ]
  },
  {
   "cell_type": "code",
   "execution_count": 11,
   "metadata": {
    "ExecuteTime": {
     "end_time": "2019-05-06T11:06:27.729619Z",
     "start_time": "2019-05-06T11:06:27.710772Z"
    },
    "scrolled": true
   },
   "outputs": [
    {
     "data": {
      "text/html": [
       "<div>\n",
       "<style scoped>\n",
       "    .dataframe tbody tr th:only-of-type {\n",
       "        vertical-align: middle;\n",
       "    }\n",
       "\n",
       "    .dataframe tbody tr th {\n",
       "        vertical-align: top;\n",
       "    }\n",
       "\n",
       "    .dataframe thead th {\n",
       "        text-align: right;\n",
       "    }\n",
       "</style>\n",
       "<table border=\"1\" class=\"dataframe\">\n",
       "  <thead>\n",
       "    <tr style=\"text-align: right;\">\n",
       "      <th></th>\n",
       "      <th>date</th>\n",
       "      <th>title</th>\n",
       "      <th>content</th>\n",
       "      <th>date_tmp</th>\n",
       "      <th>content_re</th>\n",
       "      <th>tokenized_doc</th>\n",
       "    </tr>\n",
       "  </thead>\n",
       "  <tbody>\n",
       "    <tr>\n",
       "      <th>2108</th>\n",
       "      <td>2019-01-14</td>\n",
       "      <td>\"대한항공, 실적 개선 사이클 진입…목표가 상향\"&lt;미래에셋대우&gt;</td>\n",
       "      <td>[디지털타임스 김민주 기자] 미래에셋대우는 14일 대한항공에 대해 실적 개선 사이클...</td>\n",
       "      <td>737073</td>\n",
       "      <td>[디지털타임스 ] 미래에셋대우는  대한항공에 대해 실적 개선 사이클에 진입할 것이라...</td>\n",
       "      <td>[디지털타임스, 미래에셋대우, 대한항공, 대해, 실적, 개선, 사이클, 진입, 것,...</td>\n",
       "    </tr>\n",
       "    <tr>\n",
       "      <th>61</th>\n",
       "      <td>2019-04-17</td>\n",
       "      <td>박현주 `IT 선견지명` 통할까…클라우드컴퓨팅 ETF 美 상장</td>\n",
       "      <td>미래에셋자산운용의 미국 자회사 '글로벌X'가 클라우드컴퓨팅 기업에 투자하는 상장지수...</td>\n",
       "      <td>737166</td>\n",
       "      <td>미래에셋자산운용의 미국 자회사  글로벌X 가 클라우드컴퓨팅 기업에 투자하는 상장지수...</td>\n",
       "      <td>[미래에셋, 자산운용, 미국, 자회사, 글로벌, 클라우드, 컴퓨팅, 기업, 투, 자...</td>\n",
       "    </tr>\n",
       "    <tr>\n",
       "      <th>5122</th>\n",
       "      <td>2018-08-16</td>\n",
       "      <td>[마켓인사이트]이수화학, 500억원어치 영구 CB 발행</td>\n",
       "      <td>설비 투자자금 조달 목적 \\n주관사 신영증권 450억원 투자 \\n \\n \\n ≪이 ...</td>\n",
       "      <td>736922</td>\n",
       "      <td>설비 투자자금 조달 목적 \\n주관사 신영증권 억원 투자 \\n \\n \\n ≪이 기사는...</td>\n",
       "      <td>[설비, 투자자, 금, 조달, 목적, 주관, 사, 신영, 증권, 억원, 투자, 이,...</td>\n",
       "    </tr>\n",
       "    <tr>\n",
       "      <th>3899</th>\n",
       "      <td>2018-10-23</td>\n",
       "      <td>거래소, 금융취약층 지원방안 세미나 개최</td>\n",
       "      <td>[머니투데이 신아름 기자] 한국거래소 시장감시위원회는 23일 한국거래소 대회의실에서...</td>\n",
       "      <td>736990</td>\n",
       "      <td>[머니투데이 ] 한국거래소 시장감시위원회는  한국거래소 대회의실에서 학계, 법조계,...</td>\n",
       "      <td>[머니투데이, 한국, 거래소, 시장, 감시, 위원회, 한국, 거래소, 회의실, 학계...</td>\n",
       "    </tr>\n",
       "    <tr>\n",
       "      <th>7196</th>\n",
       "      <td>2018-05-30</td>\n",
       "      <td>[하반기 투자전략] 한치앞 안보이는 `안갯속 코스피`…글로벌·배당주 펀드로 넘어볼까</td>\n",
       "      <td>5월 말 무산될 뻔했던 미·북정상회담이 이틀 만에 다시 정상 궤도에 오르며 한국 증...</td>\n",
       "      <td>736844</td>\n",
       "      <td>말 무산될 뻔했던 미 북정상회담이 이틀 만에 다시 정상 궤도에 오르며 한국 증시도...</td>\n",
       "      <td>[말, 무산, 북, 정상회담, 이틀, 다시, 정상, 궤도, 한국, 증시, 요동, 남...</td>\n",
       "    </tr>\n",
       "  </tbody>\n",
       "</table>\n",
       "</div>"
      ],
      "text/plain": [
       "            date                                           title  \\\n",
       "2108  2019-01-14             \"대한항공, 실적 개선 사이클 진입…목표가 상향\"<미래에셋대우>   \n",
       "61    2019-04-17              박현주 `IT 선견지명` 통할까…클라우드컴퓨팅 ETF 美 상장   \n",
       "5122  2018-08-16                  [마켓인사이트]이수화학, 500억원어치 영구 CB 발행   \n",
       "3899  2018-10-23                          거래소, 금융취약층 지원방안 세미나 개최   \n",
       "7196  2018-05-30  [하반기 투자전략] 한치앞 안보이는 `안갯속 코스피`…글로벌·배당주 펀드로 넘어볼까   \n",
       "\n",
       "                                                content  date_tmp  \\\n",
       "2108  [디지털타임스 김민주 기자] 미래에셋대우는 14일 대한항공에 대해 실적 개선 사이클...    737073   \n",
       "61    미래에셋자산운용의 미국 자회사 '글로벌X'가 클라우드컴퓨팅 기업에 투자하는 상장지수...    737166   \n",
       "5122  설비 투자자금 조달 목적 \\n주관사 신영증권 450억원 투자 \\n \\n \\n ≪이 ...    736922   \n",
       "3899  [머니투데이 신아름 기자] 한국거래소 시장감시위원회는 23일 한국거래소 대회의실에서...    736990   \n",
       "7196  5월 말 무산될 뻔했던 미·북정상회담이 이틀 만에 다시 정상 궤도에 오르며 한국 증...    736844   \n",
       "\n",
       "                                             content_re  \\\n",
       "2108  [디지털타임스 ] 미래에셋대우는  대한항공에 대해 실적 개선 사이클에 진입할 것이라...   \n",
       "61    미래에셋자산운용의 미국 자회사  글로벌X 가 클라우드컴퓨팅 기업에 투자하는 상장지수...   \n",
       "5122  설비 투자자금 조달 목적 \\n주관사 신영증권 억원 투자 \\n \\n \\n ≪이 기사는...   \n",
       "3899  [머니투데이 ] 한국거래소 시장감시위원회는  한국거래소 대회의실에서 학계, 법조계,...   \n",
       "7196   말 무산될 뻔했던 미 북정상회담이 이틀 만에 다시 정상 궤도에 오르며 한국 증시도...   \n",
       "\n",
       "                                          tokenized_doc  \n",
       "2108  [디지털타임스, 미래에셋대우, 대한항공, 대해, 실적, 개선, 사이클, 진입, 것,...  \n",
       "61    [미래에셋, 자산운용, 미국, 자회사, 글로벌, 클라우드, 컴퓨팅, 기업, 투, 자...  \n",
       "5122  [설비, 투자자, 금, 조달, 목적, 주관, 사, 신영, 증권, 억원, 투자, 이,...  \n",
       "3899  [머니투데이, 한국, 거래소, 시장, 감시, 위원회, 한국, 거래소, 회의실, 학계...  \n",
       "7196  [말, 무산, 북, 정상회담, 이틀, 다시, 정상, 궤도, 한국, 증시, 요동, 남...  "
      ]
     },
     "execution_count": 11,
     "metadata": {},
     "output_type": "execute_result"
    }
   ],
   "source": [
    "df_pre_2.head()"
   ]
  },
  {
   "cell_type": "markdown",
   "metadata": {},
   "source": [
    "## 문서검색"
   ]
  },
  {
   "cell_type": "code",
   "execution_count": 27,
   "metadata": {
    "ExecuteTime": {
     "end_time": "2019-05-06T11:19:21.548170Z",
     "start_time": "2019-05-06T11:19:21.544202Z"
    }
   },
   "outputs": [
    {
     "name": "stdout",
     "output_type": "stream",
     "text": [
      "******GetDocsFromQuery******\n",
      "1)set_query('검색어') : 검색어 설정 \n",
      "2)select_news('토큰화된 문서 시리즈') : 검색어를 포함한 문서 시리즈 반환\n",
      "*****************************\n"
     ]
    }
   ],
   "source": [
    "doc_selector = newsight.GetDocsFromQuery()\n",
    "doc_selector.help()"
   ]
  },
  {
   "cell_type": "code",
   "execution_count": 28,
   "metadata": {
    "ExecuteTime": {
     "end_time": "2019-05-06T11:19:37.015351Z",
     "start_time": "2019-05-06T11:19:37.011850Z"
    }
   },
   "outputs": [],
   "source": [
    "doc_selector.set_query('은행')"
   ]
  },
  {
   "cell_type": "code",
   "execution_count": 30,
   "metadata": {
    "ExecuteTime": {
     "end_time": "2019-05-06T11:20:16.555240Z",
     "start_time": "2019-05-06T11:20:16.514538Z"
    },
    "scrolled": true
   },
   "outputs": [
    {
     "name": "stdout",
     "output_type": "stream",
     "text": [
      "length of selected news:  47\n",
      "length of original data:  300\n"
     ]
    },
    {
     "data": {
      "text/plain": [
       "8405    [다음, 달, 물, 억원, 어치, 발행, 급격, 실적, 악화, 변수, 로, 작년, ...\n",
       "5046    [수, 시장, 침체, 수출, 공장, 가동, 율, 로, 고요, 간제, 려고, 수, 상...\n",
       "4831    [머니투데이, 편입, 비중, 업계, 비중, 증가, 뿐, 금융, 당국, 안정, 성, ...\n",
       "5657    [미래에셋대우, 금융, 지주, 대해, 본격, 적, 저, 평가, 해소, 자산, 건전성...\n",
       "1619    [머니투데이, 삼성, 바이오, 직스, 지난해, 기, 영업, 이익, 억원, 년, 동기...\n",
       "424     [정태영, 현대, 카드, 부회장, 금융, 권, 현직, 최고경영자, 중, 지난해, 연...\n",
       "3780    [머니투데이, 편집자, 주, 주식시장, 중, 무역, 갈등, 지속, 기준금리, 역전,...\n",
       "1139    [최근, 새, 여명, 인원, 감축, 정년, 퇴직, 것, 희망, 퇴직, 자, 제시, ...\n",
       "618     [개인, 투자자, 억원, 까운, 회사채, 매, 수하, 면서, 회사채, 투자, 관심,...\n",
       "8894    [금융위, 금융, 개혁, 인터넷, 전문, 은행, 등, 달, 도입, 탄핵, 정국, 거...\n",
       "5594    [대신, 증권, 광주, 은행, 대해, 상장, 폐, 지시, 까지, 금융, 주가, 연동...\n",
       "7062    [머니투데이, 영업, 점, 통폐합, 후, 인력, 이탈, 사상, 최대, 이익, 불구,...\n",
       "4024    [머니투데이, 적, 극적, 로, 사업, 포트폴리오, 변화, 성공, 미래에셋대우, 금...\n",
       "9116    [역시, 주머니, 노래, 샤워, 부스, 마스카라, 대신, 눈, 힘, 주자, 요즘, ...\n",
       "1085    [주식, 펀드, 채권, 등, 투자, 상품, 손익, 합산, 이익, 날, 때, 과세, ...\n",
       "6575    [산업, 은행, 추진, 친환경, 사업, 녹색, 기후, 기금, 지원, 여부, 결정, ...\n",
       "6329    [업종, 지수, 비교, 위험, 대비, 수익률, 수, 오후, 현재, 전일, 대비, 오...\n",
       "3828    [억원, 모집, 억원, 매수, 주문, 작년, 첫, 발행, 후, 청약, 경쟁률, 계속...\n",
       "9174    [머니투데이, 세원, 셀론텍, 연결, 기준, 지난해, 영업, 이익, 억원, 년, 대...\n",
       "4100    [금융감독원, 미래에셋대우, 대한, 종합, 검사, 개시, 이번, 검사, 한국, 투자...\n",
       "8938    [수익, 성, 개선, 위해, 사업, 재편, 중, 내달, 기관, 대상, 사전, 청약,...\n",
       "1632    [주요, 금융, 지주, 은행, 지난해, 실적, 발표, 시작, 면서, 금융, 권, 안...\n",
       "6588    [올해, 부터, 전면, 시행, 금융, 상품, 관련, 새, 국제, 회계기준, 호, 작...\n",
       "8198    [코스피, 박스, 권, 증권, 주의, 상승세, 올해, 이익, 성장, 지속, 것, 이...\n",
       "9183    [머니투데이, 시, 황종, 합, 외인, 기관, 양, 시장, 동반, 순, 매수, 코스...\n",
       "2176    [머니투데이, 왼쪽, 부터, 코람코, 자산, 신탁, 윤장호, 리츠, 투자, 상무, ...\n",
       "5918    [하나, 금융투자, 신한지주, 대해, 조원, 순이익, 충분, 가능, 라며, 투자, ...\n",
       "9275    [미국, 국채, 금리, 급등, 트럼프, 발, 무역, 전쟁, 등, 자고, 일어, 면,...\n",
       "3268    [머니투데이, 상보, 거래, 대금, 감소, 대형, 딜도, 해외, 투자, 역량, 통해...\n",
       "4454    [머니투데이, 주말, 재테크, 만기, 기준, 최대, 약정, 수익, 단기, 투자, 처...\n",
       "8032    [머니투데이, 유지시, 기간, 내, 최대, 만, 소득공제, 중도, 환매, 불가, 상...\n",
       "1512    [현대, 제철, 지난달, 억원, 규모, 회사채, 발행, 원래, 억원, 어치, 발행,...\n",
       "4170    [하나, 금융투자, 금융, 지주, 대해, 신뢰, 회복, 위해, 배수진, 라며, 투자...\n",
       "3407    [재무, 구조, 개선, 달말, 억, 규모, 마켓, 인사이트, 오전, 한화, 케미칼,...\n",
       "8426    [대출, 규제, 강화, 등, 리스크, 요인, 은, 행주, 대한, 시장, 기대, 점점...\n",
       "8114    [머니투데이, 작년, 건, 중, 건, 보험, 금감원, 일괄, 구제, 제도, 도입, ...\n",
       "6039    [하나, 금융투자, 금융, 대해, 은행업, 종, 실적, 주도, 이제, 기, 대치, ...\n",
       "2664    [관련, 종목, 가운데, 변동, 폭, 수익, 율, 오후, 현재, 전일, 대비, 하락...\n",
       "1032    [머니투데이, 밀라노, 코펜하겐, 올해, 세번, 투자, 성사, 프랑스, 라데팡스, ...\n",
       "2447    [디지털타임스, 시가총액, 상위, 기업, 중, 절반, 이상은, 배당, 여력, 감소,...\n",
       "2350    [새해, 정부, 역할, 순위, 규제, 완화, 부동산, 안정, 고용, 개선, 기업, ...\n",
       "9197    [미래에셋대우, 최, 부회장, 과도, 음주, 대한, 경계, 감, 나타, 것일, 뿐,...\n",
       "8023    [서울, 노원구, 김, 모, 씨, 전, 대기업, 정년, 퇴직, 지금, 중소기업, 재...\n",
       "3751    [투자, 증권, 하나, 금융, 주, 대해, 금리, 상승, 초기, 가장, 초과, 상승...\n",
       "7802    [문재인, 정부, 금융, 분야, 성과, 과제, 문재인, 정부, 지난, 동안, 강도,...\n",
       "6229    [금융, 그룹, 지난, 서울, 여의도, 증권, 신사, 옥, 더, 케이타, 워, 전문...\n",
       "9348    [미래에셋대우, 유상증자, 통해, 증권, 업계, 조원, 기업, 우뚝, 확충, 투자,...\n",
       "Name: tokenized_doc, dtype: object"
      ]
     },
     "execution_count": 30,
     "metadata": {},
     "output_type": "execute_result"
    }
   ],
   "source": [
    "doc_selector.select_news(df_pre_2['tokenized_doc'])"
   ]
  },
  {
   "cell_type": "markdown",
   "metadata": {},
   "source": [
    "## 벡터화"
   ]
  },
  {
   "cell_type": "code",
   "execution_count": 19,
   "metadata": {
    "ExecuteTime": {
     "end_time": "2019-05-06T11:09:37.386100Z",
     "start_time": "2019-05-06T11:09:37.382130Z"
    }
   },
   "outputs": [
    {
     "name": "stdout",
     "output_type": "stream",
     "text": [
      "******GetDocsFromQuery******\n",
      "1)get_tfidf_vec('토큰화된 문서 시리즈','단어 수') : 문서를 tfidf 벡터(x) 와 단어(words)로 반환\n",
      "2)get_doc2vec('토큰화된 문서 시리즈') : doc2vec 벡터 반환\n",
      "3)load_doc2vec_model('토큰화된 문서 시리즈','모델객체이름') : 저장된 모델로  doc2vec 벡터 반환\n",
      "*****************************\n"
     ]
    }
   ],
   "source": [
    "vectorizer = newsight.Vectorizer()\n",
    "vectorizer.help()"
   ]
  },
  {
   "cell_type": "code",
   "execution_count": 21,
   "metadata": {
    "ExecuteTime": {
     "end_time": "2019-05-06T11:10:43.742218Z",
     "start_time": "2019-05-06T11:10:43.301297Z"
    }
   },
   "outputs": [],
   "source": [
    "x,words = vectorizer.get_tfidf_vec(df_pre_2['tokenized_doc'],max_feat=1000) # tf idf"
   ]
  },
  {
   "cell_type": "code",
   "execution_count": 24,
   "metadata": {
    "ExecuteTime": {
     "end_time": "2019-05-06T11:11:50.975571Z",
     "start_time": "2019-05-06T11:11:27.243693Z"
    }
   },
   "outputs": [
    {
     "name": "stdout",
     "output_type": "stream",
     "text": [
      "corpus_count:  300\n",
      "epoch:  0\n",
      "epoch:  10\n",
      "epoch:  20\n",
      "epoch:  30\n",
      "epoch:  40\n",
      "Model Saved\n",
      "Load Model\n"
     ]
    }
   ],
   "source": [
    "x_doc2vec = vectorizer.get_doc2vec(df_pre_2['tokenized_doc'])"
   ]
  },
  {
   "cell_type": "markdown",
   "metadata": {},
   "source": [
    "## 유의어, 불용어 처리"
   ]
  },
  {
   "cell_type": "code",
   "execution_count": 32,
   "metadata": {
    "ExecuteTime": {
     "end_time": "2019-05-06T11:21:36.557324Z",
     "start_time": "2019-05-06T11:21:36.553357Z"
    }
   },
   "outputs": [
    {
     "name": "stdout",
     "output_type": "stream",
     "text": [
      "******GetSimilarWords******\n",
      "1) get_model('토큰화된 문서 시리즈','doc2vec 후 차원 크기') : doc2vec 모델 학습\n",
      "2) get_similar_words('단어') : 유의어 출력\n",
      "*****************************\n"
     ]
    }
   ],
   "source": [
    "similar_words = newsight.GetSimilarWords()\n",
    "similar_words.help()"
   ]
  },
  {
   "cell_type": "code",
   "execution_count": 33,
   "metadata": {
    "ExecuteTime": {
     "end_time": "2019-05-06T11:22:16.764116Z",
     "start_time": "2019-05-06T11:22:15.182733Z"
    }
   },
   "outputs": [],
   "source": [
    "similar_words.get_model(df_pre_2['tokenized_doc'],size = 300)"
   ]
  },
  {
   "cell_type": "code",
   "execution_count": 35,
   "metadata": {
    "ExecuteTime": {
     "end_time": "2019-05-06T11:22:39.370755Z",
     "start_time": "2019-05-06T11:22:39.034158Z"
    }
   },
   "outputs": [
    {
     "name": "stdout",
     "output_type": "stream",
     "text": [
      "단어 : 유사도\n",
      "예금 : 0.9190393686294556\n",
      "민원 : 0.9029737710952759\n",
      "당 : 0.8933926820755005\n",
      "저축 : 0.8897323608398438\n",
      "순이 : 0.888285756111145\n",
      "기손 : 0.8882416486740112\n",
      "입 : 0.8836761713027954\n",
      "보증 : 0.8822344541549683\n",
      "초대형 : 0.8796976804733276\n",
      "수수료 : 0.8795653581619263\n"
     ]
    }
   ],
   "source": [
    "similar_words.get_similar_words('은행')"
   ]
  },
  {
   "cell_type": "code",
   "execution_count": 37,
   "metadata": {
    "ExecuteTime": {
     "end_time": "2019-05-06T11:23:21.936600Z",
     "start_time": "2019-05-06T11:23:21.931640Z"
    }
   },
   "outputs": [
    {
     "name": "stdout",
     "output_type": "stream",
     "text": [
      "******GetStopWords******\n",
      "1)get_bow('토큰화된 문서 시리즈') : bow 생성\n",
      "2)get_stop_words('단어 출현 빈도 순위  n ') : 단어 출현 빈도 상위 n 개, 하위 n 개 출력\n",
      "*****************************\n"
     ]
    }
   ],
   "source": [
    "stop_words = newsight.GetStopWords()\n",
    "stop_words.help()"
   ]
  },
  {
   "cell_type": "code",
   "execution_count": 43,
   "metadata": {
    "ExecuteTime": {
     "end_time": "2019-05-06T11:24:26.595356Z",
     "start_time": "2019-05-06T11:24:26.559643Z"
    },
    "scrolled": false
   },
   "outputs": [
    {
     "name": "stdout",
     "output_type": "stream",
     "text": [
      "의견\n",
      "투자\n",
      "목표\n",
      "주가\n",
      "증권\n",
      "매수\n",
      "유지\n",
      "제시\n",
      "것\n",
      "적\n",
      "닥\n",
      "돈벌이\n",
      "지문\n",
      "비화\n",
      "줄기\n",
      "순조\n",
      "중앙대\n",
      "김덕규\n",
      "이득\n",
      "제비\n"
     ]
    }
   ],
   "source": [
    "stop_words.get_bow(df_pre_2['tokenized_doc'])\n",
    "stop_words.get_stop_words(10) # 출현 빈도 상위,하위 10위 단어 출력"
   ]
  },
  {
   "cell_type": "markdown",
   "metadata": {
    "ExecuteTime": {
     "end_time": "2019-05-06T11:23:54.081646Z",
     "start_time": "2019-05-06T11:23:54.075197Z"
    }
   },
   "source": [
    "## 군집화, 시각화"
   ]
  },
  {
   "cell_type": "code",
   "execution_count": 47,
   "metadata": {
    "ExecuteTime": {
     "end_time": "2019-05-06T11:28:11.475817Z",
     "start_time": "2019-05-06T11:28:11.446553Z"
    }
   },
   "outputs": [
    {
     "name": "stdout",
     "output_type": "stream",
     "text": [
      "아 난해하다 알아서 쓰세요\n"
     ]
    }
   ],
   "source": [
    "# tfidf \n",
    "cluster_tfidf = newsight.Get2DPlot(x)\n",
    "cluster_tfidf.help()"
   ]
  },
  {
   "cell_type": "code",
   "execution_count": 56,
   "metadata": {
    "ExecuteTime": {
     "end_time": "2019-05-06T11:32:24.046335Z",
     "start_time": "2019-05-06T11:32:23.738727Z"
    }
   },
   "outputs": [
    {
     "name": "stdout",
     "output_type": "stream",
     "text": [
      "[-1 -1 -1 -1 -1 -1 -1 -1 -1 -1 -1 -1 -1 -1 -1 -1 -1 -1 -1 -1 -1 -1 -1 -1\n",
      " -1 -1 -1 -1 -1 -1 -1 -1 -1 -1 -1 -1 -1 -1 -1 -1 -1 -1 -1 -1 -1 -1 -1 -1\n",
      " -1 -1 -1 -1 -1 -1 -1 -1 -1 -1 -1 -1 -1 -1 -1 -1 -1 -1 -1 -1 -1 -1 -1 -1\n",
      " -1 -1 -1 -1 -1 -1 -1 -1 -1 -1 -1 -1 -1 -1 -1 -1 -1 -1 -1 -1 -1 -1 -1 -1\n",
      " -1 -1 -1 -1 -1 -1 -1 -1 -1 -1 -1 -1 -1 -1 -1 -1 -1 -1 -1 -1 -1 -1 -1 -1\n",
      " -1 -1 -1 -1 -1 -1 -1 -1 -1 -1 -1 -1 -1 -1 -1 -1 -1 -1 -1 -1 -1 -1 -1 -1\n",
      " -1 -1 -1 -1 -1 -1 -1 -1 -1 -1 -1 -1 -1 -1 -1 -1 -1 -1 -1 -1 -1 -1 -1 -1\n",
      " -1 -1 -1 -1 -1 -1 -1 -1 -1 -1 -1 -1 -1 -1 -1 -1 -1 -1 -1 -1 -1 -1 -1 -1\n",
      " -1 -1 -1 -1 -1 -1 -1 -1 -1 -1 -1 -1 -1 -1 -1 -1 -1 -1 -1 -1 -1 -1 -1 -1\n",
      " -1 -1 -1 -1 -1 -1 -1 -1 -1 -1 -1 -1 -1 -1 -1 -1 -1 -1 -1 -1 -1 -1 -1 -1\n",
      " -1 -1 -1 -1 -1 -1 -1 -1 -1 -1 -1 -1 -1 -1 -1 -1 -1 -1 -1 -1 -1 -1 -1 -1\n",
      " -1 -1 -1 -1 -1 -1 -1 -1 -1 -1 -1 -1 -1 -1 -1 -1 -1 -1 -1 -1 -1 -1 -1 -1\n",
      " -1 -1 -1 -1 -1 -1 -1 -1 -1 -1 -1 -1]\n",
      "PCA DBSCAN\n"
     ]
    },
    {
     "data": {
      "image/png": "[encoded data removed]",
      "text/plain": [
       "<Figure size 432x288 with 1 Axes>"
      ]
     },
     "metadata": {
      "needs_background": "light"
     },
     "output_type": "display_data"
    }
   ],
   "source": [
    "tfidf_2d = cluster_tfidf.get_2D_vec()\n",
    "cluster_tfidf.get_cluster_labels()\n",
    "cluster_tfidf.plot2D()"
   ]
  },
  {
   "cell_type": "code",
   "execution_count": 62,
   "metadata": {
    "ExecuteTime": {
     "end_time": "2019-05-06T11:34:29.938510Z",
     "start_time": "2019-05-06T11:34:29.932061Z"
    }
   },
   "outputs": [],
   "source": [
    "# 라벨 생성\n",
    "clusters = sorted(list(set(cluster_tfidf.cluster_labels)))\n",
    "new_data = df_pre_2.copy(deep = True)\n",
    "new_data['labels'] = cluster_tfidf.cluster_labels"
   ]
  },
  {
   "cell_type": "code",
   "execution_count": 64,
   "metadata": {
    "ExecuteTime": {
     "end_time": "2019-05-06T11:35:16.889493Z",
     "start_time": "2019-05-06T11:35:16.880562Z"
    }
   },
   "outputs": [
    {
     "name": "stdout",
     "output_type": "stream",
     "text": [
      "******AnalyzingNewsData******\n",
      "1)get_n_data_per_cluster('라벨 리스트') : 클러스터 별 문서 개수 반환\n",
      "2)print_news_per_cluster('토큰화된 문서 시리즈','클러스터 라벨 리스트') : 클러스터 라벨별로 제목을 출력한다.\n",
      "*****************************\n"
     ]
    }
   ],
   "source": [
    "analyzer = newsight.AnalyzingNewsData()\n",
    "analyzer.help()"
   ]
  },
  {
   "cell_type": "code",
   "execution_count": 73,
   "metadata": {
    "ExecuteTime": {
     "end_time": "2019-05-06T11:40:46.454686Z",
     "start_time": "2019-05-06T11:40:46.446271Z"
    }
   },
   "outputs": [
    {
     "name": "stdout",
     "output_type": "stream",
     "text": [
      "아 난해하다 알아서 쓰세요\n"
     ]
    }
   ],
   "source": [
    "## doc2vec\n",
    "cluster_doc2vec = newsight.Get2DPlot(x_doc2vec)\n",
    "cluster_doc2vec.help()"
   ]
  },
  {
   "cell_type": "code",
   "execution_count": 76,
   "metadata": {
    "ExecuteTime": {
     "end_time": "2019-05-06T11:41:56.497112Z",
     "start_time": "2019-05-06T11:41:56.324969Z"
    }
   },
   "outputs": [
    {
     "name": "stdout",
     "output_type": "stream",
     "text": [
      "[-1 -1 -1 -1 -1 -1  0  0  0  0 -1  0  0  0  0  0 -1 -1  0 -1 -1 -1 -1  0\n",
      "  0 -1 -1  0  0  0  0  0  0  0  0 -1  1  0 -1 -1 -1 -1 -1 -1 -1 -1 -1 -1\n",
      " -1 -1 -1 -1  0 -1  0  0 -1  0  0  0  0 -1 -1 -1  0  0  0  0  0 -1  0 -1\n",
      " -1  0  0  0  0 -1 -1  0 -1  1  0 -1 -1 -1 -1  0 -1 -1  0  0  0  0  0  0\n",
      "  0  0  0  0 -1  0 -1  2 -1 -1 -1 -1  0  2 -1  3 -1 -1 -1  0 -1  0 -1  0\n",
      "  4  0  0  0  0  0  0 -1  0  0  1  0  0  0  0  0  0  0 -1  0  0  0 -1 -1\n",
      " -1  0  0  0 -1  0 -1 -1 -1  0  0  0  0 -1  0  0  0 -1  0 -1  5  0  0  0\n",
      " -1 -1  0  0  0 -1  0 -1  0  4 -1  0  0  0 -1 -1 -1  0  0  0  0  0  0 -1\n",
      " -1  0  0 -1 -1  0 -1 -1 -1 -1 -1  5 -1  0  0  0 -1 -1  0 -1  1  0  0  0\n",
      " -1 -1  0 -1 -1 -1 -1 -1  0 -1 -1  0  0 -1  0 -1 -1  0 -1  0  0  0 -1  0\n",
      " -1 -1  0  0 -1 -1 -1  0  0 -1  0 -1  0  0  0  0 -1  0  0  0  0  0 -1 -1\n",
      "  0 -1  0 -1 -1 -1  3 -1  0  0 -1  0  0 -1 -1 -1  0 -1  0  0 -1  0  0 -1\n",
      " -1  0  0 -1  0  0 -1 -1  0 -1 -1 -1]\n",
      "PCA DBSCAN\n"
     ]
    },
    {
     "data": {
      "image/png": "[encoded data removed]",
      "text/plain": [
       "<Figure size 432x288 with 1 Axes>"
      ]
     },
     "metadata": {
      "needs_background": "light"
     },
     "output_type": "display_data"
    }
   ],
   "source": [
    "doc2vec_2D = cluster_doc2vec.get_2D_vec()\n",
    "cluster_doc2vec.get_cluster_labels()\n",
    "cluster_doc2vec.plot2D()"
   ]
  },
  {
   "cell_type": "code",
   "execution_count": null,
   "metadata": {},
   "outputs": [],
   "source": []
  }
 ],
 "metadata": {
  "kernelspec": {
   "display_name": "Python 3",
   "language": "python",
   "name": "python3"
  },
  "language_info": {
   "codemirror_mode": {
    "name": "ipython",
    "version": 3
   },
   "file_extension": ".py",
   "mimetype": "text/x-python",
   "name": "python",
   "nbconvert_exporter": "python",
   "pygments_lexer": "ipython3",
   "version": "3.7.0"
  },
  "toc": {
   "base_numbering": 1,
   "nav_menu": {},
   "number_sections": true,
   "sideBar": true,
   "skip_h1_title": true,
   "title_cell": "Table of Contents",
   "title_sidebar": "Contents",
   "toc_cell": true,
   "toc_position": {
    "height": "calc(100% - 180px)",
    "left": "10px",
    "top": "150px",
    "width": "165px"
   },
   "toc_section_display": true,
   "toc_window_display": true
  },
  "varInspector": {
   "cols": {
    "lenName": 16,
    "lenType": 16,
    "lenVar": 40
   },
   "kernels_config": {
    "python": {
     "delete_cmd_postfix": "",
     "delete_cmd_prefix": "del ",
     "library": "var_list.py",
     "varRefreshCmd": "print(var_dic_list())"
    },
    "r": {
     "delete_cmd_postfix": ") ",
     "delete_cmd_prefix": "rm(",
     "library": "var_list.r",
     "varRefreshCmd": "cat(var_dic_list()) "
    }
   },
   "types_to_exclude": [
    "module",
    "function",
    "builtin_function_or_method",
    "instance",
    "_Feature"
   ],
   "window_display": false
  }
 },
 "nbformat": 4,
 "nbformat_minor": 2
}
