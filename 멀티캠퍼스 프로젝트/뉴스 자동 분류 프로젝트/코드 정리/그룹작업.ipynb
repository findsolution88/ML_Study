{
 "cells": [
  {
   "cell_type": "markdown",
   "metadata": {
    "colab_type": "text",
    "id": "F1LdP9lEx-f1",
    "toc": true
   },
   "source": [
    "<h1>Table of Contents<span class=\"tocSkip\"></span></h1>\n",
    "<div class=\"toc\"><ul class=\"toc-item\"><li><span><a href=\"#데이터-불러오기\" data-toc-modified-id=\"데이터-불러오기-1\"><span class=\"toc-item-num\">1&nbsp;&nbsp;</span>데이터 불러오기</a></span></li><li><span><a href=\"#전처리\" data-toc-modified-id=\"전처리-2\"><span class=\"toc-item-num\">2&nbsp;&nbsp;</span>전처리</a></span><ul class=\"toc-item\"><li><span><a href=\"#명사추출\" data-toc-modified-id=\"명사추출-2.1\"><span class=\"toc-item-num\">2.1&nbsp;&nbsp;</span>명사추출</a></span></li><li><span><a href=\"#word2vec(유의어-처리)\" data-toc-modified-id=\"word2vec(유의어-처리)-2.2\"><span class=\"toc-item-num\">2.2&nbsp;&nbsp;</span>word2vec(유의어 처리)</a></span></li><li><span><a href=\"#bow(불용어처리)\" data-toc-modified-id=\"bow(불용어처리)-2.3\"><span class=\"toc-item-num\">2.3&nbsp;&nbsp;</span>bow(불용어처리)</a></span></li></ul></li><li><span><a href=\"#새로운-query를-포함한-문서-추출\" data-toc-modified-id=\"새로운-query를-포함한-문서-추출-3\"><span class=\"toc-item-num\">3&nbsp;&nbsp;</span>새로운 query를 포함한 문서 추출</a></span><ul class=\"toc-item\"><li><span><a href=\"#tf-idf\" data-toc-modified-id=\"tf-idf-3.1\"><span class=\"toc-item-num\">3.1&nbsp;&nbsp;</span>tf-idf</a></span><ul class=\"toc-item\"><li><span><a href=\"#클러스터링\" data-toc-modified-id=\"클러스터링-3.1.1\"><span class=\"toc-item-num\">3.1.1&nbsp;&nbsp;</span>클러스터링</a></span><ul class=\"toc-item\"><li><span><a href=\"#kmeans\" data-toc-modified-id=\"kmeans-3.1.1.1\"><span class=\"toc-item-num\">3.1.1.1&nbsp;&nbsp;</span>kmeans</a></span></li></ul></li></ul></li><li><span><a href=\"#doc2vec\" data-toc-modified-id=\"doc2vec-3.2\"><span class=\"toc-item-num\">3.2&nbsp;&nbsp;</span>doc2vec</a></span><ul class=\"toc-item\"><li><span><a href=\"#클러스터링\" data-toc-modified-id=\"클러스터링-3.2.1\"><span class=\"toc-item-num\">3.2.1&nbsp;&nbsp;</span>클러스터링</a></span></li></ul></li></ul></li><li><span><a href=\"#kmeans\" data-toc-modified-id=\"kmeans-4\"><span class=\"toc-item-num\">4&nbsp;&nbsp;</span>kmeans</a></span></li></ul></div>"
   ]
  },
  {
   "cell_type": "code",
   "execution_count": 0,
   "metadata": {
    "colab": {},
    "colab_type": "code",
    "id": "zxVyPkpLx-f4"
   },
   "outputs": [],
   "source": [
    "import os\n",
    "import numpy as np\n",
    "import pandas as pd\n",
    "import matplotlib\n",
    "import matplotlib.pyplot as plt\n",
    "import pickle\n",
    "import datetime\n",
    "import re\n",
    "\n",
    "import tensorflow as tf\n",
    "\n",
    "def reset_graph(seed=42):\n",
    "    tf.reset_default_graph()\n",
    "    tf.set_random_seed(seed)\n",
    "    np.random.seed(seed)\n",
    "\n",
    "matplotlib.rc('font', family='NanumBarunGothic')\n",
    "plt.rcParams['axes.unicode_minus'] = False"
   ]
  },
  {
   "cell_type": "markdown",
   "metadata": {
    "colab_type": "text",
    "id": "Qivrojrtx-f_"
   },
   "source": [
    "## 데이터 불러오기"
   ]
  },
  {
   "cell_type": "code",
   "execution_count": 0,
   "metadata": {
    "colab": {},
    "colab_type": "code",
    "id": "m1_lTV4nx-gB"
   },
   "outputs": [],
   "source": [
    "def get_dataframe(data_name_with_route):\n",
    "    ## load news data\n",
    "    with open(data_name_with_route, 'rb') as file:\n",
    "        data_list = []\n",
    "        while True:\n",
    "            try:\n",
    "                data = pickle.load(file)\n",
    "            except EOFError:\n",
    "                break\n",
    "            data_list.append(data)\n",
    "    ## construct lists for dataframe\n",
    "    title = []\n",
    "    content = []\n",
    "    date = []\n",
    "    for news in data_list[0]['return_object']['documents']: \n",
    "        title.append(news['title'])\n",
    "        content.append(news['content'])\n",
    "        date.append(news['published_at'][:10]) #### 시간 조정이 필요하면 바꾸기\n",
    "    ## make lists as dataframe\n",
    "    news_data = pd.DataFrame([])\n",
    "    news_data['date'] = date\n",
    "    news_data['title'] = title\n",
    "    news_data['content'] = content\n",
    "    return news_data"
   ]
  },
  {
   "cell_type": "code",
   "execution_count": 0,
   "metadata": {
    "colab": {},
    "colab_type": "code",
    "id": "NQF5KfyIx-gG"
   },
   "outputs": [],
   "source": [
    "data_son = get_dataframe('rawdata_손흥민.pickle')\n",
    "data_kbl = get_dataframe('rawdata_프로농구.pickle')"
   ]
  },
  {
   "cell_type": "code",
   "execution_count": 0,
   "metadata": {
    "colab": {},
    "colab_type": "code",
    "id": "6KwT-3GVx-gM"
   },
   "outputs": [],
   "source": [
    "data_son['date_tmp'] = data_son['date'].apply(lambda x: datetime.datetime.strptime(x, '%Y-%m-%d').toordinal())\n",
    "data_kbl['date_tmp'] = data_kbl['date'].apply(lambda x: datetime.datetime.strptime(x, '%Y-%m-%d').toordinal())"
   ]
  },
  {
   "cell_type": "code",
   "execution_count": 0,
   "metadata": {
    "colab": {},
    "colab_type": "code",
    "id": "RsJ8PtwUx-gU"
   },
   "outputs": [],
   "source": [
    "data_son['label'] = 0\n",
    "data_kbl['label'] = 1"
   ]
  },
  {
   "cell_type": "code",
   "execution_count": 0,
   "metadata": {
    "colab": {},
    "colab_type": "code",
    "id": "o901xelWx-ge"
   },
   "outputs": [],
   "source": [
    "data = pd.concat([data_son,data_kbl])\n",
    "data.reset_index(inplace = True)\n",
    "data.drop(['index'],axis = 1,inplace = True)"
   ]
  },
  {
   "cell_type": "markdown",
   "metadata": {
    "colab_type": "text",
    "id": "6sW1VLVox-gl"
   },
   "source": [
    "## 전처리"
   ]
  },
  {
   "cell_type": "code",
   "execution_count": 0,
   "metadata": {
    "colab": {},
    "colab_type": "code",
    "id": "lN0aL7fbx-gn"
   },
   "outputs": [],
   "source": [
    "reg_reporter = re.compile('[가-힣]+\\s[가-힣]*기자') # 기자\n",
    "reg_email = re.compile('[a-zA-Z0-9_.+-]+@[a-zA-Z0-9-]+\\.[a-zA-Z0-9-.]+$') # 이메일\n",
    "reg_eng = re.compile('[a-z]+') # 소문자 알파벳, 이메일 제거용, 대문자는 남겨둔다\n",
    "reg_chi = re.compile(\"[\\u4e00-\\u9fff]+\") # 한자\n",
    "reg_sc = re.compile(\"·|ㆍ|ㆍ|…|◆+|◇+|▶+|●+|▲+|“|”|‘|’|\\\"|\\'|\\(|\\)\") # 특수문자\n",
    "reg_date = re.compile('\\d*일|\\d*월|\\d*년|\\d*시|\\d*분|\\(현지시간\\)|\\(현지시각\\)|\\d+') #날짜,시간,숫자"
   ]
  },
  {
   "cell_type": "code",
   "execution_count": 0,
   "metadata": {
    "colab": {},
    "colab_type": "code",
    "id": "yHGP39aWx-gs"
   },
   "outputs": [],
   "source": [
    "def preProcessing(doc):\n",
    "    tmp = re.sub(reg_reporter, '', doc)\n",
    "    tmp = re.sub(reg_email, '', tmp)\n",
    "    tmp = re.sub(reg_eng, '', tmp)\n",
    "    tmp = re.sub(reg_chi, '', tmp)\n",
    "    tmp = re.sub(reg_sc, ' ', tmp)\n",
    "    tmp = re.sub(reg_date, '', tmp)\n",
    "    return tmp"
   ]
  },
  {
   "cell_type": "code",
   "execution_count": 0,
   "metadata": {
    "colab": {},
    "colab_type": "code",
    "id": "2fY17pnLx-g0"
   },
   "outputs": [],
   "source": [
    "data['content_re'] = data['content'].apply(preProcessing)"
   ]
  },
  {
   "cell_type": "markdown",
   "metadata": {
    "colab_type": "text",
    "id": "WCKiHf0Ax-g5"
   },
   "source": [
    "### 명사추출"
   ]
  },
  {
   "cell_type": "code",
   "execution_count": 0,
   "metadata": {
    "colab": {},
    "colab_type": "code",
    "id": "MpyXkBJWx-g7",
    "outputId": "65b75934-63d6-4c5c-b254-140277aa9aaa"
   },
   "outputs": [
    {
     "name": "stderr",
     "output_type": "stream",
     "text": [
      "/home/lab05/.local/lib/python3.6/site-packages/konlpy/tag/_okt.py:16: UserWarning: \"Twitter\" has changed to \"Okt\" since KoNLPy v0.4.5.\n",
      "  warn('\"Twitter\" has changed to \"Okt\" since KoNLPy v0.4.5.')\n"
     ]
    }
   ],
   "source": [
    "from ckonlpy.tag import Twitter\n",
    "twitter = Twitter()"
   ]
  },
  {
   "cell_type": "code",
   "execution_count": 0,
   "metadata": {
    "colab": {},
    "colab_type": "code",
    "id": "92Z5okQBx-hC"
   },
   "outputs": [],
   "source": [
    "## 사전 계속 추가\n",
    "add_dict = ['마우리시오', \n",
    "            '포체티노', \n",
    "            '아시안게임', \n",
    "            '그리고',]\n",
    "twitter.add_dictionary(add_dict, 'Noun')"
   ]
  },
  {
   "cell_type": "code",
   "execution_count": 0,
   "metadata": {
    "colab": {},
    "colab_type": "code",
    "id": "PaR0LBYRx-hG"
   },
   "outputs": [],
   "source": [
    "##불용어는 나중에 계속 추가!\n",
    "##text로 정리하기\n",
    "stop_basic = '''\n",
    "아\n",
    "휴\n",
    "'''\n",
    "stop_words = stop_basic.split()"
   ]
  },
  {
   "cell_type": "code",
   "execution_count": 0,
   "metadata": {
    "colab": {},
    "colab_type": "code",
    "id": "g0sAy8Nbx-hM",
    "outputId": "3c0a619f-739a-4811-c6cd-aa63bd17b692"
   },
   "outputs": [
    {
     "data": {
      "text/plain": [
       "0    [내, 챔스리그, 강, 티, 강, 확정, 손, 마, 우리, 오, 포체티노, 사진, ...\n",
       "1    [미국, 이, 아아, 최고, 스포츠스타, 손흥민, 토트넘, 집중, 조명, 은, 한국...\n",
       "2    [크루이프, 후계, 자, 아약스, 크리스티아누, 호날두, 유벤투스, 를, 네덜란드,...\n",
       "3    [네덜란드, 아약스, 크리스티아누, 호날두, 해, 이탈리아, 유벤투스, 유럽, 축구...\n",
       "4    [지난, 경기, 광주, 경찰, 기숙, 학원, 오전, 이, 걸그룹, 트와이스, 예스,...\n",
       "Name: content_re, dtype: object"
      ]
     },
     "metadata": {
      "tags": []
     },
     "output_type": "display_data"
    },
    {
     "data": {
      "text/plain": [
       "0    [내, 챔스리그, 강, 티, 강, 확정, 손, 마, 우리, 오, 포체티노, 사진, ...\n",
       "1    [미국, 이, 아아, 최고, 스포츠스타, 손흥민, 토트넘, 집중, 조명, 은, 한국...\n",
       "2    [크루이프, 후계, 자, 아약스, 크리스티아누, 호날두, 유벤투스, 를, 네덜란드,...\n",
       "3    [네덜란드, 아약스, 크리스티아누, 호날두, 해, 이탈리아, 유벤투스, 유럽, 축구...\n",
       "4    [지난, 경기, 광주, 경찰, 기숙, 학원, 오전, 이, 걸그룹, 트와이스, 예스,...\n",
       "Name: content_re, dtype: object"
      ]
     },
     "metadata": {
      "tags": []
     },
     "output_type": "display_data"
    }
   ],
   "source": [
    "tokenized_doc = data['content_re'].apply(lambda x: twitter.nouns(x))\n",
    "tokenized_doc2 = tokenized_doc.apply(lambda x: [item.lower() for item in x if item not in stop_words])\n",
    "display(tokenized_doc.head())\n",
    "display(tokenized_doc2.head())"
   ]
  },
  {
   "cell_type": "markdown",
   "metadata": {
    "colab_type": "text",
    "id": "HWZzQWGWx-hR"
   },
   "source": [
    "### word2vec(유의어 처리)"
   ]
  },
  {
   "cell_type": "code",
   "execution_count": 0,
   "metadata": {
    "colab": {},
    "colab_type": "code",
    "id": "NFtiITScx-hT"
   },
   "outputs": [],
   "source": [
    "from gensim.models import Word2Vec\n",
    "model = Word2Vec(sentences=tokenized_doc2, size=300, window=5, min_count=5, workers=4, sg=1)\n",
    "tmp = model.wv.most_similar(\"손흥민\")"
   ]
  },
  {
   "cell_type": "markdown",
   "metadata": {
    "colab_type": "text",
    "id": "a1jh35nnx-hb"
   },
   "source": [
    "### bow(불용어처리)"
   ]
  },
  {
   "cell_type": "code",
   "execution_count": 0,
   "metadata": {
    "colab": {},
    "colab_type": "code",
    "id": "YYchUO42x-he"
   },
   "outputs": [],
   "source": [
    "tmp_list = []\n",
    "for doc in tokenized_doc2:\n",
    "    tmp_list.extend(doc)"
   ]
  },
  {
   "cell_type": "code",
   "execution_count": 0,
   "metadata": {
    "colab": {},
    "colab_type": "code",
    "id": "7TNk5k7mx-hm"
   },
   "outputs": [],
   "source": [
    "word_count = pd.Series(tmp_list).value_counts()"
   ]
  },
  {
   "cell_type": "code",
   "execution_count": 0,
   "metadata": {
    "colab": {},
    "colab_type": "code",
    "id": "lT-Mgyn2x-hz"
   },
   "outputs": [],
   "source": [
    "word_count_idx = list(word_count.index)"
   ]
  },
  {
   "cell_type": "code",
   "execution_count": 0,
   "metadata": {
    "colab": {},
    "colab_type": "code",
    "id": "miwDXThkx-h-"
   },
   "outputs": [],
   "source": [
    "stop_words = word_count_idx[:10] + word_count_idx[-10:] + ['내']"
   ]
  },
  {
   "cell_type": "code",
   "execution_count": 0,
   "metadata": {
    "colab": {},
    "colab_type": "code",
    "id": "ILt4xJpVx-iH"
   },
   "outputs": [],
   "source": [
    "data['content_token'] = tokenized_doc2.apply(lambda x: [item.lower() for item in x if item not in stop_words])"
   ]
  },
  {
   "cell_type": "markdown",
   "metadata": {
    "colab_type": "text",
    "id": "-6_gdgkyx-iM"
   },
   "source": [
    "## 새로운 query를 포함한 문서 추출"
   ]
  },
  {
   "cell_type": "code",
   "execution_count": 0,
   "metadata": {
    "colab": {},
    "colab_type": "code",
    "id": "13S89dFhx-iO"
   },
   "outputs": [],
   "source": [
    "query = '경기'"
   ]
  },
  {
   "cell_type": "code",
   "execution_count": 0,
   "metadata": {
    "colab": {},
    "colab_type": "code",
    "id": "glvD_rmhx-iS"
   },
   "outputs": [],
   "source": [
    "selected_news = []\n",
    "for idx in range(tokenized_doc.shape[0]):\n",
    "    if query in tokenized_doc.iloc[idx].content_re :\n",
    "        selected_news.append(idx)"
   ]
  },
  {
   "cell_type": "code",
   "execution_count": 0,
   "metadata": {
    "colab": {},
    "colab_type": "code",
    "id": "F5-YdBsmx-iZ",
    "outputId": "e6a92809-31da-402c-84c0-53133217904b"
   },
   "outputs": [
    {
     "data": {
      "text/plain": [
       "7407"
      ]
     },
     "execution_count": 158,
     "metadata": {
      "tags": []
     },
     "output_type": "execute_result"
    }
   ],
   "source": [
    "len(selected_news)"
   ]
  },
  {
   "cell_type": "code",
   "execution_count": 0,
   "metadata": {
    "colab": {},
    "colab_type": "code",
    "id": "gjlH3GcWx-il"
   },
   "outputs": [],
   "source": [
    "query_doc = tokenized_doc.iloc[selected_news]"
   ]
  },
  {
   "cell_type": "markdown",
   "metadata": {
    "colab_type": "text",
    "id": "NVZs-kZdx-is"
   },
   "source": [
    "### tf-idf"
   ]
  },
  {
   "cell_type": "code",
   "execution_count": 0,
   "metadata": {
    "colab": {},
    "colab_type": "code",
    "id": "IXzgkLo5x-iu"
   },
   "outputs": [],
   "source": [
    "tmp = query_doc['content_re'].apply(lambda x : ' '.join(x))"
   ]
  },
  {
   "cell_type": "code",
   "execution_count": 0,
   "metadata": {
    "colab": {},
    "colab_type": "code",
    "id": "FGaCAksyx-iy"
   },
   "outputs": [],
   "source": [
    "from sklearn.feature_extraction.text import TfidfVectorizer\n",
    "from sklearn.metrics import pairwise_distances\n",
    "\n",
    "obj_tfidf = TfidfVectorizer()\n",
    "x = obj_tfidf.fit_transform(tmp)"
   ]
  },
  {
   "cell_type": "code",
   "execution_count": 0,
   "metadata": {
    "colab": {},
    "colab_type": "code",
    "id": "4gnb6gX0x-i4"
   },
   "outputs": [],
   "source": [
    "sim_mat = 1 - np.round(pairwise_distances(x, metric=\"cosine\"),3)\n",
    "np.fill_diagonal(sim_mat,-1) # 같은 문서는 유사도 -1로 처리"
   ]
  },
  {
   "cell_type": "code",
   "execution_count": 0,
   "metadata": {
    "colab": {},
    "colab_type": "code",
    "id": "movVK9uGx-i-",
    "outputId": "db941778-a46a-4706-e4ef-e68aad3ddec0"
   },
   "outputs": [
    {
     "data": {
      "text/plain": [
       "array([[-1.   ,  0.22 ,  0.115, ...,  0.019,  0.036,  0.06 ],\n",
       "       [ 0.22 , -1.   ,  0.064, ...,  0.007,  0.028,  0.029],\n",
       "       [ 0.115,  0.064, -1.   , ...,  0.005,  0.013,  0.004],\n",
       "       ...,\n",
       "       [ 0.019,  0.007,  0.005, ..., -1.   ,  0.372,  0.408],\n",
       "       [ 0.036,  0.028,  0.013, ...,  0.372, -1.   ,  0.301],\n",
       "       [ 0.06 ,  0.029,  0.004, ...,  0.408,  0.301, -1.   ]])"
      ]
     },
     "execution_count": 172,
     "metadata": {
      "tags": []
     },
     "output_type": "execute_result"
    }
   ],
   "source": [
    "sim_mat"
   ]
  },
  {
   "cell_type": "markdown",
   "metadata": {
    "colab_type": "text",
    "id": "TJoixgKPx-jF"
   },
   "source": [
    "#### 클러스터링"
   ]
  },
  {
   "cell_type": "markdown",
   "metadata": {
    "colab_type": "text",
    "id": "1CJUgmmGx-jI"
   },
   "source": [
    "kmeans, 코사인 유사도, lsa"
   ]
  },
  {
   "cell_type": "markdown",
   "metadata": {
    "colab_type": "text",
    "id": "fSBdubqax-jK"
   },
   "source": [
    "##### kmeans"
   ]
  },
  {
   "cell_type": "code",
   "execution_count": 0,
   "metadata": {
    "colab": {},
    "colab_type": "code",
    "id": "1Wm835fBx-jL"
   },
   "outputs": [],
   "source": [
    "from sklearn.cluster import KMeans\n",
    "kmeans = KMeans(n_clusters = 2,random_state=0).fit(x)"
   ]
  },
  {
   "cell_type": "code",
   "execution_count": 0,
   "metadata": {
    "colab": {},
    "colab_type": "code",
    "id": "pQEwNdbdx-jS"
   },
   "outputs": [],
   "source": [
    "kmeans_label = kmeans.labels_\n",
    "label = data['label'][selected_news]"
   ]
  },
  {
   "cell_type": "code",
   "execution_count": 0,
   "metadata": {
    "colab": {},
    "colab_type": "code",
    "id": "0za5gJz1x-ja",
    "outputId": "13b9f7d4-0bd6-4984-f6da-7d655bc06234"
   },
   "outputs": [
    {
     "data": {
      "text/plain": [
       "0.9823140272715"
      ]
     },
     "execution_count": 191,
     "metadata": {
      "tags": []
     },
     "output_type": "execute_result"
    }
   ],
   "source": [
    "np.sum((label==kmeans_label)*1)/len(kmeans_label)"
   ]
  },
  {
   "cell_type": "markdown",
   "metadata": {
    "colab_type": "text",
    "id": "JN_JkiI-x-jh"
   },
   "source": [
    "### doc2vec"
   ]
  },
  {
   "cell_type": "code",
   "execution_count": 0,
   "metadata": {
    "colab": {},
    "colab_type": "code",
    "id": "plYfEdogyEtG"
   },
   "outputs": [],
   "source": [
    "from gensim.models.doc2vec import Doc2Vec, TaggedDocument\n",
    "\n",
    "tagged_data = [TaggedDocument(words=_d, tags=[str(i)]) for i, _d in enumerate(query_doc)]\n",
    "model = Doc2Vec(\n",
    "    dm=1,            # PV-DBOW => 0 / default 1\n",
    "    dbow_words=1,    # w2v simultaneous with DBOW d2v / default 0\n",
    "    window=8,        # distance between the predicted word and context words\n",
    "    vector_size=50,        # vector size\n",
    "    alpha=0.025,     # learning-rate\n",
    "    seed=42,\n",
    "    min_count=5,    # ignore with freq lower\n",
    "    min_alpha=0.025, # min learning-rate\n",
    "    workers=4,   # multi cpu\n",
    "    hs = 0,          # hierarchical softmax / default 0\n",
    "    negative = 10,   # negative sampling / default 5\n",
    ")"
   ]
  },
  {
   "cell_type": "code",
   "execution_count": 0,
   "metadata": {
    "colab": {},
    "colab_type": "code",
    "id": "YpJYNs9wyEqA"
   },
   "outputs": [],
   "source": [
    "model.build_vocab(tagged_data)\n",
    "model.corpus_count"
   ]
  },
  {
   "cell_type": "code",
   "execution_count": 0,
   "metadata": {
    "colab": {},
    "colab_type": "code",
    "id": "3lBN9RMYyEm4"
   },
   "outputs": [],
   "source": [
    "n_epochs = 50\n",
    "\n",
    "for epoch in range(n_epochs):\n",
    "    if epoch % 10 == 0: \n",
    "        print('epoch: ', epoch)\n",
    "    model.train(tagged_data,\n",
    "                total_examples=model.corpus_count,\n",
    "                epochs=model.epochs)\n",
    "    model.alpha -= 0.0002 # decrease the learning rate\n",
    "    model.min_alpha = model.alpha # fix the learning rate, no decay\n",
    "    \n",
    "model.save(\"d2v.model\")\n",
    "print(\"Model Saved\")"
   ]
  },
  {
   "cell_type": "code",
   "execution_count": 0,
   "metadata": {
    "colab": {},
    "colab_type": "code",
    "id": "FrRVMxA5yEkf"
   },
   "outputs": [],
   "source": [
    "model.wv.most_similar(positive=['조현우'])"
   ]
  },
  {
   "cell_type": "code",
   "execution_count": 0,
   "metadata": {
    "colab": {},
    "colab_type": "code",
    "id": "jl026JGCyEhp"
   },
   "outputs": [],
   "source": [
    "model.wv.most_similar(positive=['손흥민', '농구'], negative=['축구'])"
   ]
  },
  {
   "cell_type": "code",
   "execution_count": 0,
   "metadata": {
    "colab": {},
    "colab_type": "code",
    "id": "wUzNO6Z2yEew"
   },
   "outputs": [],
   "source": [
    "model.wv.most_similar(positive=['손흥민', '이승우'], negative=['토트넘'])"
   ]
  },
  {
   "cell_type": "code",
   "execution_count": 0,
   "metadata": {
    "colab": {},
    "colab_type": "code",
    "id": "7Mzm5UtRyEb8"
   },
   "outputs": [],
   "source": [
    "from sklearn.preprocessing import StandardScaler\n",
    "\n",
    "x_doc2vec = []\n",
    "for i in range(len(query_doc)):\n",
    "    x_doc2vec.append(model.docvecs[i])\n",
    "x_doc2vec = np.array(x_doc2vec)\n",
    "\n",
    "x_doc2vec_scaled = StandardScaler().fit_transform(x_doc2vec)"
   ]
  },
  {
   "cell_type": "code",
   "execution_count": 0,
   "metadata": {
    "colab": {},
    "colab_type": "code",
    "id": "Y4-E60tkqE47"
   },
   "outputs": [],
   "source": [
    "from sklearn.manifold import TSNE\n",
    "from sklearn.decomposition import PCA\n",
    "\n",
    "x_doc2vec_scaled_tmp = x_doc2vec_scaled[:100]\n",
    "\n",
    "t_sne = TSNE(n_components=3, learning_rate=200, init='pca', random_state=10)\n",
    "t_sne_doc2vec = t_sne.fit_transform(x_doc2vec_scaled_tmp)\n",
    "\n",
    "pca1 = PCA(n_components=3)\n",
    "pca_doc2vec = pca1.fit_transform(x_doc2vec_scaled_tmp)"
   ]
  },
  {
   "cell_type": "markdown",
   "metadata": {
    "colab_type": "text",
    "id": "abhBX07IyQgo"
   },
   "source": [
    "kmeans"
   ]
  },
  {
   "cell_type": "code",
   "execution_count": 0,
   "metadata": {
    "colab": {},
    "colab_type": "code",
    "id": "YCOYz-BmySD6"
   },
   "outputs": [],
   "source": [
    "from sklearn.cluster import KMeans\n",
    "n_clusters = 3\n",
    "kmeans_doc2vec = KMeans(n_clusters = n_clusters, random_state=3).fit(x_doc2vec_scaled_tmp)"
   ]
  },
  {
   "cell_type": "code",
   "execution_count": 0,
   "metadata": {
    "colab": {},
    "colab_type": "code",
    "id": "hM6PizBXyR8V"
   },
   "outputs": [],
   "source": [
    "kmeans_labels = kmeans_doc2vec.labels_\n",
    "kmeans_labels[:100]"
   ]
  },
  {
   "cell_type": "code",
   "execution_count": 0,
   "metadata": {
    "colab": {},
    "colab_type": "code",
    "id": "98SLna4PyT6B"
   },
   "outputs": [],
   "source": [
    "np.sum((label==kmeat_sne_kmeans_pd = np.c_[t_sne_doc2vec, kmeans_labels]\n",
    "pca_kmeans_pd = np.c_[pca_doc2vec, kmeans_labels]\n",
    "\n",
    "t_sne_kmeans_pd = pd.DataFrame(t_sne_kmeans_pd, columns=['x', 'y', 'z', 'labels'])\n",
    "pca_kmeans_pd = pd.DataFrame(pca_kmeans_pd, columns=['x', 'y', 'z', 'labels'])ns_doc2vec_label)*1)/len(kmeans_doc2vec_label)"
   ]
  },
  {
   "cell_type": "markdown",
   "metadata": {
    "colab_type": "text",
    "id": "3LOlyFxdqXnJ"
   },
   "source": [
    "3차원"
   ]
  },
  {
   "cell_type": "code",
   "execution_count": 0,
   "metadata": {
    "colab": {},
    "colab_type": "code",
    "id": "Ky8TKB70qNcB"
   },
   "outputs": [],
   "source": [
    "from mpl_toolkits.mplot3d import Axes3D\n",
    "\n",
    "groups = t_sne_kmeans_pd.groupby('labels')\n",
    "\n",
    "fig = plt.figure()\n",
    "ax = Axes3D(fig)\n",
    "for name, group in groups:\n",
    "    ax.scatter(group.x, \n",
    "            group.y,\n",
    "            group.z,\n",
    "            marker='o', \n",
    "           label=name)\n",
    "#ax.legend(fontsize=12, loc='upper left') # legend position\n",
    "plt.title('TSNE Plot of kmeans', fontsize=20)\n",
    "plt.show()"
   ]
  },
  {
   "cell_type": "code",
   "execution_count": 0,
   "metadata": {
    "colab": {},
    "colab_type": "code",
    "id": "4T7kB7gVqQPx"
   },
   "outputs": [],
   "source": [
    "from mpl_toolkits.mplot3d import Axes3D\n",
    "\n",
    "groups = t_sne_kmeans_pd.groupby('labels')\n",
    "\n",
    "fig = plt.figure()\n",
    "ax = Axes3D(fig)\n",
    "for name, group in groups:\n",
    "    ax.scatter(group.x, \n",
    "            group.y,\n",
    "            group.z,\n",
    "            marker='o', \n",
    "           label=name)\n",
    "#ax.legend(fontsize=12, loc='upper left') # legend position\n",
    "plt.title('TSNE Plot of kmeans', fontsize=20)\n",
    "plt.show()"
   ]
  },
  {
   "cell_type": "markdown",
   "metadata": {
    "colab_type": "text",
    "id": "fJ8_F5u_qa_W"
   },
   "source": [
    "2차원"
   ]
  },
  {
   "cell_type": "code",
   "execution_count": 0,
   "metadata": {
    "colab": {},
    "colab_type": "code",
    "id": "kDWCzjjVqb9f"
   },
   "outputs": [],
   "source": [
    "from sklearn.manifold import TSNE\n",
    "from sklearn.decomposition import PCA\n",
    "\n",
    "t_sne = TSNE(n_components=2, learning_rate=200, init='pca', random_state=10)\n",
    "t_sne_doc2vec = t_sne.fit_transform(x_doc2vec_scaled_tmp)\n",
    "\n",
    "pca1 = PCA(n_components=2)\n",
    "pca_doc2vec = pca1.fit_transform(x_doc2vec_scaled_tmp)"
   ]
  },
  {
   "cell_type": "code",
   "execution_count": 0,
   "metadata": {
    "colab": {},
    "colab_type": "code",
    "id": "bJuoO6xxqeXb"
   },
   "outputs": [],
   "source": [
    "t_sne_kmeans_pd = np.c_[t_sne_doc2vec, kmeans_labels]\n",
    "pca_kmeans_pd = np.c_[pca_doc2vec, kmeans_labels]\n",
    "\n",
    "t_sne_kmeans_pd = pd.DataFrame(t_sne_kmeans_pd, columns=['x', 'y', 'labels'])\n",
    "pca_kmeans_pd = pd.DataFrame(pca_kmeans_pd, columns=['x', 'y', 'labels'])"
   ]
  },
  {
   "cell_type": "code",
   "execution_count": 0,
   "metadata": {
    "colab": {},
    "colab_type": "code",
    "id": "zWRKWZ27qiWk"
   },
   "outputs": [],
   "source": [
    "groups = t_sne_kmeans_pd.groupby('labels')\n",
    "\n",
    "fig, ax = plt.subplots()\n",
    "for name, group in groups:\n",
    "    ax.plot(group.x, \n",
    "            group.y, \n",
    "            marker='o', \n",
    "            linestyle='',\n",
    "            label=name)\n",
    "\n",
    "#ax.legend(fontsize=12, loc='upper left') # legend position\n",
    "plt.title('TSNE Plot of kmeans', fontsize=20)\n",
    "plt.xlabel('x', fontsize=14)\n",
    "plt.ylabel('y', fontsize=14)\n",
    "plt.show()"
   ]
  },
  {
   "cell_type": "code",
   "execution_count": 0,
   "metadata": {
    "colab": {},
    "colab_type": "code",
    "id": "TdwnC74WqkLN"
   },
   "outputs": [],
   "source": [
    "groups = pca_kmeans_pd.groupby('labels')\n",
    "\n",
    "fig, ax = plt.subplots()\n",
    "for name, group in groups:\n",
    "    ax.plot(group.x, \n",
    "            group.y, \n",
    "            marker='o', \n",
    "            linestyle='',\n",
    "            label=name)\n",
    "\n",
    "#ax.legend(fontsize=12, loc='upper left') # legend position\n",
    "plt.title('PCA Plot of kmeans', fontsize=20)\n",
    "plt.xlabel('x', fontsize=14)\n",
    "plt.ylabel('y', fontsize=14)\n",
    "plt.show()"
   ]
  },
  {
   "cell_type": "markdown",
   "metadata": {
    "colab_type": "text",
    "id": "MfiAKoiWqmam"
   },
   "source": [
    "뉴스 확인"
   ]
  },
  {
   "cell_type": "code",
   "execution_count": 0,
   "metadata": {
    "colab": {},
    "colab_type": "code",
    "id": "F38tbw3Xqnwa"
   },
   "outputs": [],
   "source": [
    "data_cluster_kmeans = data.iloc[selected_news].copy()\n",
    "data_cluster_kmeans_tmp = data_cluster_kmeans.iloc[:100].copy()\n",
    "data_cluster_kmeans_tmp['label'] = kmeans_labels"
   ]
  },
  {
   "cell_type": "code",
   "execution_count": 0,
   "metadata": {
    "colab": {},
    "colab_type": "code",
    "id": "9dEdLpsbqo3A"
   },
   "outputs": [],
   "source": [
    "for n in range(n_clusters):\n",
    "    print('*' * 100, n)\n",
    "    print('*' * 100, n)\n",
    "    print('*' * 100, n)\n",
    "    for i in range(2):\n",
    "            print(data_cluster_kmeans_tmp[data_cluster_kmeans_tmp['label'] == n]['content'].iloc[i])\n",
    "            print('=' *100)\n",
    "    print('#' * 100, n)"
   ]
  },
  {
   "cell_type": "markdown",
   "metadata": {
    "colab_type": "text",
    "id": "ASwzwBp8x-ji"
   },
   "source": [
    "#### DBSCAN"
   ]
  },
  {
   "cell_type": "code",
   "execution_count": 0,
   "metadata": {
    "colab": {},
    "colab_type": "code",
    "id": "iL0mvwL8x-j8"
   },
   "outputs": [],
   "source": [
    "from sklearn.cluster import DBSCAN\n",
    "## eps 조절 잘해보기\n",
    "dbscan_labels = DBSCAN(eps=7, min_samples=2).fit_predict(x_doc2vec_scaled_tmp)\n",
    "dbscan_labels"
   ]
  },
  {
   "cell_type": "markdown",
   "metadata": {
    "colab_type": "text",
    "id": "3B0Vgpi2q5VC"
   },
   "source": [
    "시각화(2차원)"
   ]
  },
  {
   "cell_type": "code",
   "execution_count": 0,
   "metadata": {
    "colab": {},
    "colab_type": "code",
    "id": "ITIJ1U1RqyF4"
   },
   "outputs": [],
   "source": [
    "t_sne_dbscan_pd = np.c_[t_sne_doc2vec, dbscan_labels]\n",
    "pca_dbscan_pd = np.c_[pca_doc2vec, dbscan_labels]\n",
    "\n",
    "t_sne_dbscan_pd = pd.DataFrame(t_sne_dbscan_pd, columns=['x', 'y', 'labels'])\n",
    "pca_dbscan_pd = pd.DataFrame(pca_dbscan_pd, columns=['x', 'y', 'labels'])"
   ]
  },
  {
   "cell_type": "code",
   "execution_count": 0,
   "metadata": {
    "colab": {},
    "colab_type": "code",
    "id": "11Ou_IbzqzJu"
   },
   "outputs": [],
   "source": [
    "groups = t_sne_dbscan_pd.groupby('labels')\n",
    "\n",
    "fig, ax = plt.subplots()\n",
    "for name, group in groups:\n",
    "    ax.plot(group.x, \n",
    "            group.y, \n",
    "            marker='o', \n",
    "            linestyle='',\n",
    "            label=name)\n",
    "\n",
    "#ax.legend(fontsize=12, loc='upper left') # legend position\n",
    "plt.title('TSNE Plot of dbscan', fontsize=20)\n",
    "plt.xlabel('x', fontsize=14)\n",
    "plt.ylabel('y', fontsize=14)\n",
    "plt.show()"
   ]
  },
  {
   "cell_type": "code",
   "execution_count": 0,
   "metadata": {
    "colab": {},
    "colab_type": "code",
    "id": "Z7szWwZXq0yx"
   },
   "outputs": [],
   "source": [
    "groups = pca_dbscan_pd.groupby('labels')\n",
    "\n",
    "fig, ax = plt.subplots()\n",
    "for name, group in groups:\n",
    "    ax.plot(group.x, \n",
    "            group.y, \n",
    "            marker='o', \n",
    "            linestyle='',\n",
    "            label=name)\n",
    "\n",
    "#ax.legend(fontsize=12, loc='upper left') # legend position\n",
    "plt.title('PCA Plot of dbscan', fontsize=20)\n",
    "plt.xlabel('x', fontsize=14)\n",
    "plt.ylabel('y', fontsize=14)\n",
    "plt.show()"
   ]
  },
  {
   "cell_type": "markdown",
   "metadata": {
    "colab_type": "text",
    "id": "YiYAgb12q3OY"
   },
   "source": [
    "뉴스 확인"
   ]
  },
  {
   "cell_type": "code",
   "execution_count": 0,
   "metadata": {
    "colab": {},
    "colab_type": "code",
    "id": "rKDuOQ2cq16q"
   },
   "outputs": [],
   "source": [
    "groups = pca_dbscan_pd.groupby('labels')\n",
    "\n",
    "fig, ax = plt.subplots()\n",
    "for name, group in groups:\n",
    "    ax.plot(group.x, \n",
    "            group.y, \n",
    "            marker='o', \n",
    "            linestyle='',\n",
    "            label=name)\n",
    "\n",
    "#ax.legend(fontsize=12, loc='upper left') # legend position\n",
    "plt.title('PCA Plot of dbscan', fontsize=20)\n",
    "plt.xlabel('x', fontsize=14)\n",
    "plt.ylabel('y', fontsize=14)\n",
    "plt.show()"
   ]
  },
  {
   "cell_type": "code",
   "execution_count": 0,
   "metadata": {
    "colab": {},
    "colab_type": "code",
    "id": "mrtSdhLoq8kr"
   },
   "outputs": [],
   "source": [
    "for n in range(-1, 10):\n",
    "    print('*' * 100, n)\n",
    "    print('*' * 100, n)\n",
    "    print('*' * 100, n)    \n",
    "    for i in range(2):\n",
    "        try:\n",
    "            print(data_cluster_dbscan_tmp[data_cluster_dbscan_tmp['label'] == n]['content'].iloc[i])\n",
    "            print('=' *100)\n",
    "        except:\n",
    "            break\n",
    "    print('#' * 100, n)\n"
   ]
  },
  {
   "cell_type": "markdown",
   "metadata": {
    "colab_type": "text",
    "id": "3rZvmyfru7Iq"
   },
   "source": [
    "클러스터별 뉴스 선별 기준\n",
    "1. BM25\n",
    "2. TF-IDF\n",
    "3. Page Rank\n",
    "4. 수작업"
   ]
  },
  {
   "cell_type": "code",
   "execution_count": 0,
   "metadata": {
    "colab": {},
    "colab_type": "code",
    "id": "DKiIUo-TvDwm"
   },
   "outputs": [],
   "source": []
  }
 ],
 "metadata": {
  "colab": {
   "collapsed_sections": [],
   "name": "그룹작업.ipynb",
   "provenance": [],
   "version": "0.3.2"
  },
  "kernelspec": {
   "display_name": "Python 3",
   "language": "python",
   "name": "python3"
  },
  "language_info": {
   "codemirror_mode": {
    "name": "ipython",
    "version": 3
   },
   "file_extension": ".py",
   "mimetype": "text/x-python",
   "name": "python",
   "nbconvert_exporter": "python",
   "pygments_lexer": "ipython3",
   "version": "3.6.5"
  }
 },
 "nbformat": 4,
 "nbformat_minor": 1
}
