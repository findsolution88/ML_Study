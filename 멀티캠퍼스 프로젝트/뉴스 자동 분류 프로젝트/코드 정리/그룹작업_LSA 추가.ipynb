{
 "cells": [
  {
   "cell_type": "markdown",
   "metadata": {
    "toc": true
   },
   "source": [
    "<h1>Table of Contents<span class=\"tocSkip\"></span></h1>\n",
    "<div class=\"toc\"><ul class=\"toc-item\"><li><span><a href=\"#데이터-불러오기\" data-toc-modified-id=\"데이터-불러오기-1\"><span class=\"toc-item-num\">1&nbsp;&nbsp;</span>데이터 불러오기</a></span></li><li><span><a href=\"#전처리\" data-toc-modified-id=\"전처리-2\"><span class=\"toc-item-num\">2&nbsp;&nbsp;</span>전처리</a></span><ul class=\"toc-item\"><li><span><a href=\"#명사추출\" data-toc-modified-id=\"명사추출-2.1\"><span class=\"toc-item-num\">2.1&nbsp;&nbsp;</span>명사추출</a></span></li><li><span><a href=\"#word2vec(유의어-처리)\" data-toc-modified-id=\"word2vec(유의어-처리)-2.2\"><span class=\"toc-item-num\">2.2&nbsp;&nbsp;</span>word2vec(유의어 처리)</a></span></li><li><span><a href=\"#bow(불용어처리)\" data-toc-modified-id=\"bow(불용어처리)-2.3\"><span class=\"toc-item-num\">2.3&nbsp;&nbsp;</span>bow(불용어처리)</a></span></li></ul></li><li><span><a href=\"#새로운-query를-포함한-문서-추출\" data-toc-modified-id=\"새로운-query를-포함한-문서-추출-3\"><span class=\"toc-item-num\">3&nbsp;&nbsp;</span>새로운 query를 포함한 문서 추출</a></span><ul class=\"toc-item\"><li><span><a href=\"#tf-idf\" data-toc-modified-id=\"tf-idf-3.1\"><span class=\"toc-item-num\">3.1&nbsp;&nbsp;</span>tf-idf</a></span><ul class=\"toc-item\"><li><span><a href=\"#클러스터링\" data-toc-modified-id=\"클러스터링-3.1.1\"><span class=\"toc-item-num\">3.1.1&nbsp;&nbsp;</span>클러스터링</a></span><ul class=\"toc-item\"><li><span><a href=\"#kmeans\" data-toc-modified-id=\"kmeans-3.1.1.1\"><span class=\"toc-item-num\">3.1.1.1&nbsp;&nbsp;</span>kmeans</a></span></li><li><span><a href=\"#lsa\" data-toc-modified-id=\"lsa-3.1.1.2\"><span class=\"toc-item-num\">3.1.1.2&nbsp;&nbsp;</span>lsa</a></span></li></ul></li></ul></li><li><span><a href=\"#doc2vec\" data-toc-modified-id=\"doc2vec-3.2\"><span class=\"toc-item-num\">3.2&nbsp;&nbsp;</span>doc2vec</a></span><ul class=\"toc-item\"><li><span><a href=\"#클러스터링\" data-toc-modified-id=\"클러스터링-3.2.1\"><span class=\"toc-item-num\">3.2.1&nbsp;&nbsp;</span>클러스터링</a></span></li></ul></li></ul></li><li><span><a href=\"#kmeans\" data-toc-modified-id=\"kmeans-4\"><span class=\"toc-item-num\">4&nbsp;&nbsp;</span>kmeans</a></span></li></ul></div>"
   ]
  },
  {
   "cell_type": "code",
   "execution_count": null,
   "metadata": {
    "ExecuteTime": {
     "end_time": "2019-04-24T07:19:53.469054Z",
     "start_time": "2019-04-24T07:19:08.820597Z"
    }
   },
   "outputs": [
    {
     "name": "stdout",
     "output_type": "stream",
     "text": [
      "Requirement already satisfied: tensorflow in c:\\programdata\\anaconda3\\lib\\site-packages (1.13.1)\n",
      "Requirement already satisfied: numpy>=1.13.3 in c:\\programdata\\anaconda3\\lib\\site-packages (from tensorflow) (1.14.3)\n",
      "Requirement already satisfied: tensorflow-estimator<1.14.0rc0,>=1.13.0 in c:\\programdata\\anaconda3\\lib\\site-packages (from tensorflow) (1.13.0)\n",
      "Requirement already satisfied: grpcio>=1.8.6 in c:\\programdata\\anaconda3\\lib\\site-packages (from tensorflow) (1.20.1)\n",
      "Requirement already satisfied: six>=1.10.0 in c:\\programdata\\anaconda3\\lib\\site-packages (from tensorflow) (1.11.0)\n",
      "Requirement already satisfied: keras-preprocessing>=1.0.5 in c:\\programdata\\anaconda3\\lib\\site-packages (from tensorflow) (1.0.9)\n",
      "Requirement already satisfied: gast>=0.2.0 in c:\\programdata\\anaconda3\\lib\\site-packages (from tensorflow) (0.2.2)\n",
      "Requirement already satisfied: tensorboard<1.14.0,>=1.13.0 in c:\\programdata\\anaconda3\\lib\\site-packages (from tensorflow) (1.13.1)\n",
      "Requirement already satisfied: termcolor>=1.1.0 in c:\\programdata\\anaconda3\\lib\\site-packages (from tensorflow) (1.1.0)\n",
      "Requirement already satisfied: absl-py>=0.1.6 in c:\\programdata\\anaconda3\\lib\\site-packages (from tensorflow) (0.7.1)\n",
      "Requirement already satisfied: wheel>=0.26 in c:\\programdata\\anaconda3\\lib\\site-packages (from tensorflow) (0.31.1)\n",
      "Requirement already satisfied: keras-applications>=1.0.6 in c:\\programdata\\anaconda3\\lib\\site-packages (from tensorflow) (1.0.7)\n",
      "Requirement already satisfied: astor>=0.6.0 in c:\\programdata\\anaconda3\\lib\\site-packages (from tensorflow) (0.7.1)\n",
      "Requirement already satisfied: protobuf>=3.6.1 in c:\\programdata\\anaconda3\\lib\\site-packages (from tensorflow) (3.7.1)\n",
      "Requirement already satisfied: mock>=2.0.0 in c:\\programdata\\anaconda3\\lib\\site-packages (from tensorflow-estimator<1.14.0rc0,>=1.13.0->tensorflow) (2.0.0)\n",
      "Requirement already satisfied: werkzeug>=0.11.15 in c:\\programdata\\anaconda3\\lib\\site-packages (from tensorboard<1.14.0,>=1.13.0->tensorflow) (0.14.1)\n",
      "Requirement already satisfied: markdown>=2.6.8 in c:\\programdata\\anaconda3\\lib\\site-packages (from tensorboard<1.14.0,>=1.13.0->tensorflow) (3.1)\n",
      "Requirement already satisfied: h5py in c:\\programdata\\anaconda3\\lib\\site-packages (from keras-applications>=1.0.6->tensorflow) (2.7.1)\n",
      "Requirement already satisfied: setuptools in c:\\programdata\\anaconda3\\lib\\site-packages (from protobuf>=3.6.1->tensorflow) (39.1.0)\n",
      "Requirement already satisfied: pbr>=0.11 in c:\\programdata\\anaconda3\\lib\\site-packages (from mock>=2.0.0->tensorflow-estimator<1.14.0rc0,>=1.13.0->tensorflow) (5.2.0)\n"
     ]
    },
    {
     "name": "stderr",
     "output_type": "stream",
     "text": [
      "You are using pip version 19.0.3, however version 19.1 is available.\n",
      "You should consider upgrading via the 'python -m pip install --upgrade pip' command.\n"
     ]
    },
    {
     "ename": "ModuleNotFoundError",
     "evalue": "No module named 'numpy.core._multiarray_umath'",
     "output_type": "error",
     "traceback": [
      "\u001b[1;31m---------------------------------------------------------------------------\u001b[0m",
      "\u001b[1;31mModuleNotFoundError\u001b[0m                       Traceback (most recent call last)",
      "\u001b[1;31mModuleNotFoundError\u001b[0m: No module named 'numpy.core._multiarray_umath'"
     ]
    },
    {
     "ename": "SystemError",
     "evalue": "<class '_frozen_importlib._ModuleLockManager'> returned a result with an error set",
     "output_type": "error",
     "traceback": [
      "\u001b[1;31m---------------------------------------------------------------------------\u001b[0m",
      "\u001b[1;31mImportError\u001b[0m                               Traceback (most recent call last)",
      "\u001b[1;31mImportError\u001b[0m: numpy.core.multiarray failed to import",
      "\nThe above exception was the direct cause of the following exception:\n",
      "\u001b[1;31mSystemError\u001b[0m                               Traceback (most recent call last)",
      "\u001b[1;32mC:\\ProgramData\\Anaconda3\\lib\\importlib\\_bootstrap.py\u001b[0m in \u001b[0;36m_find_and_load\u001b[1;34m(name, import_)\u001b[0m\n",
      "\u001b[1;31mSystemError\u001b[0m: <class '_frozen_importlib._ModuleLockManager'> returned a result with an error set"
     ]
    },
    {
     "ename": "ImportError",
     "evalue": "numpy.core._multiarray_umath failed to import",
     "output_type": "error",
     "traceback": [
      "\u001b[1;31m---------------------------------------------------------------------------\u001b[0m",
      "\u001b[1;31mImportError\u001b[0m                               Traceback (most recent call last)",
      "\u001b[1;31mImportError\u001b[0m: numpy.core._multiarray_umath failed to import"
     ]
    },
    {
     "ename": "ImportError",
     "evalue": "numpy.core.umath failed to import",
     "output_type": "error",
     "traceback": [
      "\u001b[1;31m---------------------------------------------------------------------------\u001b[0m",
      "\u001b[1;31mImportError\u001b[0m                               Traceback (most recent call last)",
      "\u001b[1;31mImportError\u001b[0m: numpy.core.umath failed to import"
     ]
    }
   ],
   "source": [
    "!pip install tensorflow\n",
    "import os\n",
    "import numpy as np\n",
    "import pandas as pd\n",
    "import matplotlib\n",
    "import matplotlib.pyplot as plt\n",
    "import pickle\n",
    "import datetime\n",
    "import re\n",
    "\n",
    "import tensorflow as tf\n",
    "\n",
    "def reset_graph(seed=42):\n",
    "    tf.reset_default_graph()\n",
    "    tf.set_random_seed(seed)\n",
    "    np.random.seed(seed)\n",
    "\n",
    "matplotlib.rc('font', family='NanumBarunGothic')\n",
    "plt.rcParams['axes.unicode_minus'] = False"
   ]
  },
  {
   "cell_type": "markdown",
   "metadata": {},
   "source": [
    "## 데이터 불러오기"
   ]
  },
  {
   "cell_type": "code",
   "execution_count": 2,
   "metadata": {
    "ExecuteTime": {
     "end_time": "2019-04-24T07:20:07.263326Z",
     "start_time": "2019-04-24T07:20:07.250334Z"
    }
   },
   "outputs": [],
   "source": [
    "def get_dataframe(data_name_with_route):\n",
    "    ## load news data\n",
    "    with open(data_name_with_route, 'rb') as file:\n",
    "        data_list = []\n",
    "        while True:\n",
    "            try:\n",
    "                data = pickle.load(file)\n",
    "            except EOFError:\n",
    "                break\n",
    "            data_list.append(data)\n",
    "    ## construct lists for dataframe\n",
    "    title = []\n",
    "    content = []\n",
    "    date = []\n",
    "    for news in data_list[0]['return_object']['documents']: \n",
    "        title.append(news['title'])\n",
    "        content.append(news['content'])\n",
    "        date.append(news['published_at'][:10]) #### 시간 조정이 필요하면 바꾸기\n",
    "    ## make lists as dataframe\n",
    "    news_data = pd.DataFrame([])\n",
    "    news_data['date'] = date\n",
    "    news_data['title'] = title\n",
    "    news_data['content'] = content\n",
    "    return news_data"
   ]
  },
  {
   "cell_type": "code",
   "execution_count": 3,
   "metadata": {
    "ExecuteTime": {
     "end_time": "2019-04-24T07:20:56.910958Z",
     "start_time": "2019-04-24T07:20:56.382252Z"
    }
   },
   "outputs": [],
   "source": [
    "data_son = get_dataframe('rawdata_손흥민.pickle')\n",
    "data_kbl = get_dataframe('rawdata_프로농구.pickle')"
   ]
  },
  {
   "cell_type": "code",
   "execution_count": 4,
   "metadata": {
    "ExecuteTime": {
     "end_time": "2019-04-24T07:20:58.774921Z",
     "start_time": "2019-04-24T07:20:58.524026Z"
    }
   },
   "outputs": [],
   "source": [
    "data_son['date_tmp'] = data_son['date'].apply(lambda x: datetime.datetime.strptime(x, '%Y-%m-%d').toordinal())\n",
    "data_kbl['date_tmp'] = data_kbl['date'].apply(lambda x: datetime.datetime.strptime(x, '%Y-%m-%d').toordinal())"
   ]
  },
  {
   "cell_type": "code",
   "execution_count": 5,
   "metadata": {
    "ExecuteTime": {
     "end_time": "2019-04-24T07:21:00.241061Z",
     "start_time": "2019-04-24T07:21:00.235048Z"
    }
   },
   "outputs": [],
   "source": [
    "data_son['label'] = 0\n",
    "data_kbl['label'] = 1"
   ]
  },
  {
   "cell_type": "code",
   "execution_count": 6,
   "metadata": {
    "ExecuteTime": {
     "end_time": "2019-04-24T07:21:00.600854Z",
     "start_time": "2019-04-24T07:21:00.577852Z"
    }
   },
   "outputs": [],
   "source": [
    "data = pd.concat([data_son,data_kbl])\n",
    "data.reset_index(inplace = True)\n",
    "data.drop(['index'],axis = 1,inplace = True)"
   ]
  },
  {
   "cell_type": "markdown",
   "metadata": {},
   "source": [
    "## 전처리"
   ]
  },
  {
   "cell_type": "code",
   "execution_count": 7,
   "metadata": {
    "ExecuteTime": {
     "end_time": "2019-04-24T07:21:01.645257Z",
     "start_time": "2019-04-24T07:21:01.628252Z"
    }
   },
   "outputs": [],
   "source": [
    "reg_reporter = re.compile('[가-힣]+\\s[가-힣]*기자') # 기자\n",
    "reg_email = re.compile('[a-zA-Z0-9_.+-]+@[a-zA-Z0-9-]+\\.[a-zA-Z0-9-.]+$') # 이메일\n",
    "reg_eng = re.compile('[a-z]+') # 소문자 알파벳, 이메일 제거용, 대문자는 남겨둔다\n",
    "reg_chi = re.compile(\"[\\u4e00-\\u9fff]+\") # 한자\n",
    "reg_sc = re.compile(\"·|ㆍ|ㆍ|…|◆+|◇+|▶+|●+|▲+|“|”|‘|’|\\\"|\\'|\\(|\\)\") # 특수문자\n",
    "reg_date = re.compile('\\d*일|\\d*월|\\d*년|\\d*시|\\d*분|\\(현지시간\\)|\\(현지시각\\)|\\d+') #날짜,시간,숫자"
   ]
  },
  {
   "cell_type": "code",
   "execution_count": 8,
   "metadata": {
    "ExecuteTime": {
     "end_time": "2019-04-24T07:21:02.733636Z",
     "start_time": "2019-04-24T07:21:02.724625Z"
    }
   },
   "outputs": [],
   "source": [
    "def preProcessing(doc):\n",
    "    tmp = re.sub(reg_reporter, '', doc)\n",
    "    tmp = re.sub(reg_email, '', tmp)\n",
    "    tmp = re.sub(reg_eng, '', tmp)\n",
    "    tmp = re.sub(reg_chi, '', tmp)\n",
    "    tmp = re.sub(reg_sc, ' ', tmp)\n",
    "    tmp = re.sub(reg_date, '', tmp)\n",
    "    return tmp"
   ]
  },
  {
   "cell_type": "code",
   "execution_count": 9,
   "metadata": {
    "ExecuteTime": {
     "end_time": "2019-04-24T07:21:14.507926Z",
     "start_time": "2019-04-24T07:21:03.332274Z"
    }
   },
   "outputs": [],
   "source": [
    "data['content_re'] = data['content'].apply(preProcessing)"
   ]
  },
  {
   "cell_type": "markdown",
   "metadata": {},
   "source": [
    "### 명사추출"
   ]
  },
  {
   "cell_type": "code",
   "execution_count": 19,
   "metadata": {
    "ExecuteTime": {
     "end_time": "2019-04-24T07:28:51.059907Z",
     "start_time": "2019-04-24T07:28:40.646844Z"
    }
   },
   "outputs": [
    {
     "name": "stdout",
     "output_type": "stream",
     "text": [
      "Collecting customized_konlpy\n",
      "  Downloading https://files.pythonhosted.org/packages/07/8c/d39c483b637a6d85ab2d6da50012810628982bbd5279818bdc5dd1e7da51/customized_konlpy-0.0.64-py3-none-any.whl (881kB)\n",
      "Requirement already satisfied: Jpype1>=0.6.1 in c:\\programdata\\anaconda3\\lib\\site-packages (from customized_konlpy) (0.6.3)\n",
      "Requirement already satisfied: konlpy>=0.4.4 in c:\\programdata\\anaconda3\\lib\\site-packages (from customized_konlpy) (0.5.1)\n",
      "Installing collected packages: customized-konlpy\n",
      "Successfully installed customized-konlpy-0.0.64\n"
     ]
    }
   ],
   "source": [
    "!pip install customized_konlpy"
   ]
  },
  {
   "cell_type": "code",
   "execution_count": 20,
   "metadata": {
    "ExecuteTime": {
     "end_time": "2019-04-24T07:29:02.492363Z",
     "start_time": "2019-04-24T07:28:58.379703Z"
    }
   },
   "outputs": [
    {
     "name": "stderr",
     "output_type": "stream",
     "text": [
      "C:\\ProgramData\\Anaconda3\\lib\\site-packages\\konlpy\\tag\\_okt.py:16: UserWarning: \"Twitter\" has changed to \"Okt\" since KoNLPy v0.4.5.\n",
      "  warn('\"Twitter\" has changed to \"Okt\" since KoNLPy v0.4.5.')\n"
     ]
    }
   ],
   "source": [
    "from ckonlpy.tag import Twitter\n",
    "twitter = Twitter()"
   ]
  },
  {
   "cell_type": "code",
   "execution_count": 21,
   "metadata": {
    "ExecuteTime": {
     "end_time": "2019-04-24T07:29:02.568327Z",
     "start_time": "2019-04-24T07:29:02.562330Z"
    }
   },
   "outputs": [],
   "source": [
    "## 사전 계속 추가\n",
    "add_dict = ['마우리시오', \n",
    "            '포체티노', \n",
    "            '아시안게임', \n",
    "            '그리고',]\n",
    "twitter.add_dictionary(add_dict, 'Noun')"
   ]
  },
  {
   "cell_type": "code",
   "execution_count": 22,
   "metadata": {
    "ExecuteTime": {
     "end_time": "2019-04-24T07:29:02.653262Z",
     "start_time": "2019-04-24T07:29:02.647263Z"
    }
   },
   "outputs": [],
   "source": [
    "##불용어는 나중에 계속 추가!\n",
    "##text로 정리하기\n",
    "stop_basic = '''\n",
    "아\n",
    "휴\n",
    "'''\n",
    "stop_words = stop_basic.split()"
   ]
  },
  {
   "cell_type": "code",
   "execution_count": 23,
   "metadata": {
    "ExecuteTime": {
     "end_time": "2019-04-24T07:39:56.696364Z",
     "start_time": "2019-04-24T07:29:02.928102Z"
    }
   },
   "outputs": [
    {
     "data": {
      "text/plain": [
       "0    [내, 챔스리그, 강, 티, 강, 확정, 손, 마, 우리, 오, 포체티노, 사진, ...\n",
       "1    [미국, 이, 아아, 최고, 스포츠스타, 손흥민, 토트넘, 집중, 조명, 은, 한국...\n",
       "2    [크루이프, 후계, 자, 아약스, 크리스티아누, 호날두, 유벤투스, 를, 네덜란드,...\n",
       "3    [네덜란드, 아약스, 크리스티아누, 호날두, 해, 이탈리아, 유벤투스, 유럽, 축구...\n",
       "4    [지난, 경기, 광주, 경찰, 기숙, 학원, 오전, 이, 걸그룹, 트와이스, 예스,...\n",
       "Name: content_re, dtype: object"
      ]
     },
     "metadata": {},
     "output_type": "display_data"
    },
    {
     "data": {
      "text/plain": [
       "0    [내, 챔스리그, 강, 티, 강, 확정, 손, 마, 우리, 오, 포체티노, 사진, ...\n",
       "1    [미국, 이, 아아, 최고, 스포츠스타, 손흥민, 토트넘, 집중, 조명, 은, 한국...\n",
       "2    [크루이프, 후계, 자, 아약스, 크리스티아누, 호날두, 유벤투스, 를, 네덜란드,...\n",
       "3    [네덜란드, 아약스, 크리스티아누, 호날두, 해, 이탈리아, 유벤투스, 유럽, 축구...\n",
       "4    [지난, 경기, 광주, 경찰, 기숙, 학원, 오전, 이, 걸그룹, 트와이스, 예스,...\n",
       "Name: content_re, dtype: object"
      ]
     },
     "metadata": {},
     "output_type": "display_data"
    }
   ],
   "source": [
    "tokenized_doc = data['content_re'].apply(lambda x: twitter.nouns(x))\n",
    "tokenized_doc2 = tokenized_doc.apply(lambda x: [item.lower() for item in x if item not in stop_words])\n",
    "display(tokenized_doc.head())\n",
    "display(tokenized_doc2.head())"
   ]
  },
  {
   "cell_type": "markdown",
   "metadata": {},
   "source": [
    "### word2vec(유의어 처리)"
   ]
  },
  {
   "cell_type": "code",
   "execution_count": 12,
   "metadata": {
    "ExecuteTime": {
     "end_time": "2019-04-24T07:26:38.781510Z",
     "start_time": "2019-04-24T07:23:16.600092Z"
    }
   },
   "outputs": [
    {
     "name": "stdout",
     "output_type": "stream",
     "text": [
      "Collecting gensim\n",
      "  Downloading https://files.pythonhosted.org/packages/81/71/9692db935af93eff4448f918d05546e47b82af9b770564b930fa6336a1dc/gensim-3.7.2.tar.gz (23.4MB)\n",
      "Requirement already satisfied: numpy>=1.11.3 in c:\\programdata\\anaconda3\\lib\\site-packages (from gensim) (1.16.2)\n",
      "Requirement already satisfied: scipy>=0.18.1 in c:\\programdata\\anaconda3\\lib\\site-packages (from gensim) (1.1.0)\n",
      "Requirement already satisfied: six>=1.5.0 in c:\\programdata\\anaconda3\\lib\\site-packages (from gensim) (1.12.0)\n",
      "Collecting smart_open>=1.7.0 (from gensim)\n",
      "  Downloading https://files.pythonhosted.org/packages/ce/ae/6aca9384ac0b47acc6f74dc429bd425fb75ff5d6d7f9179698f111dc0631/smart_open-1.8.2.tar.gz (57kB)\n",
      "Requirement already satisfied: boto>=2.32 in c:\\programdata\\anaconda3\\lib\\site-packages (from smart_open>=1.7.0->gensim) (2.49.0)\n",
      "Collecting bz2file (from smart_open>=1.7.0->gensim)\n",
      "  Downloading https://files.pythonhosted.org/packages/61/39/122222b5e85cd41c391b68a99ee296584b2a2d1d233e7ee32b4532384f2d/bz2file-0.98.tar.gz\n",
      "Requirement already satisfied: requests in c:\\programdata\\anaconda3\\lib\\site-packages (from smart_open>=1.7.0->gensim) (2.21.0)\n",
      "Collecting boto3 (from smart_open>=1.7.0->gensim)\n",
      "  Downloading https://files.pythonhosted.org/packages/4e/ab/3c0f9e39631e6f06d6424f8c28a69ef92287fedec9a896ff433de6a87eed/boto3-1.9.134-py2.py3-none-any.whl (128kB)\n",
      "Requirement already satisfied: certifi>=2017.4.17 in c:\\programdata\\anaconda3\\lib\\site-packages (from requests->smart_open>=1.7.0->gensim) (2018.11.29)\n",
      "Requirement already satisfied: chardet<3.1.0,>=3.0.2 in c:\\programdata\\anaconda3\\lib\\site-packages (from requests->smart_open>=1.7.0->gensim) (3.0.4)\n",
      "Requirement already satisfied: urllib3<1.25,>=1.21.1 in c:\\programdata\\anaconda3\\lib\\site-packages (from requests->smart_open>=1.7.0->gensim) (1.24.1)\n",
      "Requirement already satisfied: idna<2.9,>=2.5 in c:\\programdata\\anaconda3\\lib\\site-packages (from requests->smart_open>=1.7.0->gensim) (2.8)\n",
      "Collecting s3transfer<0.3.0,>=0.2.0 (from boto3->smart_open>=1.7.0->gensim)\n",
      "  Downloading https://files.pythonhosted.org/packages/d7/de/5737f602e22073ecbded7a0c590707085e154e32b68d86545dcc31004c02/s3transfer-0.2.0-py2.py3-none-any.whl (69kB)\n",
      "Collecting jmespath<1.0.0,>=0.7.1 (from boto3->smart_open>=1.7.0->gensim)\n",
      "  Downloading https://files.pythonhosted.org/packages/83/94/7179c3832a6d45b266ddb2aac329e101367fbdb11f425f13771d27f225bb/jmespath-0.9.4-py2.py3-none-any.whl\n",
      "Collecting botocore<1.13.0,>=1.12.134 (from boto3->smart_open>=1.7.0->gensim)\n",
      "  Downloading https://files.pythonhosted.org/packages/f6/ed/8da3a5885ea627833ad7e07f2076c4fcccb7c02513f33fa6e934fe71708a/botocore-1.12.134-py2.py3-none-any.whl (5.4MB)\n",
      "Requirement already satisfied: docutils>=0.10 in c:\\programdata\\anaconda3\\lib\\site-packages (from botocore<1.13.0,>=1.12.134->boto3->smart_open>=1.7.0->gensim) (0.14)\n",
      "Requirement already satisfied: python-dateutil<3.0.0,>=2.1; python_version >= \"2.7\" in c:\\programdata\\anaconda3\\lib\\site-packages (from botocore<1.13.0,>=1.12.134->boto3->smart_open>=1.7.0->gensim) (2.7.5)\n",
      "Building wheels for collected packages: gensim, smart-open, bz2file\n",
      "  Building wheel for gensim (setup.py): started\n",
      "  Building wheel for gensim (setup.py): still running...\n",
      "  Building wheel for gensim (setup.py): finished with status 'done'\n",
      "  Stored in directory: C:\\Users\\USER\\AppData\\Local\\pip\\Cache\\wheels\\2a\\12\\79\\a26b1d566ac0edbcc806689fdf4f813ff4aaa5b5cf6e37406b\n",
      "  Building wheel for smart-open (setup.py): started\n",
      "  Building wheel for smart-open (setup.py): finished with status 'done'\n",
      "  Stored in directory: C:\\Users\\USER\\AppData\\Local\\pip\\Cache\\wheels\\83\\58\\f0\\a1f22e381370565b08cca8216eb82c0e716f70de28720e26ed\n",
      "  Building wheel for bz2file (setup.py): started\n",
      "  Building wheel for bz2file (setup.py): finished with status 'done'\n",
      "  Stored in directory: C:\\Users\\USER\\AppData\\Local\\pip\\Cache\\wheels\\81\\75\\d6\\e1317bf09bf1af5a30befc2a007869fa6e1f516b8f7c591cb9\n",
      "Successfully built gensim smart-open bz2file\n",
      "Installing collected packages: bz2file, jmespath, botocore, s3transfer, boto3, smart-open, gensim\n",
      "Successfully installed boto3-1.9.134 botocore-1.12.134 bz2file-0.98 gensim-3.7.2 jmespath-0.9.4 s3transfer-0.2.0 smart-open-1.8.2\n"
     ]
    }
   ],
   "source": [
    "!pip install gensim"
   ]
  },
  {
   "cell_type": "code",
   "execution_count": 24,
   "metadata": {
    "ExecuteTime": {
     "end_time": "2019-04-24T07:41:19.044303Z",
     "start_time": "2019-04-24T07:40:06.096990Z"
    }
   },
   "outputs": [],
   "source": [
    "from gensim.models import Word2Vec\n",
    "model = Word2Vec(sentences=tokenized_doc2, size=300, window=5, min_count=5, workers=4, sg=1)\n",
    "tmp = model.wv.most_similar(\"손흥민\")"
   ]
  },
  {
   "cell_type": "markdown",
   "metadata": {},
   "source": [
    "### bow(불용어처리)"
   ]
  },
  {
   "cell_type": "code",
   "execution_count": 25,
   "metadata": {
    "ExecuteTime": {
     "end_time": "2019-04-24T07:42:00.716502Z",
     "start_time": "2019-04-24T07:42:00.428645Z"
    }
   },
   "outputs": [],
   "source": [
    "tmp_list = []\n",
    "for doc in tokenized_doc2:\n",
    "    tmp_list.extend(doc)"
   ]
  },
  {
   "cell_type": "code",
   "execution_count": 26,
   "metadata": {
    "ExecuteTime": {
     "end_time": "2019-04-24T07:42:02.570442Z",
     "start_time": "2019-04-24T07:42:01.531995Z"
    }
   },
   "outputs": [],
   "source": [
    "word_count = pd.Series(tmp_list).value_counts()"
   ]
  },
  {
   "cell_type": "code",
   "execution_count": 27,
   "metadata": {
    "ExecuteTime": {
     "end_time": "2019-04-24T07:42:03.376943Z",
     "start_time": "2019-04-24T07:42:03.368945Z"
    }
   },
   "outputs": [],
   "source": [
    "word_count_idx = list(word_count.index)"
   ]
  },
  {
   "cell_type": "code",
   "execution_count": 28,
   "metadata": {
    "ExecuteTime": {
     "end_time": "2019-04-24T07:42:04.155499Z",
     "start_time": "2019-04-24T07:42:04.147503Z"
    }
   },
   "outputs": [],
   "source": [
    "stop_words = word_count_idx[:10] + word_count_idx[-10:] + ['내']"
   ]
  },
  {
   "cell_type": "code",
   "execution_count": 29,
   "metadata": {
    "ExecuteTime": {
     "end_time": "2019-04-24T07:42:07.572583Z",
     "start_time": "2019-04-24T07:42:04.928058Z"
    }
   },
   "outputs": [],
   "source": [
    "data['content_token'] = tokenized_doc2.apply(lambda x: [item.lower() for item in x if item not in stop_words])"
   ]
  },
  {
   "cell_type": "markdown",
   "metadata": {},
   "source": [
    "## 새로운 query를 포함한 문서 추출"
   ]
  },
  {
   "cell_type": "code",
   "execution_count": 30,
   "metadata": {
    "ExecuteTime": {
     "end_time": "2019-04-24T07:42:09.192635Z",
     "start_time": "2019-04-24T07:42:09.187619Z"
    }
   },
   "outputs": [],
   "source": [
    "query = '경기'"
   ]
  },
  {
   "cell_type": "code",
   "execution_count": 36,
   "metadata": {
    "ExecuteTime": {
     "end_time": "2019-04-24T07:47:16.406009Z",
     "start_time": "2019-04-24T07:47:16.089183Z"
    }
   },
   "outputs": [],
   "source": [
    "selected_news = []\n",
    "for idx in range(tokenized_doc.shape[0]):\n",
    "    if query in tokenized_doc.iloc[idx] :\n",
    "        selected_news.append(idx)"
   ]
  },
  {
   "cell_type": "code",
   "execution_count": 46,
   "metadata": {
    "ExecuteTime": {
     "end_time": "2019-04-24T07:50:15.753465Z",
     "start_time": "2019-04-24T07:50:15.746470Z"
    }
   },
   "outputs": [
    {
     "data": {
      "text/plain": [
       "7407"
      ]
     },
     "execution_count": 46,
     "metadata": {},
     "output_type": "execute_result"
    }
   ],
   "source": [
    "len(selected_news)"
   ]
  },
  {
   "cell_type": "code",
   "execution_count": 48,
   "metadata": {
    "ExecuteTime": {
     "end_time": "2019-04-24T07:50:17.712344Z",
     "start_time": "2019-04-24T07:50:17.704351Z"
    }
   },
   "outputs": [],
   "source": [
    "query_doc = tokenized_doc.iloc[selected_news]"
   ]
  },
  {
   "cell_type": "code",
   "execution_count": 50,
   "metadata": {
    "ExecuteTime": {
     "end_time": "2019-04-24T07:50:25.547867Z",
     "start_time": "2019-04-24T07:50:25.541870Z"
    }
   },
   "outputs": [
    {
     "data": {
      "text/plain": [
       "7407"
      ]
     },
     "execution_count": 50,
     "metadata": {},
     "output_type": "execute_result"
    }
   ],
   "source": [
    "len(query_doc)"
   ]
  },
  {
   "cell_type": "markdown",
   "metadata": {},
   "source": [
    "### tf-idf"
   ]
  },
  {
   "cell_type": "code",
   "execution_count": 51,
   "metadata": {
    "ExecuteTime": {
     "end_time": "2019-04-24T07:50:31.795311Z",
     "start_time": "2019-04-24T07:50:31.641383Z"
    }
   },
   "outputs": [],
   "source": [
    "tmp = query_doc.apply(lambda x : ' '.join(x))"
   ]
  },
  {
   "cell_type": "code",
   "execution_count": 52,
   "metadata": {
    "ExecuteTime": {
     "end_time": "2019-04-24T07:50:41.836553Z",
     "start_time": "2019-04-24T07:50:32.655803Z"
    }
   },
   "outputs": [],
   "source": [
    "from sklearn.feature_extraction.text import TfidfVectorizer\n",
    "from sklearn.metrics import pairwise_distances\n",
    "\n",
    "obj_tfidf = TfidfVectorizer()\n",
    "x = obj_tfidf.fit_transform(tmp)"
   ]
  },
  {
   "cell_type": "code",
   "execution_count": 53,
   "metadata": {
    "ExecuteTime": {
     "end_time": "2019-04-24T07:51:02.602698Z",
     "start_time": "2019-04-24T07:50:47.612250Z"
    }
   },
   "outputs": [],
   "source": [
    "sim_mat = 1 - np.round(pairwise_distances(x, metric=\"cosine\"),3)\n",
    "np.fill_diagonal(sim_mat,-1) # 같은 문서는 유사도 -1로 처리"
   ]
  },
  {
   "cell_type": "code",
   "execution_count": 54,
   "metadata": {
    "ExecuteTime": {
     "end_time": "2019-04-24T07:51:03.546141Z",
     "start_time": "2019-04-24T07:51:03.538145Z"
    }
   },
   "outputs": [
    {
     "data": {
      "text/plain": [
       "array([[-1.   ,  0.22 ,  0.115, ...,  0.019,  0.036,  0.06 ],\n",
       "       [ 0.22 , -1.   ,  0.064, ...,  0.007,  0.028,  0.029],\n",
       "       [ 0.115,  0.064, -1.   , ...,  0.005,  0.013,  0.004],\n",
       "       ...,\n",
       "       [ 0.019,  0.007,  0.005, ..., -1.   ,  0.372,  0.408],\n",
       "       [ 0.036,  0.028,  0.013, ...,  0.372, -1.   ,  0.301],\n",
       "       [ 0.06 ,  0.029,  0.004, ...,  0.408,  0.301, -1.   ]])"
      ]
     },
     "execution_count": 54,
     "metadata": {},
     "output_type": "execute_result"
    }
   ],
   "source": [
    "sim_mat"
   ]
  },
  {
   "cell_type": "markdown",
   "metadata": {},
   "source": [
    "#### 클러스터링"
   ]
  },
  {
   "cell_type": "markdown",
   "metadata": {},
   "source": [
    "kmeans, 코사인 유사도, lsa"
   ]
  },
  {
   "cell_type": "markdown",
   "metadata": {},
   "source": [
    "##### kmeans"
   ]
  },
  {
   "cell_type": "code",
   "execution_count": 176,
   "metadata": {},
   "outputs": [],
   "source": [
    "from sklearn.cluster import KMeans\n",
    "kmeans = KMeans(n_clusters = 2,random_state=0).fit(x)"
   ]
  },
  {
   "cell_type": "code",
   "execution_count": 189,
   "metadata": {},
   "outputs": [],
   "source": [
    "kmeans_label = kmeans.labels_\n",
    "label = data['label'][selected_news]"
   ]
  },
  {
   "cell_type": "code",
   "execution_count": 191,
   "metadata": {},
   "outputs": [
    {
     "data": {
      "text/plain": [
       "0.9823140272715"
      ]
     },
     "execution_count": 191,
     "metadata": {},
     "output_type": "execute_result"
    }
   ],
   "source": [
    "np.sum((label==kmeans_label)*1)/len(kmeans_label)"
   ]
  },
  {
   "cell_type": "markdown",
   "metadata": {},
   "source": [
    "##### lsa"
   ]
  },
  {
   "cell_type": "code",
   "execution_count": 60,
   "metadata": {
    "ExecuteTime": {
     "end_time": "2019-04-24T08:43:54.994541Z",
     "start_time": "2019-04-24T08:43:51.312663Z"
    }
   },
   "outputs": [
    {
     "data": {
      "text/plain": [
       "2"
      ]
     },
     "execution_count": 60,
     "metadata": {},
     "output_type": "execute_result"
    }
   ],
   "source": [
    "from sklearn.decomposition import TruncatedSVD\n",
    "svd_model = TruncatedSVD(n_components=2, algorithm='randomized', n_iter=100, random_state=122)\n",
    "svd_model.fit(x)\n",
    "len(svd_model.components_)"
   ]
  },
  {
   "cell_type": "code",
   "execution_count": 61,
   "metadata": {
    "ExecuteTime": {
     "end_time": "2019-04-24T08:43:57.257247Z",
     "start_time": "2019-04-24T08:43:57.252269Z"
    }
   },
   "outputs": [
    {
     "data": {
      "text/plain": [
       "(2, 24159)"
      ]
     },
     "execution_count": 61,
     "metadata": {},
     "output_type": "execute_result"
    }
   ],
   "source": [
    "np.shape(svd_model.components_)"
   ]
  },
  {
   "cell_type": "code",
   "execution_count": 62,
   "metadata": {
    "ExecuteTime": {
     "end_time": "2019-04-24T08:43:59.752821Z",
     "start_time": "2019-04-24T08:43:59.722838Z"
    }
   },
   "outputs": [
    {
     "name": "stdout",
     "output_type": "stream",
     "text": [
      "Topic 1: [('손흥민', 0.33699), ('경기', 0.21996), ('한국', 0.20551), ('감독', 0.18736), ('선수', 0.17705)]\n",
      "Topic 2: [('체육관', 0.229), ('우리은행', 0.22765), ('쿼터', 0.2164), ('프로농구', 0.20393), ('모비스', 0.18167)]\n"
     ]
    }
   ],
   "source": [
    "terms = obj_tfidf.get_feature_names() # 단어 집합. 1,000개의 단어가 저장됨.\n",
    "\n",
    "def get_topics(components, feature_names, n=5):\n",
    "    for idx, topic in enumerate(components):\n",
    "        print(\"Topic %d:\" % (idx+1), [(feature_names[i], topic[i].round(5)) for i in topic.argsort()[:-n - 1:-1]])\n",
    "get_topics(svd_model.components_,terms)"
   ]
  },
  {
   "cell_type": "code",
   "execution_count": 65,
   "metadata": {
    "ExecuteTime": {
     "end_time": "2019-04-24T08:55:34.333760Z",
     "start_time": "2019-04-24T08:55:34.329749Z"
    }
   },
   "outputs": [],
   "source": [
    "topic0 = svd_model.components_[0]\n",
    "topic1= svd_model.components_[1]"
   ]
  },
  {
   "cell_type": "code",
   "execution_count": 70,
   "metadata": {
    "ExecuteTime": {
     "end_time": "2019-04-24T08:56:10.153372Z",
     "start_time": "2019-04-24T08:56:09.570711Z"
    }
   },
   "outputs": [],
   "source": [
    "x_array = x.toarray()"
   ]
  },
  {
   "cell_type": "code",
   "execution_count": 71,
   "metadata": {
    "ExecuteTime": {
     "end_time": "2019-04-24T08:56:14.225042Z",
     "start_time": "2019-04-24T08:56:14.221052Z"
    }
   },
   "outputs": [
    {
     "data": {
      "text/plain": [
       "(7407, 24159)"
      ]
     },
     "execution_count": 71,
     "metadata": {},
     "output_type": "execute_result"
    }
   ],
   "source": [
    "x_array.shape"
   ]
  },
  {
   "cell_type": "code",
   "execution_count": 72,
   "metadata": {
    "ExecuteTime": {
     "end_time": "2019-04-24T08:58:38.013841Z",
     "start_time": "2019-04-24T08:58:38.009844Z"
    }
   },
   "outputs": [],
   "source": [
    "from scipy import spatial"
   ]
  },
  {
   "cell_type": "code",
   "execution_count": 122,
   "metadata": {
    "ExecuteTime": {
     "end_time": "2019-04-24T09:09:01.373522Z",
     "start_time": "2019-04-24T09:08:58.510129Z"
    }
   },
   "outputs": [],
   "source": [
    "topic_0_sim = []\n",
    "topic_1_sim = []\n",
    "\n",
    "for doc in x_array:\n",
    "    topic_0_sim.append(1-spatial.distance.cosine(topic0,doc))\n",
    "for doc in x_array:\n",
    "    topic_1_sim.append(1-spatial.distance.cosine(topic1,doc))\n"
   ]
  },
  {
   "cell_type": "markdown",
   "metadata": {},
   "source": [
    "lsa 수치가 너무 작아 0 과 1 를 비교해서 새로 labeling을 했습니다."
   ]
  },
  {
   "cell_type": "code",
   "execution_count": null,
   "metadata": {
    "ExecuteTime": {
     "end_time": "2019-04-24T09:16:50.457350Z",
     "start_time": "2019-04-24T09:16:50.264421Z"
    }
   },
   "outputs": [],
   "source": [
    "topic_0_sim = pd.Series(topic_0_sim)\n",
    "topic_1_sim = pd.Series(topic_1_sim)\n",
    "\n",
    "df_topic_sim = pd.concat([topic_0_sim,topic_1_sim],axis = 1)\n",
    "df_topic_sim['topic_label'] = df_topic_sim.apply(lambda row : 0 if row[0]>=row[1] else 1,axis = 1)\n",
    "#topic_0_idx = topic_0_sim[topic_0_sim>0.4].index.tolist()\n",
    "#topic_1_idx = topic_1_sim[topic_1_sim>0.4].index.tolist()\n",
    "\n",
    "#label_topic = label.copy(deep = True)\n",
    "#label_topic = label_topic.apply(lambda x : 0)\n",
    "\n",
    "#label_topic.iloc[topic_0_idx] = 0\n",
    "#label_topic.iloc[topic_1_idx] = 1"
   ]
  },
  {
   "cell_type": "code",
   "execution_count": 156,
   "metadata": {
    "ExecuteTime": {
     "end_time": "2019-04-24T09:17:56.795390Z",
     "start_time": "2019-04-24T09:17:56.788391Z"
    }
   },
   "outputs": [
    {
     "data": {
      "text/plain": [
       "0.7669771837451059"
      ]
     },
     "execution_count": 156,
     "metadata": {},
     "output_type": "execute_result"
    }
   ],
   "source": [
    "np.mean((label.values==df_topic_sim['topic_label'].values)*1)"
   ]
  },
  {
   "cell_type": "code",
   "execution_count": 159,
   "metadata": {
    "ExecuteTime": {
     "end_time": "2019-04-24T09:19:40.636026Z",
     "start_time": "2019-04-24T09:19:40.629028Z"
    }
   },
   "outputs": [
    {
     "data": {
      "text/plain": [
       "0    5590\n",
       "1    1817\n",
       "Name: topic_label, dtype: int64"
      ]
     },
     "execution_count": 159,
     "metadata": {},
     "output_type": "execute_result"
    }
   ],
   "source": [
    "df_topic_sim['topic_label'].value_counts()"
   ]
  },
  {
   "cell_type": "code",
   "execution_count": 161,
   "metadata": {
    "ExecuteTime": {
     "end_time": "2019-04-24T09:19:59.415288Z",
     "start_time": "2019-04-24T09:19:59.408292Z"
    }
   },
   "outputs": [
    {
     "data": {
      "text/plain": [
       "0    3866\n",
       "1    3541\n",
       "Name: label, dtype: int64"
      ]
     },
     "execution_count": 161,
     "metadata": {},
     "output_type": "execute_result"
    }
   ],
   "source": [
    "label.value_counts()"
   ]
  },
  {
   "cell_type": "markdown",
   "metadata": {},
   "source": [
    "### doc2vec"
   ]
  },
  {
   "cell_type": "markdown",
   "metadata": {},
   "source": [
    "#### 클러스터링"
   ]
  },
  {
   "cell_type": "markdown",
   "metadata": {},
   "source": [
    "## kmeans"
   ]
  },
  {
   "cell_type": "code",
   "execution_count": 195,
   "metadata": {},
   "outputs": [
    {
     "data": {
      "text/plain": [
       "array([ True,  True,  True, ..., False, False, False])"
      ]
     },
     "execution_count": 195,
     "metadata": {},
     "output_type": "execute_result"
    }
   ],
   "source": [
    "kmeans_label==0"
   ]
  },
  {
   "cell_type": "code",
   "execution_count": null,
   "metadata": {},
   "outputs": [],
   "source": []
  }
 ],
 "metadata": {
  "kernelspec": {
   "display_name": "Python 3",
   "language": "python",
   "name": "python3"
  },
  "language_info": {
   "codemirror_mode": {
    "name": "ipython",
    "version": 3
   },
   "file_extension": ".py",
   "mimetype": "text/x-python",
   "name": "python",
   "nbconvert_exporter": "python",
   "pygments_lexer": "ipython3",
   "version": "3.6.5"
  },
  "toc": {
   "base_numbering": 1,
   "nav_menu": {},
   "number_sections": true,
   "sideBar": true,
   "skip_h1_title": false,
   "title_cell": "Table of Contents",
   "title_sidebar": "Contents",
   "toc_cell": true,
   "toc_position": {},
   "toc_section_display": true,
   "toc_window_display": false
  },
  "varInspector": {
   "cols": {
    "lenName": 16,
    "lenType": 16,
    "lenVar": 40
   },
   "kernels_config": {
    "python": {
     "delete_cmd_postfix": "",
     "delete_cmd_prefix": "del ",
     "library": "var_list.py",
     "varRefreshCmd": "print(var_dic_list())"
    },
    "r": {
     "delete_cmd_postfix": ") ",
     "delete_cmd_prefix": "rm(",
     "library": "var_list.r",
     "varRefreshCmd": "cat(var_dic_list()) "
    }
   },
   "types_to_exclude": [
    "module",
    "function",
    "builtin_function_or_method",
    "instance",
    "_Feature"
   ],
   "window_display": false
  }
 },
 "nbformat": 4,
 "nbformat_minor": 2
}
