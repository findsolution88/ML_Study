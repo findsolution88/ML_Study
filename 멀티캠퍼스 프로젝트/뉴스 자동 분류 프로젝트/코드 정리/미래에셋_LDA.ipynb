{
 "cells": [
  {
   "cell_type": "markdown",
   "metadata": {
    "toc": true
   },
   "source": [
    "<h1>Table of Contents<span class=\"tocSkip\"></span></h1>\n",
    "<div class=\"toc\"><ul class=\"toc-item\"><li><span><a href=\"#데이터-불러오기\" data-toc-modified-id=\"데이터-불러오기-1\"><span class=\"toc-item-num\">1&nbsp;&nbsp;</span>데이터 불러오기</a></span></li><li><span><a href=\"#전처리,-명사추출\" data-toc-modified-id=\"전처리,-명사추출-2\"><span class=\"toc-item-num\">2&nbsp;&nbsp;</span>전처리, 명사추출</a></span></li><li><span><a href=\"#노이즈-제거\" data-toc-modified-id=\"노이즈-제거-3\"><span class=\"toc-item-num\">3&nbsp;&nbsp;</span>노이즈 제거</a></span></li><li><span><a href=\"#문서검색\" data-toc-modified-id=\"문서검색-4\"><span class=\"toc-item-num\">4&nbsp;&nbsp;</span>문서검색</a></span></li><li><span><a href=\"#유의어,-불용어-처리\" data-toc-modified-id=\"유의어,-불용어-처리-5\"><span class=\"toc-item-num\">5&nbsp;&nbsp;</span>유의어, 불용어 처리</a></span></li><li><span><a href=\"#벡터화(DTM)\" data-toc-modified-id=\"벡터화(DTM)-6\"><span class=\"toc-item-num\">6&nbsp;&nbsp;</span>벡터화(DTM)</a></span><ul class=\"toc-item\"><li><span><a href=\"#LDA\" data-toc-modified-id=\"LDA-6.1\"><span class=\"toc-item-num\">6.1&nbsp;&nbsp;</span>LDA</a></span><ul class=\"toc-item\"><li><span><a href=\"#알맞은-topic갯수-찾기\" data-toc-modified-id=\"알맞은-topic갯수-찾기-6.1.1\"><span class=\"toc-item-num\">6.1.1&nbsp;&nbsp;</span>알맞은 topic갯수 찾기</a></span></li><li><span><a href=\"#LDA-실행\" data-toc-modified-id=\"LDA-실행-6.1.2\"><span class=\"toc-item-num\">6.1.2&nbsp;&nbsp;</span>LDA 실행</a></span></li></ul></li></ul></li></ul></div>"
   ]
  },
  {
   "cell_type": "code",
   "execution_count": 1,
   "metadata": {
    "ExecuteTime": {
     "end_time": "2019-05-13T06:47:52.810917Z",
     "start_time": "2019-05-13T06:47:51.280917Z"
    }
   },
   "outputs": [],
   "source": [
    "import numpy as np\n",
    "import pandas as pd\n",
    "import matplotlib\n",
    "import matplotlib.pyplot as plt\n",
    "import pickle\n",
    "import datetime\n",
    "import re\n",
    "from ckonlpy.tag import Twitter\n",
    "from gensim.models import Word2Vec\n",
    "from sklearn.preprocessing import StandardScaler\n",
    "from sklearn.feature_extraction.text import TfidfVectorizer\n",
    "from sklearn.manifold import TSNE\n",
    "from sklearn.decomposition import PCA\n",
    "from gensim.models.doc2vec import Doc2Vec, TaggedDocument\n",
    "from sklearn.cluster import KMeans\n",
    "from sklearn.cluster import DBSCAN"
   ]
  },
  {
   "cell_type": "code",
   "execution_count": 2,
   "metadata": {
    "ExecuteTime": {
     "end_time": "2019-05-13T06:47:52.815917Z",
     "start_time": "2019-05-13T06:47:52.811917Z"
    }
   },
   "outputs": [],
   "source": [
    "import newsight"
   ]
  },
  {
   "cell_type": "code",
   "execution_count": 3,
   "metadata": {
    "ExecuteTime": {
     "end_time": "2019-05-13T06:47:52.888917Z",
     "start_time": "2019-05-13T06:47:52.884917Z"
    }
   },
   "outputs": [
    {
     "name": "stdout",
     "output_type": "stream",
     "text": [
      "******Description*****\n",
      "code by 현호킴, description by 승현백\n",
      "클래스 이름.help() : 해당 클래스에서 사용할 수 있는 함수 출력\n",
      "******Class names******\n",
      "1) 데이터 불러오기 : Pickle2DF\n",
      "2) 전처리 : PreprocessingText\n",
      "3) 불용어,유의어 처리 : GetSimilarWords, GetStopWords\n",
      "4) 문서 검색 :  GetDocsFromQuery\n",
      "5) 벡터화 :  Vectorizer\n",
      "6) 시각화 : Get2DPlot, AnalyzingNewsData, WordCloud\n",
      "7) 이상치 제거 : CleaningNoise\n",
      "8) 키워드 추출 : GetKeyword\n",
      "수정사항은 history 함수를 참고하세효\n"
     ]
    }
   ],
   "source": [
    "newsight.readme()"
   ]
  },
  {
   "cell_type": "markdown",
   "metadata": {},
   "source": [
    "## 데이터 불러오기"
   ]
  },
  {
   "cell_type": "code",
   "execution_count": 4,
   "metadata": {
    "ExecuteTime": {
     "end_time": "2019-05-13T06:47:53.933917Z",
     "start_time": "2019-05-13T06:47:53.925917Z"
    }
   },
   "outputs": [
    {
     "name": "stdout",
     "output_type": "stream",
     "text": [
      "******Pickle2DF******\n",
      "1) get_dataframe(피클 경로(str)) : 피클을 데이터프레임으로 반환\n",
      "2) get_dataframe_from_list(피클 경로를 저장한 리스트(list)) : 피클여러개를 데이터프레임으로 반환\n",
      "**********************\n"
     ]
    }
   ],
   "source": [
    "newsight.Pickle2DF().help()"
   ]
  },
  {
   "cell_type": "code",
   "execution_count": 18,
   "metadata": {
    "ExecuteTime": {
     "end_time": "2019-05-13T08:00:51.163917Z",
     "start_time": "2019-05-13T08:00:51.140917Z"
    }
   },
   "outputs": [],
   "source": [
    "mirae_list = ['data/미래에셋대우/rawdata_미래에셋대우.pickle']\n",
    "blizzard_list = ['data/블리자드/rawdata_경향신문_블리자드.pickle',\n",
    "                'data/블리자드/rawdata_국민일보_블리자드.pickle',\n",
    "                'data/블리자드/rawdata_동아일보_블리자드.pickle',\n",
    "                'data/블리자드/rawdata_디지털타임즈_블리자드.pickle',\n",
    "                'data/블리자드/rawdata_매일경제_블리자드.pickle',\n",
    "                'data/블리자드/rawdata_머니투데이_블리자드.pickle',\n",
    "                'data/블리자드/rawdata_문화일보_블리자드.pickle',\n",
    "                'data/블리자드/rawdata_서울신문_블리자드.pickle',\n",
    "                'data/블리자드/rawdata_세계일보_블리자드.pickle',\n",
    "                'data/블리자드/rawdata_아주경제_블리자드.pickle',\n",
    "                'data/블리자드/rawdata_전자신문_블리자드.pickle',\n",
    "                'data/블리자드/rawdata_조선일보_블리자드.pickle',\n",
    "                'data/블리자드/rawdata_중앙일보_블리자드.pickle',\n",
    "                'data/블리자드/rawdata_한겨레_블리자드.pickle',\n",
    "                'data/블리자드/rawdata_한국경제_블리자드.pickle',\n",
    "                'data/블리자드/rawdata_한국일보_블리자드.pickle',\n",
    "                ]\n",
    "ahnlab_list = ['data/안랩/rawdata_경향신문_안랩.pickle',\n",
    "                'data/안랩/rawdata_국민일보_안랩.pickle',\n",
    "                'data/안랩/rawdata_동아일보_안랩.pickle',\n",
    "                'data/안랩/rawdata_디지털타임즈_안랩.pickle',\n",
    "                'data/안랩/rawdata_매일경제_안랩.pickle',\n",
    "                'data/안랩/rawdata_머니투데이_안랩.pickle',\n",
    "                'data/안랩/rawdata_문화일보_안랩.pickle',\n",
    "                'data/안랩/rawdata_서울신문_안랩.pickle',\n",
    "                'data/안랩/rawdata_세계일보_안랩.pickle',\n",
    "                'data/안랩/rawdata_아주경제_안랩.pickle',\n",
    "                'data/안랩/rawdata_전자신문_안랩.pickle',\n",
    "                'data/안랩/rawdata_조선일보_안랩.pickle',\n",
    "                'data/안랩/rawdata_중앙일보_안랩.pickle',\n",
    "                'data/안랩/rawdata_한겨레_안랩.pickle',\n",
    "                'data/안랩/rawdata_한국경제_안랩.pickle',\n",
    "                'data/안랩/rawdata_한국일보_안랩.pickle',\n",
    "                ]\n",
    "tmax_list = ['data/티맥스/rawdata_경향신문_티맥스.pickle',\n",
    "           'data/티맥스/rawdata_국민일보_티맥스.pickle',\n",
    "           'data/티맥스/rawdata_동아일보_티맥스.pickle',\n",
    "           'data/티맥스/rawdata_디지털타임즈_티맥스.pickle',\n",
    "           'data/티맥스/rawdata_매일경제_티맥스.pickle',\n",
    "           'data/티맥스/rawdata_머니투데이_티맥스.pickle',\n",
    "           'data/티맥스/rawdata_문화일보_티맥스.pickle',\n",
    "           'data/티맥스/rawdata_서울신문_티맥스.pickle',\n",
    "           'data/티맥스/rawdata_세계일보_티맥스.pickle',\n",
    "           'data/티맥스/rawdata_아주경제_티맥스.pickle',\n",
    "           'data/티맥스/rawdata_전자신문_티맥스.pickle',\n",
    "           'data/티맥스/rawdata_조선일보_티맥스.pickle',\n",
    "           'data/티맥스/rawdata_중앙일보_티맥스.pickle',\n",
    "           'data/티맥스/rawdata_한겨레_티맥스.pickle',\n",
    "           'data/티맥스/rawdata_한국경제_티맥스.pickle',\n",
    "           'data/티맥스/rawdata_한국일보_티맥스.pickle',\n",
    "           ]\n",
    "hansam_list = ['data/한샘/rawdata_한샘_8100.pickle',]\n",
    "\n",
    "socar_list = ['data/SOCAR/rawdata_SOCAR_2000.pickle',]\n",
    "\n",
    "data_list = mirae_list"
   ]
  },
  {
   "cell_type": "code",
   "execution_count": 19,
   "metadata": {
    "ExecuteTime": {
     "end_time": "2019-05-13T08:00:52.143917Z",
     "start_time": "2019-05-13T08:00:51.848917Z"
    }
   },
   "outputs": [],
   "source": [
    "data_loader = newsight.Pickle2DF()\n",
    "df = data_loader.get_dataframe_from_list(data_list)"
   ]
  },
  {
   "cell_type": "code",
   "execution_count": 20,
   "metadata": {
    "ExecuteTime": {
     "end_time": "2019-05-13T08:00:52.535917Z",
     "start_time": "2019-05-13T08:00:52.510917Z"
    }
   },
   "outputs": [
    {
     "data": {
      "text/html": [
       "<div>\n",
       "<style scoped>\n",
       "    .dataframe tbody tr th:only-of-type {\n",
       "        vertical-align: middle;\n",
       "    }\n",
       "\n",
       "    .dataframe tbody tr th {\n",
       "        vertical-align: top;\n",
       "    }\n",
       "\n",
       "    .dataframe thead th {\n",
       "        text-align: right;\n",
       "    }\n",
       "</style>\n",
       "<table border=\"1\" class=\"dataframe\">\n",
       "  <thead>\n",
       "    <tr style=\"text-align: right;\">\n",
       "      <th></th>\n",
       "      <th>date</th>\n",
       "      <th>title</th>\n",
       "      <th>content</th>\n",
       "      <th>category</th>\n",
       "      <th>date_tmp</th>\n",
       "    </tr>\n",
       "  </thead>\n",
       "  <tbody>\n",
       "    <tr>\n",
       "      <th>0</th>\n",
       "      <td>2019-04-19</td>\n",
       "      <td>NH투자證 `선택과 집중` 통했다…펀드설정액, 증권사 1위에 올라</td>\n",
       "      <td>지난해 말 조직개편을 통해 펀드 판매에 승부수를 띄운 NH투자증권이 올해 들어 금융...</td>\n",
       "      <td>[경제&gt;증권_증시, 경제&gt;금융_재테크, 경제&gt;유통]</td>\n",
       "      <td>737168</td>\n",
       "    </tr>\n",
       "    <tr>\n",
       "      <th>1</th>\n",
       "      <td>2019-04-19</td>\n",
       "      <td>2차전지 기업들, 속속 '코스닥 입성' 채비</td>\n",
       "      <td>코윈테크, 8월 코스닥 상장 추진 \\n \\n \\n[ 이우상 기자 ] 2차전지 생산용...</td>\n",
       "      <td>[경제&gt;산업_기업, 경제&gt;증권_증시, 경제&gt;금융_재테크]</td>\n",
       "      <td>737168</td>\n",
       "    </tr>\n",
       "    <tr>\n",
       "      <th>2</th>\n",
       "      <td>2019-04-19</td>\n",
       "      <td>증시 호조에 증권株 `훨훨`…2분기 실적도 `맑음`</td>\n",
       "      <td>올해 들어 증시가 호조를 보이면서 증권주들이 1분기 양호한 성적표를 받아들었다. 이...</td>\n",
       "      <td>[경제&gt;증권_증시, 경제&gt;금융_재테크, 경제&gt;국제경제]</td>\n",
       "      <td>737168</td>\n",
       "    </tr>\n",
       "    <tr>\n",
       "      <th>3</th>\n",
       "      <td>2019-04-19</td>\n",
       "      <td>한화 LifePlus TDF 설정 1년, 4% 대 운용성과 달성</td>\n",
       "      <td>한화 라이프플러스 상장지수펀드(ETF)의 수익률이 설정 이후 양호한 수익률을 올리고...</td>\n",
       "      <td>[경제&gt;금융_재테크, 경제&gt;증권_증시, 경제&gt;국제경제]</td>\n",
       "      <td>737168</td>\n",
       "    </tr>\n",
       "    <tr>\n",
       "      <th>4</th>\n",
       "      <td>2019-04-19</td>\n",
       "      <td>미래에셋벤처투자의 사회적기업1호펀드, 72.4% 수익 올리고 청산돼</td>\n",
       "      <td>미래에셋벤처투자는 지난 2011년 42억원으로 결성했던 사회적기업1호펀드가 72.4...</td>\n",
       "      <td>[경제&gt;산업_기업, 경제&gt;증권_증시, 경제&gt;국제경제]</td>\n",
       "      <td>737168</td>\n",
       "    </tr>\n",
       "  </tbody>\n",
       "</table>\n",
       "</div>"
      ],
      "text/plain": [
       "         date                                  title  \\\n",
       "0  2019-04-19   NH투자證 `선택과 집중` 통했다…펀드설정액, 증권사 1위에 올라   \n",
       "1  2019-04-19               2차전지 기업들, 속속 '코스닥 입성' 채비   \n",
       "2  2019-04-19           증시 호조에 증권株 `훨훨`…2분기 실적도 `맑음`   \n",
       "3  2019-04-19    한화 LifePlus TDF 설정 1년, 4% 대 운용성과 달성   \n",
       "4  2019-04-19  미래에셋벤처투자의 사회적기업1호펀드, 72.4% 수익 올리고 청산돼   \n",
       "\n",
       "                                             content  \\\n",
       "0  지난해 말 조직개편을 통해 펀드 판매에 승부수를 띄운 NH투자증권이 올해 들어 금융...   \n",
       "1  코윈테크, 8월 코스닥 상장 추진 \\n \\n \\n[ 이우상 기자 ] 2차전지 생산용...   \n",
       "2  올해 들어 증시가 호조를 보이면서 증권주들이 1분기 양호한 성적표를 받아들었다. 이...   \n",
       "3  한화 라이프플러스 상장지수펀드(ETF)의 수익률이 설정 이후 양호한 수익률을 올리고...   \n",
       "4  미래에셋벤처투자는 지난 2011년 42억원으로 결성했던 사회적기업1호펀드가 72.4...   \n",
       "\n",
       "                          category  date_tmp  \n",
       "0     [경제>증권_증시, 경제>금융_재테크, 경제>유통]    737168  \n",
       "1  [경제>산업_기업, 경제>증권_증시, 경제>금융_재테크]    737168  \n",
       "2   [경제>증권_증시, 경제>금융_재테크, 경제>국제경제]    737168  \n",
       "3   [경제>금융_재테크, 경제>증권_증시, 경제>국제경제]    737168  \n",
       "4    [경제>산업_기업, 경제>증권_증시, 경제>국제경제]    737168  "
      ]
     },
     "execution_count": 20,
     "metadata": {},
     "output_type": "execute_result"
    }
   ],
   "source": [
    "df.head()"
   ]
  },
  {
   "cell_type": "code",
   "execution_count": 21,
   "metadata": {
    "ExecuteTime": {
     "end_time": "2019-05-13T08:00:52.946917Z",
     "start_time": "2019-05-13T08:00:52.908917Z"
    }
   },
   "outputs": [
    {
     "data": {
      "text/plain": [
       "(10000, 5)"
      ]
     },
     "execution_count": 21,
     "metadata": {},
     "output_type": "execute_result"
    }
   ],
   "source": [
    "# N개만 가져와서 테스트 \n",
    "import random\n",
    "rand_idx = random.sample(range(len(df)), 10000)\n",
    "df_2 = df.iloc[rand_idx].copy()\n",
    "df_2.shape"
   ]
  },
  {
   "cell_type": "markdown",
   "metadata": {},
   "source": [
    "## 전처리, 명사추출"
   ]
  },
  {
   "cell_type": "code",
   "execution_count": 22,
   "metadata": {
    "ExecuteTime": {
     "end_time": "2019-05-13T08:00:54.113917Z",
     "start_time": "2019-05-13T08:00:53.899917Z"
    }
   },
   "outputs": [
    {
     "name": "stderr",
     "output_type": "stream",
     "text": [
      "C:\\ProgramData\\Anaconda3\\lib\\site-packages\\konlpy\\tag\\_okt.py:16: UserWarning: \"Twitter\" has changed to \"Okt\" since KoNLPy v0.4.5.\n",
      "  warn('\"Twitter\" has changed to \"Okt\" since KoNLPy v0.4.5.')\n"
     ]
    },
    {
     "name": "stdout",
     "output_type": "stream",
     "text": [
      "******PreprocessingText******\n",
      "1) make_content_re(df['컬럼이름'](Series)) : 입력받은 열을 전처리 후 시리즈로 반환\n",
      "2) add_noun_dict('list') : 명사 사전에 단어 추가\n",
      "3) add_stopwords('list') : 불용어 사전에 단어 추가\n",
      "4) tokenize(df['컬럼이름'](Series)) : 입력받은 열을 토큰화한 후 시리즈로 반환\n",
      "*****************************\n"
     ]
    }
   ],
   "source": [
    "preprocessor = newsight.PreprocessingText()\n",
    "preprocessor.help()"
   ]
  },
  {
   "cell_type": "code",
   "execution_count": 23,
   "metadata": {
    "ExecuteTime": {
     "end_time": "2019-05-13T08:00:55.655917Z",
     "start_time": "2019-05-13T08:00:55.645917Z"
    }
   },
   "outputs": [
    {
     "name": "stdout",
     "output_type": "stream",
     "text": [
      "추가한 명사\n",
      "['정보통신', '환헤지', '조웅기', '핀테크', '큐레이션', '투명성', '최경주', '상장', '임직원', '아시아그로쓰', '라이징스타', '파이낸셜', '캡스', '리파이낸싱', '싱가포르투자청', '도이체방크', '도이치뱅크', '카우룽', '그린마크', '광주은행', '대신증권', '삼성생명', '신한은행', '우리은행', '유안타증권', '펀드슈퍼마켓', '한국투자증권', '기업은행', '하나은행', '제일은행', '퀀트모델', '포트폴리오', '헤지펀드', '트레이딩', '영업점', '셀렉션', '구인', '사업화', '협약식', '미래에셋센터원', '최연소', '이테크', '미래에셋', '미래에셋대우', '에트리홀딩스', '펀드설정액', '분기', '벤처', '사회적기업', '성장지원', '헬스케어', '해결책', '메리츠', '신고가', '지주', '증권주', '벨류에이션', '이베스트', '수익성', '실사구시', '페어트레이딩', '쓸어', '상장사', '한투', '한국투자증권', '순매수', '거래량', '상장주식수', '분기', '미상환', '업무지구', '장기적', '한온시스템', '보여', '주간사', '젠바디', '예탁결제원', '크라우드펀딩', '영업이익률', '이익률', '파워리퍼블릭', '운용사', '아모텍', '지분', '박스권', '저평가', '시총', '긍정적', '납세자', '셀리드', '에스퓨얼셀', '게임사', '할인율', '재도전', '인공지능', '당기순익', '비대면', '사업가치', '재평가', '순매도', '순매수', '수혜주', '마중물', '혼조세', '신고가', '합리적', '재취업', '다각화', '자문형랩', '순익', '설정액', '원소재', '메디톡스', '인허가', '성장통', '호실적', '주간사', '주관사', '예상치', '호실적', '압도', '신성장', '기술료', '조기상환', '비임원', '기대감', '순매도', '저평가', '거래량', '내수', '건설사', '호실적', '코스메틱', '제이준', '아이센스', '분양권', '영입', '지주', '시황', '애널리스트', '']\n"
     ]
    }
   ],
   "source": [
    "# 명사 추가\n",
    "filename = '미래에셋_단어사전.txt'\n",
    "with open(filename) as file_object:\n",
    "    contents = file_object.read()\n",
    "noun_list = contents.split('\\n')\n",
    "preprocessor.add_noun_dict(noun_list)"
   ]
  },
  {
   "cell_type": "code",
   "execution_count": 24,
   "metadata": {
    "ExecuteTime": {
     "end_time": "2019-05-13T08:00:56.504917Z",
     "start_time": "2019-05-13T08:00:56.483917Z"
    }
   },
   "outputs": [
    {
     "data": {
      "text/html": [
       "<div>\n",
       "<style scoped>\n",
       "    .dataframe tbody tr th:only-of-type {\n",
       "        vertical-align: middle;\n",
       "    }\n",
       "\n",
       "    .dataframe tbody tr th {\n",
       "        vertical-align: top;\n",
       "    }\n",
       "\n",
       "    .dataframe thead th {\n",
       "        text-align: right;\n",
       "    }\n",
       "</style>\n",
       "<table border=\"1\" class=\"dataframe\">\n",
       "  <thead>\n",
       "    <tr style=\"text-align: right;\">\n",
       "      <th></th>\n",
       "      <th>date</th>\n",
       "      <th>title</th>\n",
       "      <th>content</th>\n",
       "      <th>category</th>\n",
       "      <th>date_tmp</th>\n",
       "    </tr>\n",
       "  </thead>\n",
       "  <tbody>\n",
       "    <tr>\n",
       "      <th>0</th>\n",
       "      <td>2019-04-19</td>\n",
       "      <td>NH투자證 `선택과 집중` 통했다…펀드설정액, 증권사 1위에 올라</td>\n",
       "      <td>지난해 말 조직개편을 통해 펀드 판매에 승부수를 띄운 NH투자증권이 올해 들어 금융...</td>\n",
       "      <td>[경제&gt;증권_증시, 경제&gt;금융_재테크, 경제&gt;유통]</td>\n",
       "      <td>737168</td>\n",
       "    </tr>\n",
       "    <tr>\n",
       "      <th>1</th>\n",
       "      <td>2019-04-19</td>\n",
       "      <td>2차전지 기업들, 속속 '코스닥 입성' 채비</td>\n",
       "      <td>코윈테크, 8월 코스닥 상장 추진 \\n \\n \\n[ 이우상 기자 ] 2차전지 생산용...</td>\n",
       "      <td>[경제&gt;산업_기업, 경제&gt;증권_증시, 경제&gt;금융_재테크]</td>\n",
       "      <td>737168</td>\n",
       "    </tr>\n",
       "    <tr>\n",
       "      <th>2</th>\n",
       "      <td>2019-04-19</td>\n",
       "      <td>증시 호조에 증권株 `훨훨`…2분기 실적도 `맑음`</td>\n",
       "      <td>올해 들어 증시가 호조를 보이면서 증권주들이 1분기 양호한 성적표를 받아들었다. 이...</td>\n",
       "      <td>[경제&gt;증권_증시, 경제&gt;금융_재테크, 경제&gt;국제경제]</td>\n",
       "      <td>737168</td>\n",
       "    </tr>\n",
       "    <tr>\n",
       "      <th>3</th>\n",
       "      <td>2019-04-19</td>\n",
       "      <td>한화 LifePlus TDF 설정 1년, 4% 대 운용성과 달성</td>\n",
       "      <td>한화 라이프플러스 상장지수펀드(ETF)의 수익률이 설정 이후 양호한 수익률을 올리고...</td>\n",
       "      <td>[경제&gt;금융_재테크, 경제&gt;증권_증시, 경제&gt;국제경제]</td>\n",
       "      <td>737168</td>\n",
       "    </tr>\n",
       "    <tr>\n",
       "      <th>4</th>\n",
       "      <td>2019-04-19</td>\n",
       "      <td>미래에셋벤처투자의 사회적기업1호펀드, 72.4% 수익 올리고 청산돼</td>\n",
       "      <td>미래에셋벤처투자는 지난 2011년 42억원으로 결성했던 사회적기업1호펀드가 72.4...</td>\n",
       "      <td>[경제&gt;산업_기업, 경제&gt;증권_증시, 경제&gt;국제경제]</td>\n",
       "      <td>737168</td>\n",
       "    </tr>\n",
       "  </tbody>\n",
       "</table>\n",
       "</div>"
      ],
      "text/plain": [
       "         date                                  title  \\\n",
       "0  2019-04-19   NH투자證 `선택과 집중` 통했다…펀드설정액, 증권사 1위에 올라   \n",
       "1  2019-04-19               2차전지 기업들, 속속 '코스닥 입성' 채비   \n",
       "2  2019-04-19           증시 호조에 증권株 `훨훨`…2분기 실적도 `맑음`   \n",
       "3  2019-04-19    한화 LifePlus TDF 설정 1년, 4% 대 운용성과 달성   \n",
       "4  2019-04-19  미래에셋벤처투자의 사회적기업1호펀드, 72.4% 수익 올리고 청산돼   \n",
       "\n",
       "                                             content  \\\n",
       "0  지난해 말 조직개편을 통해 펀드 판매에 승부수를 띄운 NH투자증권이 올해 들어 금융...   \n",
       "1  코윈테크, 8월 코스닥 상장 추진 \\n \\n \\n[ 이우상 기자 ] 2차전지 생산용...   \n",
       "2  올해 들어 증시가 호조를 보이면서 증권주들이 1분기 양호한 성적표를 받아들었다. 이...   \n",
       "3  한화 라이프플러스 상장지수펀드(ETF)의 수익률이 설정 이후 양호한 수익률을 올리고...   \n",
       "4  미래에셋벤처투자는 지난 2011년 42억원으로 결성했던 사회적기업1호펀드가 72.4...   \n",
       "\n",
       "                          category  date_tmp  \n",
       "0     [경제>증권_증시, 경제>금융_재테크, 경제>유통]    737168  \n",
       "1  [경제>산업_기업, 경제>증권_증시, 경제>금융_재테크]    737168  \n",
       "2   [경제>증권_증시, 경제>금융_재테크, 경제>국제경제]    737168  \n",
       "3   [경제>금융_재테크, 경제>증권_증시, 경제>국제경제]    737168  \n",
       "4    [경제>산업_기업, 경제>증권_증시, 경제>국제경제]    737168  "
      ]
     },
     "execution_count": 24,
     "metadata": {},
     "output_type": "execute_result"
    }
   ],
   "source": [
    "df.head()"
   ]
  },
  {
   "cell_type": "code",
   "execution_count": 25,
   "metadata": {
    "ExecuteTime": {
     "end_time": "2019-05-13T08:01:04.027917Z",
     "start_time": "2019-05-13T08:00:57.102917Z"
    }
   },
   "outputs": [],
   "source": [
    "df_pre_1 = preprocessor.make_content_re(df.content) # 전처리"
   ]
  },
  {
   "cell_type": "code",
   "execution_count": 26,
   "metadata": {
    "ExecuteTime": {
     "end_time": "2019-05-13T08:06:36.428917Z",
     "start_time": "2019-05-13T08:01:04.029917Z"
    },
    "scrolled": true
   },
   "outputs": [
    {
     "name": "stdout",
     "output_type": "stream",
     "text": [
      "추가한 명사: ['정보통신', '환헤지', '조웅기', '핀테크', '큐레이션', '투명성', '최경주', '상장', '임직원', '아시아그로쓰', '라이징스타', '파이낸셜', '캡스', '리파이낸싱', '싱가포르투자청', '도이체방크', '도이치뱅크', '카우룽', '그린마크', '광주은행', '대신증권', '삼성생명', '신한은행', '우리은행', '유안타증권', '펀드슈퍼마켓', '한국투자증권', '기업은행', '하나은행', '제일은행', '퀀트모델', '포트폴리오', '헤지펀드', '트레이딩', '영업점', '셀렉션', '구인', '사업화', '협약식', '미래에셋센터원', '최연소', '이테크', '미래에셋', '미래에셋대우', '에트리홀딩스', '펀드설정액', '분기', '벤처', '사회적기업', '성장지원', '헬스케어', '해결책', '메리츠', '신고가', '지주', '증권주', '벨류에이션', '이베스트', '수익성', '실사구시', '페어트레이딩', '쓸어', '상장사', '한투', '한국투자증권', '순매수', '거래량', '상장주식수', '분기', '미상환', '업무지구', '장기적', '한온시스템', '보여', '주간사', '젠바디', '예탁결제원', '크라우드펀딩', '영업이익률', '이익률', '파워리퍼블릭', '운용사', '아모텍', '지분', '박스권', '저평가', '시총', '긍정적', '납세자', '셀리드', '에스퓨얼셀', '게임사', '할인율', '재도전', '인공지능', '당기순익', '비대면', '사업가치', '재평가', '순매도', '순매수', '수혜주', '마중물', '혼조세', '신고가', '합리적', '재취업', '다각화', '자문형랩', '순익', '설정액', '원소재', '메디톡스', '인허가', '성장통', '호실적', '주간사', '주관사', '예상치', '호실적', '압도', '신성장', '기술료', '조기상환', '비임원', '기대감', '순매도', '저평가', '거래량', '내수', '건설사', '호실적', '코스메틱', '제이준', '아이센스', '분양권', '영입', '지주', '시황', '애널리스트', '']\n",
      "불용어:  []\n"
     ]
    }
   ],
   "source": [
    "df_pre_2 = preprocessor.tokenize(df_pre_1) # 명사 추출"
   ]
  },
  {
   "cell_type": "code",
   "execution_count": 36,
   "metadata": {
    "ExecuteTime": {
     "end_time": "2019-05-13T08:10:27.933917Z",
     "start_time": "2019-05-13T08:10:27.920917Z"
    }
   },
   "outputs": [],
   "source": [
    "df['content_re'] = df_pre_1\n",
    "df['tokenized_doc'] = df_pre_2"
   ]
  },
  {
   "cell_type": "code",
   "execution_count": 37,
   "metadata": {
    "ExecuteTime": {
     "end_time": "2019-05-13T08:10:28.947917Z",
     "start_time": "2019-05-13T08:10:28.493917Z"
    }
   },
   "outputs": [
    {
     "data": {
      "text/plain": [
       "0    [지난해, 조직개편, 통해, 펀드, 판매, 부수, 투자, 증권, 올해, 금융, 가장...\n",
       "1    [코윈, 테크, 코스닥, 상장, 추진, 전지, 생산, 설비, 제조, 기업인, 코윈,...\n",
       "2    [올해, 증시, 호조, 보이, 면서, 증권주, 양호, 성적표, 아들, 었다, 증권,...\n",
       "3    [한화, 라이프, 플러스, 장지수, 펀드, 수익률, 설정, 이후, 양호, 수익률, ...\n",
       "4    [미래에셋, 벤처, 투자, 지난, 억원, 결성, 사회적기업, 펀드, 수익, 지난달,...\n",
       "Name: tokenized_doc, dtype: object"
      ]
     },
     "execution_count": 37,
     "metadata": {},
     "output_type": "execute_result"
    }
   ],
   "source": [
    "df.tokenized_doc = df.tokenized_doc.apply(lambda x: [ i for i in x if len(i) > 1 ]) # 한글자 제거\n",
    "df.tokenized_doc.head()"
   ]
  },
  {
   "cell_type": "markdown",
   "metadata": {},
   "source": [
    "## 노이즈 제거"
   ]
  },
  {
   "cell_type": "code",
   "execution_count": 38,
   "metadata": {
    "ExecuteTime": {
     "end_time": "2019-05-13T08:10:31.789917Z",
     "start_time": "2019-05-13T08:10:31.778917Z"
    }
   },
   "outputs": [],
   "source": [
    "def count_topic(tokenized_doc, topic):\n",
    "    counting = []\n",
    "    for news in tokenized_doc:\n",
    "        counting.append(news.count(topic))\n",
    "    return counting\n",
    "\n",
    "def plot_hist(counting):\n",
    "    counting_pd = pd.Series(counting)\n",
    "    bins = len(counting_pd.value_counts())\n",
    "    counting_pd.hist(figsize=(16, 12), bins=bins+20)\n",
    "    plt.xlabel(\"counting\", fontsize=14)\n",
    "    plt.show()\n",
    "\n",
    "def get_proper_news(data, counting, threshold):\n",
    "    select = np.array(counting) >= threshold\n",
    "    print('number of total data:', len(data))\n",
    "    print('number of proper data:', sum(select))\n",
    "    return data[select].copy()"
   ]
  },
  {
   "cell_type": "code",
   "execution_count": 42,
   "metadata": {
    "ExecuteTime": {
     "end_time": "2019-05-13T08:11:04.679917Z",
     "start_time": "2019-05-13T08:11:04.443917Z"
    }
   },
   "outputs": [
    {
     "data": {
      "image/png": "[encoded data removed]",
      "text/plain": [
       "<Figure size 1152x864 with 1 Axes>"
      ]
     },
     "metadata": {},
     "output_type": "display_data"
    }
   ],
   "source": [
    "counting = count_topic(df.tokenized_doc, \"미래에셋대우\")\n",
    "plot_hist(counting)"
   ]
  },
  {
   "cell_type": "code",
   "execution_count": 167,
   "metadata": {
    "ExecuteTime": {
     "end_time": "2019-05-09T01:32:27.698812Z",
     "start_time": "2019-05-09T01:32:27.623812Z"
    }
   },
   "outputs": [],
   "source": [
    "# 원하는 타이틀만 가져오기\n",
    "\"\"\"tmp_list = [] \n",
    "for i in range(df.shape[0]) :\n",
    "    if '미래에셋' in df['title'][i] :\n",
    "        tmp_list.append(True)\n",
    "    else :\n",
    "        tmp_list.append(False)\"\"\""
   ]
  },
  {
   "cell_type": "code",
   "execution_count": 43,
   "metadata": {
    "ExecuteTime": {
     "end_time": "2019-05-13T08:11:07.691917Z",
     "start_time": "2019-05-13T08:11:07.643917Z"
    }
   },
   "outputs": [
    {
     "name": "stdout",
     "output_type": "stream",
     "text": [
      "number of total data: 10000\n",
      "number of proper data: 1829\n"
     ]
    }
   ],
   "source": [
    "data = get_proper_news(df_pre_2, counting, threshold=3)"
   ]
  },
  {
   "cell_type": "markdown",
   "metadata": {},
   "source": [
    "## 문서검색"
   ]
  },
  {
   "cell_type": "code",
   "execution_count": 44,
   "metadata": {
    "ExecuteTime": {
     "end_time": "2019-05-13T08:11:17.651917Z",
     "start_time": "2019-05-13T08:11:17.646917Z"
    }
   },
   "outputs": [
    {
     "name": "stdout",
     "output_type": "stream",
     "text": [
      "******GetDocsFromQuery******\n",
      "1)set_query(검색어(str)) : 검색어 설정 \n",
      "2)select_news(데이터프레임(DataFrame),title) : 검색어를 포함한 문서를 시리즈로 반환, title = True 면 제목에 쿼리를 포함한 문서 인덱스 반환\n",
      "*****************************\n"
     ]
    }
   ],
   "source": [
    "doc_selector = newsight.GetDocsFromQuery()\n",
    "doc_selector.help()"
   ]
  },
  {
   "cell_type": "code",
   "execution_count": 45,
   "metadata": {
    "ExecuteTime": {
     "end_time": "2019-05-13T08:11:18.059917Z",
     "start_time": "2019-05-13T08:11:18.056917Z"
    }
   },
   "outputs": [],
   "source": [
    "doc_selector.set_query('미래에셋대우')"
   ]
  },
  {
   "cell_type": "code",
   "execution_count": 62,
   "metadata": {
    "ExecuteTime": {
     "end_time": "2019-05-13T08:21:26.779917Z",
     "start_time": "2019-05-13T08:21:26.714917Z"
    },
    "scrolled": true
   },
   "outputs": [
    {
     "ename": "KeyError",
     "evalue": "'content'",
     "output_type": "error",
     "traceback": [
      "\u001b[1;31m---------------------------------------------------------------------------\u001b[0m",
      "\u001b[1;31mTypeError\u001b[0m                                 Traceback (most recent call last)",
      "\u001b[1;32mpandas\\_libs\\index.pyx\u001b[0m in \u001b[0;36mpandas._libs.index.IndexEngine.get_loc\u001b[1;34m()\u001b[0m\n",
      "\u001b[1;32mpandas\\_libs\\hashtable_class_helper.pxi\u001b[0m in \u001b[0;36mpandas._libs.hashtable.Int64HashTable.get_item\u001b[1;34m()\u001b[0m\n",
      "\u001b[1;31mTypeError\u001b[0m: an integer is required",
      "\nDuring handling of the above exception, another exception occurred:\n",
      "\u001b[1;31mKeyError\u001b[0m                                  Traceback (most recent call last)",
      "\u001b[1;32m<ipython-input-62-1794322b0d1f>\u001b[0m in \u001b[0;36m<module>\u001b[1;34m()\u001b[0m\n\u001b[1;32m----> 1\u001b[1;33m \u001b[0mquery_docs\u001b[0m \u001b[1;33m=\u001b[0m \u001b[0mdoc_selector\u001b[0m\u001b[1;33m.\u001b[0m\u001b[0mselect_news\u001b[0m\u001b[1;33m(\u001b[0m\u001b[0mdata\u001b[0m\u001b[1;33m)\u001b[0m\u001b[1;33m\u001b[0m\u001b[0m\n\u001b[0m",
      "\u001b[1;32m~\\Desktop\\뉴스 자동 분류 프로젝트\\코드 정리\\newsight.py\u001b[0m in \u001b[0;36mselect_news\u001b[1;34m(self, df, title)\u001b[0m\n\u001b[0;32m    208\u001b[0m         \u001b[1;32melse\u001b[0m \u001b[1;33m:\u001b[0m\u001b[1;33m\u001b[0m\u001b[0m\n\u001b[0;32m    209\u001b[0m             \u001b[1;32mfor\u001b[0m \u001b[0midx\u001b[0m \u001b[1;32min\u001b[0m \u001b[0mrange\u001b[0m\u001b[1;33m(\u001b[0m\u001b[0mdf\u001b[0m\u001b[1;33m.\u001b[0m\u001b[0mshape\u001b[0m\u001b[1;33m[\u001b[0m\u001b[1;36m0\u001b[0m\u001b[1;33m]\u001b[0m\u001b[1;33m)\u001b[0m\u001b[1;33m:\u001b[0m\u001b[1;33m\u001b[0m\u001b[0m\n\u001b[1;32m--> 210\u001b[1;33m                 \u001b[1;32mif\u001b[0m \u001b[0mself\u001b[0m\u001b[1;33m.\u001b[0m\u001b[0mquery\u001b[0m \u001b[1;32min\u001b[0m \u001b[0mdf\u001b[0m\u001b[1;33m[\u001b[0m\u001b[1;34m'content'\u001b[0m\u001b[1;33m]\u001b[0m\u001b[1;33m.\u001b[0m\u001b[0miloc\u001b[0m\u001b[1;33m[\u001b[0m\u001b[0midx\u001b[0m\u001b[1;33m]\u001b[0m\u001b[1;33m:\u001b[0m\u001b[1;33m\u001b[0m\u001b[0m\n\u001b[0m\u001b[0;32m    211\u001b[0m                     \u001b[0mselected_news\u001b[0m\u001b[1;33m.\u001b[0m\u001b[0mappend\u001b[0m\u001b[1;33m(\u001b[0m\u001b[0midx\u001b[0m\u001b[1;33m)\u001b[0m\u001b[1;33m\u001b[0m\u001b[0m\n\u001b[0;32m    212\u001b[0m         \u001b[0mprint\u001b[0m\u001b[1;33m(\u001b[0m\u001b[1;34mf\"length of selected news: {len(selected_news)}\"\u001b[0m\u001b[1;33m)\u001b[0m\u001b[1;33m\u001b[0m\u001b[0m\n",
      "\u001b[1;32mC:\\ProgramData\\Anaconda3\\lib\\site-packages\\pandas\\core\\series.py\u001b[0m in \u001b[0;36m__getitem__\u001b[1;34m(self, key)\u001b[0m\n\u001b[0;32m    764\u001b[0m         \u001b[0mkey\u001b[0m \u001b[1;33m=\u001b[0m \u001b[0mcom\u001b[0m\u001b[1;33m.\u001b[0m\u001b[0m_apply_if_callable\u001b[0m\u001b[1;33m(\u001b[0m\u001b[0mkey\u001b[0m\u001b[1;33m,\u001b[0m \u001b[0mself\u001b[0m\u001b[1;33m)\u001b[0m\u001b[1;33m\u001b[0m\u001b[0m\n\u001b[0;32m    765\u001b[0m         \u001b[1;32mtry\u001b[0m\u001b[1;33m:\u001b[0m\u001b[1;33m\u001b[0m\u001b[0m\n\u001b[1;32m--> 766\u001b[1;33m             \u001b[0mresult\u001b[0m \u001b[1;33m=\u001b[0m \u001b[0mself\u001b[0m\u001b[1;33m.\u001b[0m\u001b[0mindex\u001b[0m\u001b[1;33m.\u001b[0m\u001b[0mget_value\u001b[0m\u001b[1;33m(\u001b[0m\u001b[0mself\u001b[0m\u001b[1;33m,\u001b[0m \u001b[0mkey\u001b[0m\u001b[1;33m)\u001b[0m\u001b[1;33m\u001b[0m\u001b[0m\n\u001b[0m\u001b[0;32m    767\u001b[0m \u001b[1;33m\u001b[0m\u001b[0m\n\u001b[0;32m    768\u001b[0m             \u001b[1;32mif\u001b[0m \u001b[1;32mnot\u001b[0m \u001b[0mis_scalar\u001b[0m\u001b[1;33m(\u001b[0m\u001b[0mresult\u001b[0m\u001b[1;33m)\u001b[0m\u001b[1;33m:\u001b[0m\u001b[1;33m\u001b[0m\u001b[0m\n",
      "\u001b[1;32mC:\\ProgramData\\Anaconda3\\lib\\site-packages\\pandas\\core\\indexes\\base.py\u001b[0m in \u001b[0;36mget_value\u001b[1;34m(self, series, key)\u001b[0m\n\u001b[0;32m   3101\u001b[0m         \u001b[1;32mtry\u001b[0m\u001b[1;33m:\u001b[0m\u001b[1;33m\u001b[0m\u001b[0m\n\u001b[0;32m   3102\u001b[0m             return self._engine.get_value(s, k,\n\u001b[1;32m-> 3103\u001b[1;33m                                           tz=getattr(series.dtype, 'tz', None))\n\u001b[0m\u001b[0;32m   3104\u001b[0m         \u001b[1;32mexcept\u001b[0m \u001b[0mKeyError\u001b[0m \u001b[1;32mas\u001b[0m \u001b[0me1\u001b[0m\u001b[1;33m:\u001b[0m\u001b[1;33m\u001b[0m\u001b[0m\n\u001b[0;32m   3105\u001b[0m             \u001b[1;32mif\u001b[0m \u001b[0mlen\u001b[0m\u001b[1;33m(\u001b[0m\u001b[0mself\u001b[0m\u001b[1;33m)\u001b[0m \u001b[1;33m>\u001b[0m \u001b[1;36m0\u001b[0m \u001b[1;32mand\u001b[0m \u001b[0mself\u001b[0m\u001b[1;33m.\u001b[0m\u001b[0minferred_type\u001b[0m \u001b[1;32min\u001b[0m \u001b[1;33m[\u001b[0m\u001b[1;34m'integer'\u001b[0m\u001b[1;33m,\u001b[0m \u001b[1;34m'boolean'\u001b[0m\u001b[1;33m]\u001b[0m\u001b[1;33m:\u001b[0m\u001b[1;33m\u001b[0m\u001b[0m\n",
      "\u001b[1;32mpandas\\_libs\\index.pyx\u001b[0m in \u001b[0;36mpandas._libs.index.IndexEngine.get_value\u001b[1;34m()\u001b[0m\n",
      "\u001b[1;32mpandas\\_libs\\index.pyx\u001b[0m in \u001b[0;36mpandas._libs.index.IndexEngine.get_value\u001b[1;34m()\u001b[0m\n",
      "\u001b[1;32mpandas\\_libs\\index.pyx\u001b[0m in \u001b[0;36mpandas._libs.index.IndexEngine.get_loc\u001b[1;34m()\u001b[0m\n",
      "\u001b[1;31mKeyError\u001b[0m: 'content'"
     ]
    }
   ],
   "source": [
    "query_docs = doc_selector.select_news(data)"
   ]
  },
  {
   "cell_type": "code",
   "execution_count": 171,
   "metadata": {
    "ExecuteTime": {
     "end_time": "2019-05-09T01:32:43.106812Z",
     "start_time": "2019-05-09T01:32:43.074612Z"
    }
   },
   "outputs": [
    {
     "data": {
      "text/plain": [
       "0    [쏘카, 다가, 장애인, 하루, 동안, 쏘카, 휠체어, 슬로, 어시스트, 차량, 장...\n",
       "1    [쏘카, 로고, 쏘카, 장애인, 장애인, 어시스트, 쏘카, 휠체어, 슬로, 차량, ...\n",
       "2    [지난, 네이버, 로부터, 투자, 유치, 실내, 정밀, 위치, 측정, 기술, 스타트...\n",
       "3    [배용준, 투자, 폴라, 리언, 인수, 미래, 먹거리, 선제, 투자, 차량, 공유,...\n",
       "4    [차량, 공유, 기업, 쏘카, 전기차, 시장, 테슬라, 잡고, 차량, 공유, 시장,...\n",
       "Name: tokenized_doc, dtype: object"
      ]
     },
     "execution_count": 171,
     "metadata": {},
     "output_type": "execute_result"
    }
   ],
   "source": [
    "query_docs.head()"
   ]
  },
  {
   "cell_type": "markdown",
   "metadata": {},
   "source": [
    "## 유의어, 불용어 처리"
   ]
  },
  {
   "cell_type": "code",
   "execution_count": 49,
   "metadata": {
    "ExecuteTime": {
     "end_time": "2019-05-13T08:13:23.561917Z",
     "start_time": "2019-05-13T08:13:23.536917Z"
    }
   },
   "outputs": [
    {
     "ename": "AttributeError",
     "evalue": "module 'newsight' has no attribute 'GetSimilarWords'",
     "output_type": "error",
     "traceback": [
      "\u001b[1;31m---------------------------------------------------------------------------\u001b[0m",
      "\u001b[1;31mAttributeError\u001b[0m                            Traceback (most recent call last)",
      "\u001b[1;32m<ipython-input-49-6835f5e50b4d>\u001b[0m in \u001b[0;36m<module>\u001b[1;34m()\u001b[0m\n\u001b[1;32m----> 1\u001b[1;33m \u001b[0msimilar_words\u001b[0m \u001b[1;33m=\u001b[0m \u001b[0mnewsight\u001b[0m\u001b[1;33m.\u001b[0m\u001b[0mGetSimilarWords\u001b[0m\u001b[1;33m(\u001b[0m\u001b[1;33m)\u001b[0m\u001b[1;33m\u001b[0m\u001b[0m\n\u001b[0m\u001b[0;32m      2\u001b[0m \u001b[0msimilar_words\u001b[0m\u001b[1;33m.\u001b[0m\u001b[0mhelp\u001b[0m\u001b[1;33m(\u001b[0m\u001b[1;33m)\u001b[0m\u001b[1;33m\u001b[0m\u001b[0m\n",
      "\u001b[1;31mAttributeError\u001b[0m: module 'newsight' has no attribute 'GetSimilarWords'"
     ]
    }
   ],
   "source": [
    "similar_words = GetSpecialWords.GetSimilarWords()\n",
    "similar_words.help()"
   ]
  },
  {
   "cell_type": "code",
   "execution_count": null,
   "metadata": {
    "ExecuteTime": {
     "end_time": "2019-05-06T11:22:39.370755Z",
     "start_time": "2019-05-06T11:22:39.034158Z"
    }
   },
   "outputs": [],
   "source": [
    "#similar_words.get_similar_words('투자')"
   ]
  },
  {
   "cell_type": "code",
   "execution_count": null,
   "metadata": {
    "ExecuteTime": {
     "end_time": "2019-05-06T11:22:16.764116Z",
     "start_time": "2019-05-06T11:22:15.182733Z"
    }
   },
   "outputs": [],
   "source": [
    "#similar_words.get_model(query_docs,size = 300)"
   ]
  },
  {
   "cell_type": "code",
   "execution_count": 52,
   "metadata": {
    "ExecuteTime": {
     "end_time": "2019-05-13T08:16:19.311917Z",
     "start_time": "2019-05-13T08:16:19.305917Z"
    }
   },
   "outputs": [],
   "source": [
    "GetSpecialWords = newsight.GetSpecialWords()"
   ]
  },
  {
   "cell_type": "code",
   "execution_count": 64,
   "metadata": {
    "ExecuteTime": {
     "end_time": "2019-05-13T08:22:00.754917Z",
     "start_time": "2019-05-13T08:22:00.584917Z"
    },
    "scrolled": true
   },
   "outputs": [
    {
     "name": "stdout",
     "output_type": "stream",
     "text": [
      "의견\n",
      "목표\n",
      "투자\n",
      "미래에셋대우\n",
      "매수\n",
      "주가\n",
      "제시\n",
      "유지\n",
      "것\n",
      "최근\n",
      "원\n",
      "증권\n",
      "적\n",
      "컨센서스\n",
      "이번\n",
      "증권사\n",
      "발표\n",
      "억원\n",
      "종목\n",
      "대비\n",
      "분석\n",
      "등\n",
      "전\n",
      "대한\n",
      "시장\n",
      "조정\n",
      "기준\n",
      "전체\n",
      "풀\n",
      "수준\n",
      "및\n",
      "리포트\n",
      "고\n",
      "제공\n",
      "추이\n",
      "또한\n",
      "평균\n",
      "로\n",
      "국내\n",
      "매매\n",
      "기업\n",
      "이\n",
      "수\n",
      "대해\n",
      "체적\n",
      "기\n",
      "실적\n",
      "로봇\n",
      "면서\n",
      "이익\n",
      "의\n",
      "비교\n",
      "오늘\n",
      "일자\n",
      "상승\n",
      "까지\n",
      "가격\n",
      "해외\n",
      "영업\n",
      "변화\n",
      "글로벌\n",
      "한편\n",
      "말\n",
      "를\n",
      "금융\n",
      "볼때\n",
      "직전\n",
      "점\n",
      "동사\n",
      "증가\n",
      "매출\n",
      "올해\n",
      "전망\n",
      "하향\n",
      "가가\n",
      "주식\n",
      "금융투자\n",
      "가장\n",
      "이후\n",
      "예상\n",
      "폭\n",
      "경우\n",
      "라며\n",
      "하락\n",
      "중\n",
      "상향\n",
      "기대감\n",
      "사업\n",
      "수익\n",
      "현\n",
      "내\n",
      "성장\n",
      "업체\n",
      "최저\n",
      "부문\n",
      "분기\n",
      "표현\n",
      "삼성\n",
      "기록\n",
      "동안\n",
      "거래\n",
      "개\n",
      "추세\n",
      "위\n",
      "크게\n",
      "지난해\n",
      "주\n",
      "액\n",
      "집계\n",
      "수렴\n",
      "애널리스트\n",
      "기사\n",
      "객관\n",
      "개월\n",
      "최고\n",
      "바\n",
      "미래에셋\n",
      "기대\n",
      "자산\n",
      "모습\n",
      "정보\n",
      "역시\n",
      "보수\n",
      "전일\n",
      "해석\n",
      "지속\n",
      "개선\n",
      "고객\n",
      "요인\n",
      "규모\n",
      "종가\n",
      "준\n",
      "전자신문\n",
      "동향\n",
      "현재\n",
      "대하\n",
      "상태\n",
      "처리\n",
      "만원\n",
      "균\n",
      "실시간\n",
      "흐름\n",
      "때문\n",
      "참고\n",
      "이상\n",
      "공격\n",
      "통계\n",
      "코멘트\n",
      "가평\n",
      "분기기\n",
      "하이라이트\n",
      "계속\n",
      "평가\n",
      "회\n",
      "감소\n",
      "투자자\n",
      "법인\n",
      "업계\n",
      "제일\n",
      "중국\n",
      "배당\n",
      "그대로\n",
      "신규\n",
      "통해\n",
      "지난\n",
      "조원\n",
      "한국투자증권\n",
      "달\n",
      "수익률\n",
      "순이익\n",
      "치\n",
      "존재\n",
      "추가\n",
      "확대\n",
      "회장\n",
      "후\n",
      "차례\n",
      "진행\n",
      "며\n",
      "해\n",
      "하나\n",
      "상\n",
      "상품\n",
      "저평가\n",
      "부터\n",
      "그룹\n",
      "조억원\n",
      "서비스\n",
      "비중\n",
      "업종\n",
      "억\n",
      "가능성\n",
      "풀이\n",
      "기관\n",
      "더\n",
      "위해\n",
      "회사\n",
      "명\n",
      "두\n",
      "다가\n",
      "개인\n",
      "미국\n",
      "초반\n",
      "관련\n",
      "당하\n",
      "센터\n",
      "연금\n",
      "율\n",
      "약\n",
      "다소\n",
      "유\n",
      "펀드\n",
      "연속\n",
      "관리\n",
      "한국\n",
      "가의\n",
      "판단\n",
      "가능\n",
      "전자\n",
      "안\n",
      "인수\n",
      "지하\n",
      "추정\n",
      "은행\n",
      "발행\n",
      "총\n",
      "부진\n",
      "최대\n",
      "관계자\n",
      "비\n",
      "주요\n",
      "홍콩\n",
      "대표\n",
      "수수료\n",
      "더욱\n",
      "달러\n",
      "나타\n",
      "은\n",
      "년\n",
      "신한\n",
      "때\n",
      "외국인\n",
      "아지\n",
      "조\n",
      "그\n",
      "트레이딩\n",
      "다시\n",
      "화\n",
      "각각\n",
      "주주\n",
      "초과\n",
      "원대\n",
      "일\n",
      "비용\n",
      "전략\n",
      "률\n",
      "성\n",
      "위험\n",
      "지분\n",
      "사\n",
      "자본\n",
      "상장\n",
      "판매\n",
      "예정\n",
      "강화\n",
      "계획\n",
      "수익성\n",
      "형\n",
      "성과\n",
      "설명\n",
      "매물\n",
      "선\n",
      "기존\n",
      "금융업\n",
      "장\n",
      "부동산\n",
      "퇴직\n",
      "정도\n",
      "현지\n",
      "간\n",
      "하반기\n",
      "대상\n",
      "효과\n",
      "경영\n",
      "손실\n",
      "디지털\n",
      "영향\n",
      "상황\n",
      "제\n",
      "향후\n",
      "한화\n",
      "수요\n",
      "발생\n",
      "참여\n",
      "긍정적\n",
      "롯데\n",
      "배\n",
      "메리츠\n",
      "지급\n",
      "세\n",
      "경협과\n",
      "정몽윤\n",
      "택자\n",
      "면직\n",
      "중부로\n",
      "랭커\n",
      "부러\n",
      "웨\n",
      "극상\n",
      "히키\n",
      "사혁\n",
      "포스코건설\n",
      "박성순\n",
      "무안\n",
      "무게중심\n",
      "이규\n",
      "셰어\n",
      "강남구\n",
      "시술\n",
      "와스프\n",
      "이지스\n",
      "단서\n",
      "민씨\n",
      "득세\n",
      "적경\n",
      "방망이\n",
      "무상증자\n",
      "정면\n",
      "다린\n",
      "형기\n",
      "렌즈\n",
      "거북이\n",
      "기정\n",
      "가추\n",
      "찍기\n",
      "송부했다\n",
      "라돈\n",
      "장밋빛\n",
      "출입\n",
      "무진행\n",
      "포르투갈\n",
      "고요\n",
      "출동\n",
      "단절\n",
      "설자리\n",
      "신부전증\n",
      "미술품\n",
      "반지\n",
      "터닝\n",
      "열전\n",
      "금호아시아나\n",
      "말문\n",
      "보대\n",
      "월이자지급\n",
      "은한\n",
      "해설\n",
      "재무관리\n",
      "비책\n",
      "컷오프\n",
      "일상생활\n",
      "흉내\n",
      "이자보\n",
      "직관\n",
      "이병\n",
      "드이\n",
      "프로폴리스\n",
      "친노\n",
      "촉진\n",
      "파일\n",
      "이주일\n",
      "과반수\n",
      "리엘\n",
      "놨다\n",
      "부리\n",
      "하이패스\n",
      "교육학\n",
      "신동빈\n",
      "이스라엘\n",
      "불변\n",
      "외압설\n",
      "진정서\n",
      "리메이크\n",
      "툴\n",
      "비즈니스석\n",
      "마음껏\n",
      "알레\n",
      "학내\n",
      "배곧\n",
      "캐시미어\n",
      "감점\n",
      "황산니켈\n",
      "팅되\n",
      "웠\n",
      "버거\n",
      "송구\n",
      "불로\n",
      "오죽\n",
      "마인\n",
      "에퀴티\n",
      "항고심\n",
      "뮤직비디오\n",
      "김상훈\n",
      "토린\n",
      "어울\n",
      "라빅\n",
      "출퇴근시간\n",
      "소강\n",
      "실업자\n",
      "총리와\n",
      "중책\n",
      "양쪽\n",
      "변재\n",
      "제로섬\n",
      "주최\n",
      "덴탈디텍터\n",
      "소시\n",
      "로얄\n",
      "독립시\n",
      "백전노장\n",
      "띤\n",
      "윤장호\n",
      "회로\n",
      "동대문\n",
      "국방부\n",
      "큐티\n",
      "징후\n",
      "생중계\n",
      "닉티\n",
      "동계올림픽\n",
      "팬클럽\n",
      "종별\n",
      "극한\n",
      "김수연\n",
      "용적\n",
      "력도\n",
      "반신반의\n",
      "웅용\n",
      "통솔\n",
      "토론토\n",
      "클리오\n",
      "간접세\n",
      "월세\n",
      "크라운\n",
      "신발\n",
      "김학균\n",
      "배증\n",
      "끈끈\n",
      "뭇\n",
      "진취\n",
      "정말\n",
      "수의사\n",
      "무임\n",
      "수신\n",
      "준정\n",
      "골도\n",
      "증세\n",
      "복용\n",
      "강현석\n",
      "단부\n",
      "이온\n",
      "가격담합\n",
      "돌기\n",
      "의제\n",
      "해선\n",
      "주창\n",
      "거시\n",
      "스트로\n",
      "이정희\n",
      "대개\n",
      "토양\n",
      "안승\n",
      "소셜네트워크서비스\n",
      "양화로\n",
      "출산\n",
      "제헌\n",
      "영진약품\n",
      "유태인\n",
      "서천\n",
      "로베코샘\n",
      "안간힘\n",
      "카트\n",
      "소극\n",
      "굿\n",
      "컴공\n",
      "미익\n",
      "배상하\n",
      "혼합형\n",
      "김충\n",
      "레퍼토리\n",
      "다이너마이트\n",
      "리뱀핑\n",
      "섬\n",
      "예치\n",
      "타국\n",
      "외국산\n",
      "노미\n",
      "인덱스\n",
      "이철민\n",
      "맨해튼\n",
      "년새\n",
      "리도\n",
      "우직\n",
      "지옥\n",
      "스미스\n",
      "박강\n",
      "지칭\n",
      "치레\n",
      "일동\n",
      "살림살이\n",
      "설태\n",
      "점증\n",
      "륙할지\n",
      "매몰비용\n",
      "화북\n",
      "탈세\n",
      "어지\n",
      "치명\n",
      "피나\n",
      "재건\n",
      "알제리\n",
      "애물\n",
      "최민\n",
      "브라운\n",
      "아이온\n",
      "처우\n",
      "가요\n",
      "산유\n",
      "배후\n",
      "군집\n",
      "축구장\n",
      "국제대\n",
      "처마\n",
      "여실히\n",
      "광복\n",
      "금보\n",
      "영속\n",
      "청담러닝\n",
      "국보\n",
      "싼값\n",
      "롱숏\n",
      "선례\n",
      "김준섭\n",
      "평동\n",
      "신지윤\n",
      "문라이트\n",
      "피로\n",
      "바퀴\n",
      "분루\n",
      "유해\n",
      "원정\n",
      "불의\n",
      "극성\n",
      "백색\n",
      "세종시\n",
      "틈\n",
      "예부\n",
      "역행\n",
      "더보\n",
      "한약\n",
      "기해\n",
      "의류건조기\n",
      "유민\n",
      "엑스선\n",
      "표준화\n",
      "아툰\n",
      "자식\n",
      "환불\n",
      "킹스\n",
      "금시\n",
      "대지\n",
      "강의실\n",
      "박영석\n",
      "싸드\n",
      "에어맥\n",
      "자락\n",
      "트롬\n",
      "총검\n",
      "거슬러\n",
      "퇴치\n",
      "대역\n",
      "마법\n",
      "롱쇼트\n",
      "귀감\n",
      "제작발표회\n",
      "상미\n",
      "빈센트\n",
      "트램폴린\n",
      "셋팅\n",
      "모체\n",
      "무능\n",
      "바나나\n",
      "부위\n",
      "링쿡\n",
      "이동전화\n",
      "독야청청\n",
      "니나\n",
      "안정감\n",
      "애자\n",
      "임봉균\n",
      "헤드라이트\n"
     ]
    }
   ],
   "source": [
    "GetSpecialWords.get_bow(data)\n",
    "GetSpecialWords.get_stop_words(300) # 출현 빈도 상위,하위 10위 단어 출력"
   ]
  },
  {
   "cell_type": "code",
   "execution_count": 65,
   "metadata": {
    "ExecuteTime": {
     "end_time": "2019-05-13T08:30:32.117917Z",
     "start_time": "2019-05-13T08:30:31.987917Z"
    }
   },
   "outputs": [],
   "source": [
    "a = '''\n",
    "미래에셋대우\n",
    "제시\n",
    "유지\n",
    "것\n",
    "최근\n",
    "원\n",
    "적\n",
    "이번\n",
    "억원\n",
    "대비\n",
    "등\n",
    "전\n",
    "대한\n",
    "시장\n",
    "조정\n",
    "기준\n",
    "전체\n",
    "풀\n",
    "수준\n",
    "및\n",
    "리포트\n",
    "고\n",
    "추이\n",
    "또한\n",
    "로\n",
    "이\n",
    "수\n",
    "대해\n",
    "체적\n",
    "기\n",
    "면서\n",
    "의\n",
    "비교\n",
    "오늘\n",
    "일자\n",
    "상승\n",
    "까지\n",
    "한편\n",
    "말\n",
    "를\n",
    "볼때\n",
    "직전\n",
    "점\n",
    "동사\n",
    "올해\n",
    "가가\n",
    "가장\n",
    "이후\n",
    "예상\n",
    "폭\n",
    "경우\n",
    "라며\n",
    "중\n",
    "기대감\n",
    "현\n",
    "내\n",
    "최저\n",
    "부문\n",
    "분기\n",
    "표현\n",
    "기록\n",
    "동안\n",
    "개\n",
    "위\n",
    "크게\n",
    "지난해\n",
    "주\n",
    "액\n",
    "집계\n",
    "수렴\n",
    "애널리스트\n",
    "기사\n",
    "객관\n",
    "개월\n",
    "최고\n",
    "바\n",
    "미래에셋\n",
    "기대\n",
    "모습\n",
    "정보\n",
    "역시\n",
    "보수\n",
    "전일\n",
    "해석\n",
    "지속\n",
    "개선\n",
    "요인\n",
    "준\n",
    "전자신문\n",
    "동향\n",
    "현재\n",
    "대하\n",
    "상태\n",
    "처리\n",
    "만원\n",
    "균\n",
    "실시간\n",
    "흐름\n",
    "때문\n",
    "참고\n",
    "이상\n",
    "공격\n",
    "통계\n",
    "코멘트\n",
    "가평\n",
    "분기기\n",
    "하이라이트\n",
    "계속\n",
    "회\n",
    "감소\n",
    "제일\n",
    "그대로\n",
    "신규\n",
    "통해\n",
    "지난\n",
    "조원\n",
    "달\n",
    "치\n",
    "존재\n",
    "추가\n",
    "확대\n",
    "후\n",
    "차례\n",
    "며\n",
    "해\n",
    "하나\n",
    "상\n",
    "부터\n",
    "조억원\n",
    "비중\n",
    "억\n",
    "가능성\n",
    "풀이\n",
    "더\n",
    "위해\n",
    "명\n",
    "두\n",
    "다가\n",
    "개인\n",
    "초반\n",
    "관련\n",
    "당하\n",
    "율\n",
    "약\n",
    "다소\n",
    "유\n",
    "연속\n",
    "관리\n",
    "한국\n",
    "가의\n",
    "판단\n",
    "가능\n",
    "전자\n",
    "안\n",
    "인수\n",
    "지하\n",
    "추정\n",
    "총\n",
    "최대\n",
    "관계자\n",
    "비\n",
    "주요\n",
    "더욱\n",
    "달러\n",
    "나타\n",
    "은\n",
    "년\n",
    "때\n",
    "아지\n",
    "조\n",
    "그\n",
    "트레이딩\n",
    "다시\n",
    "화\n",
    "각각\n",
    "초과\n",
    "원대\n",
    "일\n",
    "률\n",
    "성\n",
    "사\n",
    "예정\n",
    "강화\n",
    "수익성\n",
    "형\n",
    "설명\n",
    "매물\n",
    "선\n",
    "기존\n",
    "장\n",
    "정도\n",
    "현지\n",
    "간\n",
    "하반기\n",
    "대상\n",
    "효과\n",
    "영향\n",
    "상황\n",
    "제\n",
    "향후\n",
    "수요\n",
    "발생\n",
    "참여\n",
    "긍정적\n",
    "배\n",
    "지급\n",
    "세\n",
    "경협과\n",
    "택자\n",
    "면직\n",
    "중부로\n",
    "랭커\n",
    "부러\n",
    "웨\n",
    "극상\n",
    "히키\n",
    "사혁\n",
    "무안\n",
    "무게중심\n",
    "이규\n",
    "셰어\n",
    "강남구\n",
    "시술\n",
    "단서\n",
    "민씨\n",
    "득세\n",
    "적경\n",
    "방망이\n",
    "정면\n",
    "다린\n",
    "형기\n",
    "렌즈\n",
    "거북이\n",
    "기정\n",
    "가추\n",
    "찍기\n",
    "라돈\n",
    "장밋빛\n",
    "출입\n",
    "무진행\n",
    "고요\n",
    "출동\n",
    "단절\n",
    "설자리\n",
    "미술품\n",
    "반지\n",
    "터닝\n",
    "열전\n",
    "금호아시아나\n",
    "말문\n",
    "보대\n",
    "월이자지급\n",
    "은한\n",
    "해설\n",
    "비책\n",
    "컷오프\n",
    "일상생활\n",
    "흉내\n",
    "이자보\n",
    "직관\n",
    "이병\n",
    "드이\n",
    "촉진\n",
    "파일\n",
    "이주일\n",
    "과반수\n",
    "리엘\n",
    "놨다\n",
    "부리\n",
    "하이패스\n",
    "교육학\n",
    "신동빈\n",
    "이스라엘\n",
    "불변\n",
    "진정서\n",
    "리메이크\n",
    "툴\n",
    "마음껏\n",
    "알레\n",
    "학내\n",
    "배곧\n",
    "감점\n",
    "황산니켈\n",
    "팅되\n",
    "웠\n",
    "버거\n",
    "송구\n",
    "불로\n",
    "오죽\n",
    "마인\n",
    "항고심\n",
    "뮤직비디오\n",
    "토린\n",
    "어울\n",
    "라빅\n",
    "출퇴근시간\n",
    "소강\n",
    "중책\n",
    "양쪽\n",
    "변재\n",
    "제로섬\n",
    "주최\n",
    "덴탈디텍터\n",
    "소시\n",
    "로얄\n",
    "독립시\n",
    "백전노장\n",
    "띤\n",
    "회로\n",
    "동대문\n",
    "큐티\n",
    "징후\n",
    "생중계\n",
    "닉티\n",
    "팬클럽\n",
    "극한\n",
    "김수연\n",
    "용적\n",
    "력도\n",
    "반신반의\n",
    "웅용\n",
    "통솔\n",
    "토론토\n",
    "클리오\n",
    "간접세\n",
    "월세\n",
    "크라운\n",
    "신발\n",
    "배증\n",
    "끈끈\n",
    "뭇\n",
    "진취\n",
    "정말\n",
    "수의사\n",
    "무임\n",
    "수신\n",
    "준정\n",
    "골도\n",
    "증세\n",
    "복용\n",
    "단부\n",
    "이온\n",
    "돌기\n",
    "의제\n",
    "해선\n",
    "주창\n",
    "거시\n",
    "스트로\n",
    "대개\n",
    "토양\n",
    "안승\n",
    "양화로\n",
    "출산\n",
    "제헌\n",
    "유태인\n",
    "서천\n",
    "로베코샘\n",
    "안간힘\n",
    "카트\n",
    "소극\n",
    "굿\n",
    "컴공\n",
    "미익\n",
    "배상하\n",
    "혼합형\n",
    "김충\n",
    "레퍼토리\n",
    "다이너마이트\n",
    "리뱀핑\n",
    "섬\n",
    "예치\n",
    "타국\n",
    "외국산\n",
    "노미\n",
    "년새\n",
    "리도\n",
    "우직\n",
    "지옥\n",
    "박강\n",
    "지칭\n",
    "치레\n",
    "일동\n",
    "살림살이\n",
    "설태\n",
    "점증\n",
    "륙할지\n",
    "화북\n",
    "어지\n",
    "치명\n",
    "피나\n",
    "재건\n",
    "애물\n",
    "최민\n",
    "처우\n",
    "가요\n",
    "산유\n",
    "배후\n",
    "군집\n",
    "축구장\n",
    "국제대\n",
    "처마\n",
    "여실히\n",
    "광복\n",
    "금보\n",
    "영속\n",
    "청담러닝\n",
    "롱숏\n",
    "선례\n",
    "김준섭\n",
    "평동\n",
    "피로\n",
    "바퀴\n",
    "분루\n",
    "유해\n",
    "원정\n",
    "불의\n",
    "극성\n",
    "백색\n",
    "세종시\n",
    "틈\n",
    "예부\n",
    "역행\n",
    "더보\n",
    "한약\n",
    "기해\n",
    "의류건조기\n",
    "유민\n",
    "엑스선\n",
    "표준화\n",
    "아툰\n",
    "자식\n",
    "환불\n",
    "킹스\n",
    "금시\n",
    "대지\n",
    "강의실\n",
    "싸드\n",
    "에어맥\n",
    "자락\n",
    "총검\n",
    "거슬러\n",
    "퇴치\n",
    "대역\n",
    "마법\n",
    "롱쇼트\n",
    "귀감\n",
    "제작발표회\n",
    "상미\n",
    "빈센트\n",
    "트램폴린\n",
    "셋팅\n",
    "모체\n",
    "무능\n",
    "바나나\n",
    "부위\n",
    "링쿡\n",
    "이동전화\n",
    "독야청청\n",
    "니나\n",
    "안정감\n",
    "애자\n",
    "임봉균\n",
    "헤드라이트\n",
    "'''\n",
    "stopwords = a.split()"
   ]
  },
  {
   "cell_type": "code",
   "execution_count": null,
   "metadata": {},
   "outputs": [],
   "source": []
  },
  {
   "cell_type": "markdown",
   "metadata": {},
   "source": [
    "## 벡터화(DTM)"
   ]
  },
  {
   "cell_type": "code",
   "execution_count": 85,
   "metadata": {
    "ExecuteTime": {
     "end_time": "2019-05-09T01:00:25.571207Z",
     "start_time": "2019-05-09T01:00:25.540007Z"
    }
   },
   "outputs": [],
   "source": [
    "from sklearn.feature_extraction.text import CountVectorizer"
   ]
  },
  {
   "cell_type": "code",
   "execution_count": 173,
   "metadata": {
    "ExecuteTime": {
     "end_time": "2019-05-09T01:32:53.028812Z",
     "start_time": "2019-05-09T01:32:52.999212Z"
    }
   },
   "outputs": [
    {
     "data": {
      "text/plain": [
       "0    쏘카 다가 장애인 하루 동안 쏘카 휠체어 슬로 어시스트 차량 장애인 무료 제공 쏘카...\n",
       "1    쏘카 로고 쏘카 장애인 장애인 어시스트 쏘카 휠체어 슬로 차량 무료 제공 쏘카 휠체...\n",
       "2    지난 네이버 로부터 투자 유치 실내 정밀 위치 측정 기술 스타트업 폴라 리언 차량 ...\n",
       "3    배용준 투자 폴라 리언 인수 미래 먹거리 선제 투자 차량 공유 기업 쏘카 가상현실 ...\n",
       "4    차량 공유 기업 쏘카 전기차 시장 테슬라 잡고 차량 공유 시장 확대 나선 쏘카 테슬...\n",
       "Name: tokenized_doc, dtype: object"
      ]
     },
     "execution_count": 173,
     "metadata": {},
     "output_type": "execute_result"
    }
   ],
   "source": [
    "query_doc_lower = data.tokenized_doc.apply(lambda x: ' '.join(x))\n",
    "query_doc_lower.head()"
   ]
  },
  {
   "cell_type": "code",
   "execution_count": 190,
   "metadata": {
    "ExecuteTime": {
     "end_time": "2019-05-09T01:40:27.233014Z",
     "start_time": "2019-05-09T01:40:27.112414Z"
    }
   },
   "outputs": [],
   "source": [
    "vectorizer = CountVectorizer(min_df = 0.03, max_df = 0.7, stop_words= first_stopwords)\n",
    "x_content_dtm = vectorizer.fit_transform(query_doc_lower).toarray()  "
   ]
  },
  {
   "cell_type": "code",
   "execution_count": 191,
   "metadata": {
    "ExecuteTime": {
     "end_time": "2019-05-09T01:40:27.533014Z",
     "start_time": "2019-05-09T01:40:27.527014Z"
    }
   },
   "outputs": [
    {
     "data": {
      "text/plain": [
       "(763, 704)"
      ]
     },
     "execution_count": 191,
     "metadata": {},
     "output_type": "execute_result"
    }
   ],
   "source": [
    "x_content_dtm.shape"
   ]
  },
  {
   "cell_type": "markdown",
   "metadata": {},
   "source": [
    "### LDA\n",
    "#### 알맞은 topic갯수 찾기"
   ]
  },
  {
   "cell_type": "code",
   "execution_count": 99,
   "metadata": {
    "ExecuteTime": {
     "end_time": "2019-05-09T01:01:56.931007Z",
     "start_time": "2019-05-09T01:01:56.899807Z"
    }
   },
   "outputs": [],
   "source": [
    "from sklearn.decomposition import LatentDirichletAllocation"
   ]
  },
  {
   "cell_type": "code",
   "execution_count": 227,
   "metadata": {
    "ExecuteTime": {
     "end_time": "2019-05-09T02:05:19.427019Z",
     "start_time": "2019-05-09T02:04:28.816619Z"
    }
   },
   "outputs": [
    {
     "name": "stdout",
     "output_type": "stream",
     "text": [
      "content기준 n_topics(1)개 Perplexity : 485.53010518412196\n",
      "****************************************************************************************************\n",
      "content기준 n_topics(3)개 Perplexity : 414.64296066201234\n",
      "****************************************************************************************************\n",
      "content기준 n_topics(5)개 Perplexity : 399.56822592335214\n",
      "****************************************************************************************************\n",
      "content기준 n_topics(7)개 Perplexity : 389.33788579243776\n",
      "****************************************************************************************************\n",
      "content기준 n_topics(9)개 Perplexity : 371.19724454030126\n",
      "****************************************************************************************************\n",
      "content기준 n_topics(11)개 Perplexity : 369.416744779161\n",
      "****************************************************************************************************\n",
      "content기준 n_topics(13)개 Perplexity : 362.302856631318\n",
      "****************************************************************************************************\n",
      "content기준 n_topics(15)개 Perplexity : 363.6132326163023\n",
      "****************************************************************************************************\n",
      "content기준 n_topics(17)개 Perplexity : 360.378582702992\n",
      "****************************************************************************************************\n",
      "content기준 n_topics(19)개 Perplexity : 365.1140613431842\n",
      "****************************************************************************************************\n",
      "content기준 n_topics(21)개 Perplexity : 358.7507512749921\n",
      "****************************************************************************************************\n"
     ]
    }
   ],
   "source": [
    "perplexity = []\n",
    "n_topic = []\n",
    "for n_topics in range(1,22,2):\n",
    "    lda = LatentDirichletAllocation(n_components=n_topics, learning_method=\"online\",\n",
    "                                   max_iter=20, random_state=0,evaluate_every = -1)\n",
    "    document_topics = lda.fit_transform(x_content_dtm)\n",
    "    perplexity.append(lda.perplexity(x_content_dtm))\n",
    "    n_topic.append(n_topics)\n",
    "    print(f'content기준 n_topics({n_topics})개 Perplexity : {lda.perplexity(x_content_dtm)}')\n",
    "    print('*'*100)"
   ]
  },
  {
   "cell_type": "markdown",
   "metadata": {},
   "source": [
    "#### LDA 실행"
   ]
  },
  {
   "cell_type": "code",
   "execution_count": 237,
   "metadata": {
    "ExecuteTime": {
     "end_time": "2019-05-09T02:33:45.139626Z",
     "start_time": "2019-05-09T02:33:38.736026Z"
    }
   },
   "outputs": [],
   "source": [
    "n_topics = 10\n",
    "lda = LatentDirichletAllocation(n_components=n_topics, learning_method=\"online\",\n",
    "                                   max_iter=30, random_state=4,evaluate_every = -1)\n",
    "my_docs_topic = lda.fit_transform(x_content_dtm)\n",
    "topic_composition = lda.components_"
   ]
  },
  {
   "cell_type": "code",
   "execution_count": 238,
   "metadata": {
    "ExecuteTime": {
     "end_time": "2019-05-09T02:33:45.145626Z",
     "start_time": "2019-05-09T02:33:45.141626Z"
    }
   },
   "outputs": [
    {
     "data": {
      "text/plain": [
       "704"
      ]
     },
     "execution_count": 238,
     "metadata": {},
     "output_type": "execute_result"
    }
   ],
   "source": [
    "features = vectorizer.get_feature_names()\n",
    "len(features)"
   ]
  },
  {
   "cell_type": "code",
   "execution_count": 239,
   "metadata": {
    "ExecuteTime": {
     "end_time": "2019-05-09T02:33:45.192626Z",
     "start_time": "2019-05-09T02:33:45.146626Z"
    }
   },
   "outputs": [],
   "source": [
    "n_top = 5\n",
    "for i in range(n_topics):\n",
    "    topic_features = [features[idx] for idx in np.argsort(-topic_composition[i,:])]   # argsort는 소 -> 대의 순서로 정렬.\n",
    "    topic_features_top = topic_features[0:n_top]\n",
    "    if i == 0:\n",
    "        topic_matrix = [topic_features_top]                    # list의 list 만들 준비!\n",
    "    else:\n",
    "        topic_matrix.append(topic_features_top) "
   ]
  },
  {
   "cell_type": "code",
   "execution_count": 241,
   "metadata": {
    "ExecuteTime": {
     "end_time": "2019-05-09T02:33:45.266626Z",
     "start_time": "2019-05-09T02:33:45.231626Z"
    }
   },
   "outputs": [],
   "source": [
    "# Topic 이름 정하기\n",
    "topic_names = list(range(20))"
   ]
  },
  {
   "cell_type": "code",
   "execution_count": 242,
   "metadata": {
    "ExecuteTime": {
     "end_time": "2019-05-09T02:33:45.406626Z",
     "start_time": "2019-05-09T02:33:45.267626Z"
    }
   },
   "outputs": [
    {
     "name": "stderr",
     "output_type": "stream",
     "text": [
      "C:\\ProgramData\\Anaconda3\\lib\\site-packages\\ipykernel_launcher.py:7: SettingWithCopyWarning: \n",
      "A value is trying to be set on a copy of a slice from a DataFrame.\n",
      "Try using .loc[row_indexer,col_indexer] = value instead\n",
      "\n",
      "See the caveats in the documentation: http://pandas.pydata.org/pandas-docs/stable/indexing.html#indexing-view-versus-copy\n",
      "  import sys\n"
     ]
    }
   ],
   "source": [
    "# 문서별 토픽의 성분을 알기 때문에 매우 간단하다!\n",
    "n_docs = len(data['content'])\n",
    "lda_label = []\n",
    "for i in range(n_docs):\n",
    "    topic_pick = np.argmax(my_docs_topic[i,:])\n",
    "    lda_label.append(topic_names[topic_pick])\n",
    "data['lda_label'] = lda_label"
   ]
  },
  {
   "cell_type": "code",
   "execution_count": 243,
   "metadata": {
    "ExecuteTime": {
     "end_time": "2019-05-09T02:33:46.398826Z",
     "start_time": "2019-05-09T02:33:46.374226Z"
    }
   },
   "outputs": [
    {
     "data": {
      "text/plain": [
       "4    185\n",
       "9    120\n",
       "3    111\n",
       "8     93\n",
       "5     90\n",
       "0     56\n",
       "2     44\n",
       "7     32\n",
       "6     17\n",
       "1     15\n",
       "Name: lda_label, dtype: int64"
      ]
     },
     "execution_count": 243,
     "metadata": {},
     "output_type": "execute_result"
    }
   ],
   "source": [
    "data['lda_label'].value_counts()"
   ]
  },
  {
   "cell_type": "code",
   "execution_count": 246,
   "metadata": {
    "ExecuteTime": {
     "end_time": "2019-05-09T02:34:06.826426Z",
     "start_time": "2019-05-09T02:34:06.795226Z"
    }
   },
   "outputs": [
    {
     "data": {
      "text/plain": [
       "[['대표', '창업', '카풀', '기업', '신성장'],\n",
       " ['할인', '제로', '대여', '전국', '택시'],\n",
       " ['기술', '자율', '개발', '네이버', '텔레콤'],\n",
       " ['이벤트', '제공', '이용', '진행', '쿠폰'],\n",
       " ['이용', '제공', '고객', '지역', '주차장'],\n",
       " ['투자', '시장', '성장', '회원', '업계'],\n",
       " ['투자', '유치', '모빌리티', '인프라', '기술'],\n",
       " ['모빌리티', '카카오', '이동', '자전거', '스타트업'],\n",
       " ['그린카', '자동차', '렌터카', '사업', '시장'],\n",
       " ['이용', '대여', '요금', '고객', '그린카']]"
      ]
     },
     "execution_count": 246,
     "metadata": {},
     "output_type": "execute_result"
    }
   ],
   "source": [
    "topic_matrix"
   ]
  },
  {
   "cell_type": "code",
   "execution_count": 252,
   "metadata": {
    "ExecuteTime": {
     "end_time": "2019-05-09T04:55:12.474470Z",
     "start_time": "2019-05-09T04:55:12.455870Z"
    }
   },
   "outputs": [
    {
     "name": "stdout",
     "output_type": "stream",
     "text": [
      "56                   \"지난해 쏘카로 긁은 카드값 2673억…2030세대가 주요 고객\"\n",
      "95                                  쏘카, 반값 차량대여 ‘쏘카패스’ 출시\n",
      "96                     쏘카, 전 차량 대여료 반값으로 이용 가능한 ‘쏘카패스’ 출시\n",
      "97                           쏘카, 차량 정기구독 서비스 ‘쏘카패스’ 정식 출시\n",
      "100                        [사설] 강릉 참변 부른 카셰어링 허점 서둘러 보완해야\n",
      "101                        버젓이 거래되는 카셰어링 아이디, 처벌 방안은 오리무중\n",
      "532                            쏘카 세차계약 종료에 일자리 잃은 저소득 주민들\n",
      "711                               쏘카, ‘반값할인’ 정기 구독 서비스 출시\n",
      "762                               쏘카, 추석 연휴 대비 차량 집중점검 실시\n",
      "844                                     카셰어링 늘며 초단기 보험 뜬다\n",
      "848                              카셰어링 이용자, \"친한경차 만족도 높아요\"\n",
      "851                       카셰어링 업체 3곳 중 만족도 꼴지 업체는?···‘쏘카’\n",
      "853                   카셰어링 만족도 1위 '카썸'…피해구제 합의율 1위는 '그린카'\n",
      "854                           카셰어링 편리성 높지만 가격 보상절차 만족도 낮아\n",
      "864                          카셰어링 고객이 가장 선호하는 차는 전기차 '볼트'\n",
      "878                   국토부 \"운행 자제해달라\" 쏘카는 대여 중단…BMW사태 일파만파\n",
      "887                          신한카드, 쏘카 이용요금 최대 30% 할인카드 출시\n",
      "888                         신한카드, 쏘카 이용요금 최대 30% 할인카드 선보여\n",
      "890                  신한카드, 쏘카 이용요금 최대 30% 할인 `쏘카 할인카드` 출시\n",
      "893                          신한카드, 쏘카 이용요금 최대 30% 할인카드 출시\n",
      "920                          어른 ID 빌리면… 10대에게도 車 내주는 카셰어링\n",
      "1069              진화하는 카셰어링… 캠퍼스카부터 차량 배달까지 ‘혜택에 혜택을 더하다’\n",
      "1077                   [Why] \"내차 아닌데 어때\" 막 달리다 사고 치는 카셰어링\n",
      "1094                             인천시 “미세먼지 저감 위해 카셰어링 확대”\n",
      "1148                                 카셰어링 이용건수 2년새 3배 늘었다\n",
      "1154               야놀자·쏘카 등 개인정보보호 위반 O2O 7개사에 9000만원 과태료\n",
      "1157                       야놀자·쏘카 등 O2O 7곳 개인정보보호 위반 `철퇴`\n",
      "1166                   \"배터리 충전비 억울한데 벌금까지?\"…황당한 1위 카셰어링업체\n",
      "1202                           “제가 갖다 드릴게요”, 카셰어링의 자발적 진화\n",
      "1213     무면허 '쏘카' 타고 빈차털이 후 무면허 오토바이 탄 10대 추적해 괴롭힌 10대 일당\n",
      "                              ...                        \n",
      "1688                     카셰어링 신드롬…쏘카·그린카 年매출 648억 2년새 7배↑\n",
      "1759                              삼성전자, 기어S2 전용 `쏘카` 앱 출시\n",
      "1786                              정부, 쏘카·그린카 '카쉐어링' 본격 육성\n",
      "1832                [김현주의 일상 톡톡] 자차 소유욕 강한 한국, 카쉐어링 자리잡을까\n",
      "1833                [김현주의 일상 톡톡] 자차 소유욕 강한 한국, 카쉐어링 자리잡을까\n",
      "1949                             편리한 카셰어링, 사고 땐 부담금도 만만찮아\n",
      "1950                              '내 차 같은' 카셰어링, 이래서 반했어요\n",
      "1970                  [기획] 내 차 없이 내 차처럼… 무섭게 크는 ‘카셰어링’ 시장\n",
      "1973                    자동차 필요한가요? 시간 단위로 빌리세요!…‘카셰어링’ 인기\n",
      "2041                              카셰어링 가격인하 경쟁… 고객 유치 안간힘\n",
      "2049                              내 차 없어도 내 차처럼… 카셰어링 이용법\n",
      "2057                     유가 내렸는데 카셰어링 주행비용은 '요지부동'…고객들 불만\n",
      "2069                                    택시·렌터카 애매할 땐 카셰어링\n",
      "2077                               카셰어링에 지자체가 같이 나서는 이유는?\n",
      "2081                  1만원이면 2시간 동안 아반떼가 내 車…카셰어링, 카~ 편리하네\n",
      "2083    <착한 경제, 사회적 기업 1000개 시대>공유기업들 ‘나눔 서비스’ 확산… 쏘카,...\n",
      "2097         내 맘대로 세컨드카 ‘카셰어링’ 인기 | 3시간 3만원…짧은 시간 이용에 ‘딱’\n",
      "2099                              [이슈분석]카셰어링, 차 이용 문화 바꾼다\n",
      "2115                                ‘카셰어링’ 3명 중 2명이 경차 이용\n",
      "2117                               \"카셰어링 이용객 68% '경차' 이용\"\n",
      "2119                      카셰어링 서비스 이용 패턴 분석해보니…경차 선호 두드러져\n",
      "2121                               시간당 6000원… 카셰어링 빠르게 확산\n",
      "2124                          7인승 패밀리카를 하루 6만원에 `알뜰 카셰어링`\n",
      "2125                              쏘카, ‘쉐보레 올란도’ 서비스 신규 투입\n",
      "2129            서너시간만 필요한데 왜 하루 종일 빌리나요… 시간당 1만원선 카셰어링 인기\n",
      "2130            서너시간만 필요한데 왜 하루 종일 빌리나요… 시간당 1만원선 카셰어링 인기\n",
      "2131                 IT와 자동차의 만남 카셰어링 인기, ‘쏘카’ 1년새 10배 성장\n",
      "2156                  급하게 딱 1시간만 차 빌려쓰고 싶다면 당황하지 말고~ 카셰어링\n",
      "2168                            카셰어링 서비스…자동차와 IT의 짜릿한 만남!\n",
      "2208                    [구청브리프] 서울 관악구, '카셰어링서비스' 적극 지원한다\n",
      "Name: title, Length: 120, dtype: object\n"
     ]
    }
   ],
   "source": [
    "print(data[data['lda_label']==9].title)"
   ]
  },
  {
   "cell_type": "markdown",
   "metadata": {},
   "source": []
  }
 ],
 "metadata": {
  "hide_input": false,
  "kernelspec": {
   "display_name": "Python 3",
   "language": "python",
   "name": "python3"
  },
  "language_info": {
   "codemirror_mode": {
    "name": "ipython",
    "version": 3
   },
   "file_extension": ".py",
   "mimetype": "text/x-python",
   "name": "python",
   "nbconvert_exporter": "python",
   "pygments_lexer": "ipython3",
   "version": "3.6.5"
  },
  "toc": {
   "base_numbering": 1,
   "nav_menu": {},
   "number_sections": true,
   "sideBar": true,
   "skip_h1_title": true,
   "title_cell": "Table of Contents",
   "title_sidebar": "Contents",
   "toc_cell": true,
   "toc_position": {
    "height": "calc(100% - 180px)",
    "left": "10px",
    "top": "150px",
    "width": "165px"
   },
   "toc_section_display": true,
   "toc_window_display": false
  },
  "varInspector": {
   "cols": {
    "lenName": 16,
    "lenType": 16,
    "lenVar": 40
   },
   "kernels_config": {
    "python": {
     "delete_cmd_postfix": "",
     "delete_cmd_prefix": "del ",
     "library": "var_list.py",
     "varRefreshCmd": "print(var_dic_list())"
    },
    "r": {
     "delete_cmd_postfix": ") ",
     "delete_cmd_prefix": "rm(",
     "library": "var_list.r",
     "varRefreshCmd": "cat(var_dic_list()) "
    }
   },
   "types_to_exclude": [
    "module",
    "function",
    "builtin_function_or_method",
    "instance",
    "_Feature"
   ],
   "window_display": false
  }
 },
 "nbformat": 4,
 "nbformat_minor": 2
}
