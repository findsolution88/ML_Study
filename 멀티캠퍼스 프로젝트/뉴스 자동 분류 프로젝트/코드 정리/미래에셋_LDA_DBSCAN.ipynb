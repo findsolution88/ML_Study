{
 "cells": [
  {
   "cell_type": "markdown",
   "metadata": {},
   "source": [
    "# NewSight Work Flow\n",
    "\n",
    "1. 데이터 불러오기\n",
    "2. 전처리, 명사추출 \n",
    "3. 노이즈 제거 \n",
    "4. (유의어, 불용어 처리)  -> 이후 2번 업데이트\n",
    "5. TF-IDF 벡터화 \n",
    "6. LDA \n",
    "7. LDA 주제별 문서 뽑기 \n",
    "8. 문서검색(없어도될듯) \n",
    "9. 주제별 TF-IDF, Doc2Vec 벡터화 \n",
    "10. 군집화, 시각화"
   ]
  },
  {
   "cell_type": "markdown",
   "metadata": {},
   "source": [
    "데이터 불러오기 -> 전처리, 명사추출 -> 노이즈 제거 -> (유의어, 불용어 처리) -> TF-IDF 벡터화 -> LDA -> LDA 주제별 문서 뽑기 -> 문서검색(없어도될듯) -> 주제별 TF-IDF, Doc2Vec 벡터화 -> 군집화, 시각화"
   ]
  },
  {
   "cell_type": "code",
   "execution_count": 1,
   "metadata": {
    "ExecuteTime": {
     "end_time": "2019-05-10T03:25:08.669602Z",
     "start_time": "2019-05-10T03:25:07.113602Z"
    }
   },
   "outputs": [
    {
     "name": "stdout",
     "output_type": "stream",
     "text": [
      "******Description*****\n",
      "code by 현호킴, description by 승현백\n",
      "클래스 이름.help() : 해당 클래스에서 사용할 수 있는 함수 출력\n",
      "******Class names******\n",
      "1) 데이터 불러오기 : Pickle2DF\n",
      "2) 전처리 : PreprocessingText\n",
      "3) 불용어,유의어 처리 : GetSimilarWords, GetStopWords\n",
      "4) 문서 검색 :  GetDocsFromQuery\n",
      "5) 벡터화 :  Vectorizer\n",
      "6) 시각화 : Get2DPlot, AnalyzingNewsData, WordCloud\n",
      "7) 이상치 제거 : CleaningNoise\n",
      "8) 키워드 추출 : GetKeyword\n",
      "******수정사항*****\n",
      "노가다화이팅\n"
     ]
    }
   ],
   "source": [
    "import newsight\n",
    "newsight.readme()"
   ]
  },
  {
   "cell_type": "markdown",
   "metadata": {},
   "source": [
    "## 데이터 불러오기"
   ]
  },
  {
   "cell_type": "code",
   "execution_count": 2,
   "metadata": {
    "ExecuteTime": {
     "end_time": "2019-05-10T03:25:11.166602Z",
     "start_time": "2019-05-10T03:25:11.154602Z"
    }
   },
   "outputs": [],
   "source": [
    "mirae_list = ['data/미래에셋대우/rawdata_미래에셋대우.pickle']\n",
    "blizzard_list = ['data/블리자드/rawdata_경향신문_블리자드.pickle',\n",
    "                'data/블리자드/rawdata_국민일보_블리자드.pickle',\n",
    "                'data/블리자드/rawdata_동아일보_블리자드.pickle',\n",
    "                'data/블리자드/rawdata_디지털타임즈_블리자드.pickle',\n",
    "                'data/블리자드/rawdata_매일경제_블리자드.pickle',\n",
    "                'data/블리자드/rawdata_머니투데이_블리자드.pickle',\n",
    "                'data/블리자드/rawdata_문화일보_블리자드.pickle',\n",
    "                'data/블리자드/rawdata_서울신문_블리자드.pickle',\n",
    "                'data/블리자드/rawdata_세계일보_블리자드.pickle',\n",
    "                'data/블리자드/rawdata_아주경제_블리자드.pickle',\n",
    "                'data/블리자드/rawdata_전자신문_블리자드.pickle',\n",
    "                'data/블리자드/rawdata_조선일보_블리자드.pickle',\n",
    "                'data/블리자드/rawdata_중앙일보_블리자드.pickle',\n",
    "                'data/블리자드/rawdata_한겨레_블리자드.pickle',\n",
    "                'data/블리자드/rawdata_한국경제_블리자드.pickle',\n",
    "                'data/블리자드/rawdata_한국일보_블리자드.pickle',\n",
    "                ]\n",
    "\n",
    "data_list = mirae_list"
   ]
  },
  {
   "cell_type": "code",
   "execution_count": 3,
   "metadata": {
    "ExecuteTime": {
     "end_time": "2019-05-10T03:25:14.050602Z",
     "start_time": "2019-05-10T03:25:13.502602Z"
    }
   },
   "outputs": [],
   "source": [
    "data_loader = newsight.Pickle2DF()\n",
    "df = data_loader.get_dataframe_from_list(data_list)"
   ]
  },
  {
   "cell_type": "code",
   "execution_count": 4,
   "metadata": {
    "ExecuteTime": {
     "end_time": "2019-05-10T03:25:14.442602Z",
     "start_time": "2019-05-10T03:25:14.304602Z"
    }
   },
   "outputs": [
    {
     "data": {
      "text/html": [
       "<div>\n",
       "<style scoped>\n",
       "    .dataframe tbody tr th:only-of-type {\n",
       "        vertical-align: middle;\n",
       "    }\n",
       "\n",
       "    .dataframe tbody tr th {\n",
       "        vertical-align: top;\n",
       "    }\n",
       "\n",
       "    .dataframe thead th {\n",
       "        text-align: right;\n",
       "    }\n",
       "</style>\n",
       "<table border=\"1\" class=\"dataframe\">\n",
       "  <thead>\n",
       "    <tr style=\"text-align: right;\">\n",
       "      <th></th>\n",
       "      <th>date</th>\n",
       "      <th>title</th>\n",
       "      <th>content</th>\n",
       "      <th>date_tmp</th>\n",
       "    </tr>\n",
       "  </thead>\n",
       "  <tbody>\n",
       "    <tr>\n",
       "      <th>0</th>\n",
       "      <td>2019-04-19</td>\n",
       "      <td>NH투자證 `선택과 집중` 통했다…펀드설정액, 증권사 1위에 올라</td>\n",
       "      <td>지난해 말 조직개편을 통해 펀드 판매에 승부수를 띄운 NH투자증권이 올해 들어 금융...</td>\n",
       "      <td>737168</td>\n",
       "    </tr>\n",
       "    <tr>\n",
       "      <th>1</th>\n",
       "      <td>2019-04-19</td>\n",
       "      <td>2차전지 기업들, 속속 '코스닥 입성' 채비</td>\n",
       "      <td>코윈테크, 8월 코스닥 상장 추진 \\n \\n \\n[ 이우상 기자 ] 2차전지 생산용...</td>\n",
       "      <td>737168</td>\n",
       "    </tr>\n",
       "    <tr>\n",
       "      <th>2</th>\n",
       "      <td>2019-04-19</td>\n",
       "      <td>증시 호조에 증권株 `훨훨`…2분기 실적도 `맑음`</td>\n",
       "      <td>올해 들어 증시가 호조를 보이면서 증권주들이 1분기 양호한 성적표를 받아들었다. 이...</td>\n",
       "      <td>737168</td>\n",
       "    </tr>\n",
       "    <tr>\n",
       "      <th>3</th>\n",
       "      <td>2019-04-19</td>\n",
       "      <td>한화 LifePlus TDF 설정 1년, 4% 대 운용성과 달성</td>\n",
       "      <td>한화 라이프플러스 상장지수펀드(ETF)의 수익률이 설정 이후 양호한 수익률을 올리고...</td>\n",
       "      <td>737168</td>\n",
       "    </tr>\n",
       "    <tr>\n",
       "      <th>4</th>\n",
       "      <td>2019-04-19</td>\n",
       "      <td>미래에셋벤처투자의 사회적기업1호펀드, 72.4% 수익 올리고 청산돼</td>\n",
       "      <td>미래에셋벤처투자는 지난 2011년 42억원으로 결성했던 사회적기업1호펀드가 72.4...</td>\n",
       "      <td>737168</td>\n",
       "    </tr>\n",
       "  </tbody>\n",
       "</table>\n",
       "</div>"
      ],
      "text/plain": [
       "         date                                  title  \\\n",
       "0  2019-04-19   NH투자證 `선택과 집중` 통했다…펀드설정액, 증권사 1위에 올라   \n",
       "1  2019-04-19               2차전지 기업들, 속속 '코스닥 입성' 채비   \n",
       "2  2019-04-19           증시 호조에 증권株 `훨훨`…2분기 실적도 `맑음`   \n",
       "3  2019-04-19    한화 LifePlus TDF 설정 1년, 4% 대 운용성과 달성   \n",
       "4  2019-04-19  미래에셋벤처투자의 사회적기업1호펀드, 72.4% 수익 올리고 청산돼   \n",
       "\n",
       "                                             content  date_tmp  \n",
       "0  지난해 말 조직개편을 통해 펀드 판매에 승부수를 띄운 NH투자증권이 올해 들어 금융...    737168  \n",
       "1  코윈테크, 8월 코스닥 상장 추진 \\n \\n \\n[ 이우상 기자 ] 2차전지 생산용...    737168  \n",
       "2  올해 들어 증시가 호조를 보이면서 증권주들이 1분기 양호한 성적표를 받아들었다. 이...    737168  \n",
       "3  한화 라이프플러스 상장지수펀드(ETF)의 수익률이 설정 이후 양호한 수익률을 올리고...    737168  \n",
       "4  미래에셋벤처투자는 지난 2011년 42억원으로 결성했던 사회적기업1호펀드가 72.4...    737168  "
      ]
     },
     "execution_count": 4,
     "metadata": {},
     "output_type": "execute_result"
    }
   ],
   "source": [
    "df.head()"
   ]
  },
  {
   "cell_type": "code",
   "execution_count": 5,
   "metadata": {
    "ExecuteTime": {
     "end_time": "2019-05-10T03:25:16.077602Z",
     "start_time": "2019-05-10T03:25:14.870602Z"
    }
   },
   "outputs": [],
   "source": [
    "tmp_idx = []\n",
    "for idx in range(df.shape[0]):\n",
    "    if '미래에셋' in df.iloc[idx]['title'] : tmp_idx.append(idx)"
   ]
  },
  {
   "cell_type": "markdown",
   "metadata": {},
   "source": [
    "# ========================="
   ]
  },
  {
   "cell_type": "code",
   "execution_count": null,
   "metadata": {},
   "outputs": [],
   "source": [
    "# 데이터 크기 줄이기\n",
    "import random\n",
    "def reduction(data, number=100):\n",
    "    rand_idx = random.sample(range(number),number)\n",
    "    return df.iloc[rand_idx].copy()\n",
    "\n",
    "# df_2 = reduction(df, 100) \n",
    "# or\n",
    "# df_2 = df.copy()\n",
    "#df_2 = df.iloc[tmp_idx].copy()\n",
    "#len(df_2)"
   ]
  },
  {
   "cell_type": "code",
   "execution_count": null,
   "metadata": {},
   "outputs": [],
   "source": [
    "tmp_idx = []\n",
    "for idx in range(df_2.shape[0]):\n",
    "    if 'ET투자뉴스' not in df_2.iloc[idx]['title'] : tmp_idx.append(idx)\n",
    "        \n",
    "df2_2 = df_2.iloc[tmp_idx].copy()"
   ]
  },
  {
   "cell_type": "code",
   "execution_count": null,
   "metadata": {},
   "outputs": [],
   "source": [
    "len(df2_2)"
   ]
  },
  {
   "cell_type": "code",
   "execution_count": null,
   "metadata": {},
   "outputs": [],
   "source": [
    "tmp_idx = []\n",
    "for idx in range(df2_2.shape[0]):\n",
    "    if '한경로보뉴스' not in df2_2.iloc[idx]['title'] : tmp_idx.append(idx)\n",
    "        \n",
    "df2_2 = df2_2.iloc[tmp_idx].copy()"
   ]
  },
  {
   "cell_type": "code",
   "execution_count": null,
   "metadata": {},
   "outputs": [],
   "source": [
    "len(df2_2)"
   ]
  },
  {
   "cell_type": "code",
   "execution_count": null,
   "metadata": {},
   "outputs": [],
   "source": [
    "df_2 = df2_2.copy()"
   ]
  },
  {
   "cell_type": "markdown",
   "metadata": {},
   "source": [
    "# ======================="
   ]
  },
  {
   "cell_type": "markdown",
   "metadata": {},
   "source": [
    "## 전처리, 명사추출"
   ]
  },
  {
   "cell_type": "code",
   "execution_count": 7,
   "metadata": {
    "ExecuteTime": {
     "end_time": "2019-05-10T03:26:29.004602Z",
     "start_time": "2019-05-10T03:26:28.786602Z"
    }
   },
   "outputs": [
    {
     "name": "stderr",
     "output_type": "stream",
     "text": [
      "C:\\ProgramData\\Anaconda3\\lib\\site-packages\\konlpy\\tag\\_okt.py:16: UserWarning: \"Twitter\" has changed to \"Okt\" since KoNLPy v0.4.5.\n",
      "  warn('\"Twitter\" has changed to \"Okt\" since KoNLPy v0.4.5.')\n"
     ]
    },
    {
     "name": "stdout",
     "output_type": "stream",
     "text": [
      "******PreprocessingText******\n",
      "1) make_content_re(df['컬럼이름'](Series)) : 입력받은 열을 전처리 후 시리즈로 반환\n",
      "2) add_noun_dict('list') : 명사 사전에 단어 추가\n",
      "3) add_stopwords('list') : 불용어 사전에 단어 추가\n",
      "4) tokenize(df['컬럼이름'](Series)) : 입력받은 열을 토큰화한 후 시리즈로 반환\n",
      "*****************************\n"
     ]
    }
   ],
   "source": [
    "preprocessor = newsight.PreprocessingText()\n",
    "preprocessor.help()"
   ]
  },
  {
   "cell_type": "markdown",
   "metadata": {},
   "source": [
    "### 명사 추가"
   ]
  },
  {
   "cell_type": "code",
   "execution_count": 8,
   "metadata": {
    "ExecuteTime": {
     "end_time": "2019-05-10T03:26:46.449602Z",
     "start_time": "2019-05-10T03:26:46.408602Z"
    }
   },
   "outputs": [
    {
     "name": "stdout",
     "output_type": "stream",
     "text": [
      "추가한 명사\n",
      "['최연소', '이테크', '그리고', '미래에셋', '미래에셋대우', '에트리홀딩스', '펀드설정액', '분기', '벤처', '사회적기업', '성장지원', '헬스케어', '해결책', '메리츠', '신고가', '지주', '증권주', '벨류에이션', '이베스트', '수익성', '실사구시', '페어트레이딩', '쓸어', '상장사', '한투', '한국투자증권', '고은빛', '쏠쏠', '한달', '순매수', '거래량', '상장주식수', '분기', '미상환', '업무지구', '장기적', '한온시스템', '보여', '주간사', '젠바디', '예탁결제원', '크라우드펀딩', '영업이익률', '이익률', '파워리퍼블릭', '운용사', '아모텍', '지분', '박스권', '저평가', '시총', '긍정적', '납세자', '셀리드', '에스퓨얼셀', '게임사', '할인율', '재도전', '인공지능', '당기순익', '비대면', '사업가치', '재평가', '순매도', '순매수', '수혜주', '마중물', '혼조세', '신고가', '합리적', '재취업', '다각화', '자문형랩', '순익', '설정액', '원소재', '메디톡스', '인허가', '성장통', '호실적', '주간사', '주관사', '쉬어', '예상치', '호실적', '압도', '신성장', '기술료', '조기상환', '비임원', '기대감', '순매도', '따박따박', '저평가', '거래량', '내수', '건설사', '호실적', '코스메틱', '제이준', '아이센스', '분양권', '영입', '지주', '시황']\n"
     ]
    }
   ],
   "source": [
    "# 명사 추가\n",
    "filename = '미래에셋 단어사전.txt'\n",
    "with open(filename) as file_object:\n",
    "    contents = file_object.read()\n",
    "noun_list = contents.split('\\n')\n",
    "preprocessor.add_noun_dict(noun_list)"
   ]
  },
  {
   "cell_type": "markdown",
   "metadata": {},
   "source": [
    "### 불용어 추가"
   ]
  },
  {
   "cell_type": "code",
   "execution_count": 71,
   "metadata": {
    "ExecuteTime": {
     "end_time": "2019-05-10T04:34:42.956410Z",
     "start_time": "2019-05-10T04:34:42.950410Z"
    }
   },
   "outputs": [
    {
     "name": "stdout",
     "output_type": "stream",
     "text": [
      "추가한 불용어\n",
      "['그리고', '은', '는', '이', '가', '것', '따박따박', '그리고', '미미', '다소', '설명', '참고', '작년', '최저', '통해', '까지', '최저', '객관', '만원', '억원', '다가', '최근', '미래에셋', '미래에셋대우', '위해', '최근', '대비', '나타', '현재', '이번', '평균', '년도', '오늘', '수준', '추이', '년도', '가능', '최대', '활용', '초과', '초반', '감소', '이번', '제일', '지난해', '조억원', '가의', '역시', '대신', '전일', '대신', '업계', '다시', '지난', '회사', '대형', '연속']\n"
     ]
    }
   ],
   "source": [
    "stopwords_list = ['그리고','은', '는', '이', '가', '것','따박따박','그리고','미미','다소','설명'\n",
    "                  ,'참고','작년','최저','통해','까지','최저','객관','만원','억원','다가','최근'\n",
    "                  ,'미래에셋','미래에셋대우','위해','최근','대비','나타','현재','이번','평균','년도'\n",
    "                  ,'오늘','수준','추이','년도','가능','최대','활용','초과','초반','감소','이번','제일'\n",
    "                  ,'지난해','조억원','가의','역시','대신','전일','대신','업계','다시','지난','회사','대형'\n",
    "                  ,'연속']\n",
    "preprocessor.add_stopwords(stopwords_list)"
   ]
  },
  {
   "cell_type": "markdown",
   "metadata": {},
   "source": [
    "### 정규표현식 전처리 "
   ]
  },
  {
   "cell_type": "code",
   "execution_count": 72,
   "metadata": {
    "ExecuteTime": {
     "end_time": "2019-05-10T04:34:53.673210Z",
     "start_time": "2019-05-10T04:34:46.833010Z"
    }
   },
   "outputs": [],
   "source": [
    "df['make_content_re'] = preprocessor.make_content_re(df.content) "
   ]
  },
  {
   "cell_type": "markdown",
   "metadata": {},
   "source": [
    "### 명사 추출 "
   ]
  },
  {
   "cell_type": "code",
   "execution_count": 73,
   "metadata": {
    "ExecuteTime": {
     "end_time": "2019-05-10T04:40:26.353210Z",
     "start_time": "2019-05-10T04:34:53.675210Z"
    }
   },
   "outputs": [
    {
     "name": "stdout",
     "output_type": "stream",
     "text": [
      "추가한 명사: ['최연소', '이테크', '그리고', '미래에셋', '미래에셋대우', '에트리홀딩스', '펀드설정액', '분기', '벤처', '사회적기업', '성장지원', '헬스케어', '해결책', '메리츠', '신고가', '지주', '증권주', '벨류에이션', '이베스트', '수익성', '실사구시', '페어트레이딩', '쓸어', '상장사', '한투', '한국투자증권', '고은빛', '쏠쏠', '한달', '순매수', '거래량', '상장주식수', '분기', '미상환', '업무지구', '장기적', '한온시스템', '보여', '주간사', '젠바디', '예탁결제원', '크라우드펀딩', '영업이익률', '이익률', '파워리퍼블릭', '운용사', '아모텍', '지분', '박스권', '저평가', '시총', '긍정적', '납세자', '셀리드', '에스퓨얼셀', '게임사', '할인율', '재도전', '인공지능', '당기순익', '비대면', '사업가치', '재평가', '순매도', '순매수', '수혜주', '마중물', '혼조세', '신고가', '합리적', '재취업', '다각화', '자문형랩', '순익', '설정액', '원소재', '메디톡스', '인허가', '성장통', '호실적', '주간사', '주관사', '쉬어', '예상치', '호실적', '압도', '신성장', '기술료', '조기상환', '비임원', '기대감', '순매도', '따박따박', '저평가', '거래량', '내수', '건설사', '호실적', '코스메틱', '제이준', '아이센스', '분양권', '영입', '지주', '시황']\n",
      "불용어:  ['은', '는', '이', '가', '것', '은', '는', '이', '가', '것', '따박따박', '그리고', '은', '는', '이', '가', '것', '따박따박', '그리고', '미미', '다소', '설명', '참고', '작년', '최저', '통해', '까지', '최저', '객관', '만원', '억원', '다가', '최근', '미래에셋', '미래에셋대우', '위해', '최근', '대비', '나타', '현재', '그리고', '은', '는', '이', '가', '것', '따박따박', '그리고', '미미', '다소', '설명', '참고', '작년', '최저', '통해', '까지', '최저', '객관', '만원', '억원', '다가', '최근', '미래에셋', '미래에셋대우', '위해', '최근', '대비', '나타', '현재', '이번', '평균', '년도', '오늘', '수준', '추이', '년도', '가능', '최대', '활용', '초과', '초반', '감소', '이번', '제일', '지난해', '조억원', '그리고', '은', '는', '이', '가', '것', '따박따박', '그리고', '미미', '다소', '설명', '참고', '작년', '최저', '통해', '까지', '최저', '객관', '만원', '억원', '다가', '최근', '미래에셋', '미래에셋대우', '위해', '최근', '대비', '나타', '현재', '이번', '평균', '년도', '오늘', '수준', '추이', '년도', '가능', '최대', '활용', '초과', '초반', '감소', '이번', '제일', '지난해', '조억원', '그리고', '은', '는', '이', '가', '것', '따박따박', '그리고', '미미', '다소', '설명', '참고', '작년', '최저', '통해', '까지', '최저', '객관', '만원', '억원', '다가', '최근', '미래에셋', '미래에셋대우', '위해', '최근', '대비', '나타', '현재', '이번', '평균', '년도', '오늘', '수준', '추이', '년도', '가능', '최대', '활용', '초과', '초반', '감소', '이번', '제일', '지난해', '조억원', '가의', '역시', '대신', '전일', '대신', '업계', '다시', '지난', '회사', '대형', '연속']\n",
      "Wall time: 5min 32s\n"
     ]
    }
   ],
   "source": [
    "%%time\n",
    "df['tokenized_doc'] = preprocessor.tokenize(df['make_content_re']) "
   ]
  },
  {
   "cell_type": "code",
   "execution_count": 42,
   "metadata": {
    "ExecuteTime": {
     "end_time": "2019-05-10T04:01:55.062602Z",
     "start_time": "2019-05-10T04:01:55.049602Z"
    }
   },
   "outputs": [
    {
     "data": {
      "text/html": [
       "<div>\n",
       "<style scoped>\n",
       "    .dataframe tbody tr th:only-of-type {\n",
       "        vertical-align: middle;\n",
       "    }\n",
       "\n",
       "    .dataframe tbody tr th {\n",
       "        vertical-align: top;\n",
       "    }\n",
       "\n",
       "    .dataframe thead th {\n",
       "        text-align: right;\n",
       "    }\n",
       "</style>\n",
       "<table border=\"1\" class=\"dataframe\">\n",
       "  <thead>\n",
       "    <tr style=\"text-align: right;\">\n",
       "      <th></th>\n",
       "      <th>date</th>\n",
       "      <th>title</th>\n",
       "      <th>content</th>\n",
       "      <th>date_tmp</th>\n",
       "      <th>make_content_re</th>\n",
       "      <th>tokenized_doc</th>\n",
       "    </tr>\n",
       "  </thead>\n",
       "  <tbody>\n",
       "    <tr>\n",
       "      <th>0</th>\n",
       "      <td>2019-04-19</td>\n",
       "      <td>NH투자證 `선택과 집중` 통했다…펀드설정액, 증권사 1위에 올라</td>\n",
       "      <td>지난해 말 조직개편을 통해 펀드 판매에 승부수를 띄운 NH투자증권이 올해 들어 금융...</td>\n",
       "      <td>737168</td>\n",
       "      <td>지난해 말 조직개편을 통해 펀드 판매에 승부수를 띄운 NH투자증권이 올해 들어 금융...</td>\n",
       "      <td>[지난해, 말, 조직개편, 펀드, 판매, 승, 부수, 투자, 증권, 올해, 금융, ...</td>\n",
       "    </tr>\n",
       "    <tr>\n",
       "      <th>1</th>\n",
       "      <td>2019-04-19</td>\n",
       "      <td>2차전지 기업들, 속속 '코스닥 입성' 채비</td>\n",
       "      <td>코윈테크, 8월 코스닥 상장 추진 \\n \\n \\n[ 이우상 기자 ] 2차전지 생산용...</td>\n",
       "      <td>737168</td>\n",
       "      <td>코윈테크  코스닥 상장 추진 차전지 생산용 설비 제조 기업인 코윈테크가 코스닥시장 ...</td>\n",
       "      <td>[코윈, 테크, 코스닥, 상장, 추진, 차, 전지, 생산, 용, 설비, 제조, 기업...</td>\n",
       "    </tr>\n",
       "    <tr>\n",
       "      <th>2</th>\n",
       "      <td>2019-04-19</td>\n",
       "      <td>증시 호조에 증권株 `훨훨`…2분기 실적도 `맑음`</td>\n",
       "      <td>올해 들어 증시가 호조를 보이면서 증권주들이 1분기 양호한 성적표를 받아들었다. 이...</td>\n",
       "      <td>737168</td>\n",
       "      <td>올해 들어 증시가 호조를 보이면서 증권주들이 기 양호한 성적표를 받아들었다 이에 증...</td>\n",
       "      <td>[올해, 증시, 호조, 보이, 면서, 증권주, 기, 양호, 성적표, 아들, 었다, ...</td>\n",
       "    </tr>\n",
       "    <tr>\n",
       "      <th>3</th>\n",
       "      <td>2019-04-19</td>\n",
       "      <td>한화 LifePlus TDF 설정 1년, 4% 대 운용성과 달성</td>\n",
       "      <td>한화 라이프플러스 상장지수펀드(ETF)의 수익률이 설정 이후 양호한 수익률을 올리고...</td>\n",
       "      <td>737168</td>\n",
       "      <td>한화 라이프플러스 상장지수펀드 ETF 의 수익률이 설정 이후 양호한 수익률을 올리고...</td>\n",
       "      <td>[한화, 라이프, 플러스, 상, 장지수, 펀드, 의, 수익률, 설정, 이후, 양호,...</td>\n",
       "    </tr>\n",
       "    <tr>\n",
       "      <th>4</th>\n",
       "      <td>2019-04-19</td>\n",
       "      <td>미래에셋벤처투자의 사회적기업1호펀드, 72.4% 수익 올리고 청산돼</td>\n",
       "      <td>미래에셋벤처투자는 지난 2011년 42억원으로 결성했던 사회적기업1호펀드가 72.4...</td>\n",
       "      <td>737168</td>\n",
       "      <td>미래에셋벤처투자는 지난  억원으로 결성했던 사회적기업호펀드가   의 수익을 올린 뒤...</td>\n",
       "      <td>[벤처, 투자, 지난, 결성, 사회적기업, 호, 펀드, 의, 수익, 뒤, 지난달, ...</td>\n",
       "    </tr>\n",
       "  </tbody>\n",
       "</table>\n",
       "</div>"
      ],
      "text/plain": [
       "         date                                  title  \\\n",
       "0  2019-04-19   NH투자證 `선택과 집중` 통했다…펀드설정액, 증권사 1위에 올라   \n",
       "1  2019-04-19               2차전지 기업들, 속속 '코스닥 입성' 채비   \n",
       "2  2019-04-19           증시 호조에 증권株 `훨훨`…2분기 실적도 `맑음`   \n",
       "3  2019-04-19    한화 LifePlus TDF 설정 1년, 4% 대 운용성과 달성   \n",
       "4  2019-04-19  미래에셋벤처투자의 사회적기업1호펀드, 72.4% 수익 올리고 청산돼   \n",
       "\n",
       "                                             content  date_tmp  \\\n",
       "0  지난해 말 조직개편을 통해 펀드 판매에 승부수를 띄운 NH투자증권이 올해 들어 금융...    737168   \n",
       "1  코윈테크, 8월 코스닥 상장 추진 \\n \\n \\n[ 이우상 기자 ] 2차전지 생산용...    737168   \n",
       "2  올해 들어 증시가 호조를 보이면서 증권주들이 1분기 양호한 성적표를 받아들었다. 이...    737168   \n",
       "3  한화 라이프플러스 상장지수펀드(ETF)의 수익률이 설정 이후 양호한 수익률을 올리고...    737168   \n",
       "4  미래에셋벤처투자는 지난 2011년 42억원으로 결성했던 사회적기업1호펀드가 72.4...    737168   \n",
       "\n",
       "                                     make_content_re  \\\n",
       "0  지난해 말 조직개편을 통해 펀드 판매에 승부수를 띄운 NH투자증권이 올해 들어 금융...   \n",
       "1  코윈테크  코스닥 상장 추진 차전지 생산용 설비 제조 기업인 코윈테크가 코스닥시장 ...   \n",
       "2  올해 들어 증시가 호조를 보이면서 증권주들이 기 양호한 성적표를 받아들었다 이에 증...   \n",
       "3  한화 라이프플러스 상장지수펀드 ETF 의 수익률이 설정 이후 양호한 수익률을 올리고...   \n",
       "4  미래에셋벤처투자는 지난  억원으로 결성했던 사회적기업호펀드가   의 수익을 올린 뒤...   \n",
       "\n",
       "                                       tokenized_doc  \n",
       "0  [지난해, 말, 조직개편, 펀드, 판매, 승, 부수, 투자, 증권, 올해, 금융, ...  \n",
       "1  [코윈, 테크, 코스닥, 상장, 추진, 차, 전지, 생산, 용, 설비, 제조, 기업...  \n",
       "2  [올해, 증시, 호조, 보이, 면서, 증권주, 기, 양호, 성적표, 아들, 었다, ...  \n",
       "3  [한화, 라이프, 플러스, 상, 장지수, 펀드, 의, 수익률, 설정, 이후, 양호,...  \n",
       "4  [벤처, 투자, 지난, 결성, 사회적기업, 호, 펀드, 의, 수익, 뒤, 지난달, ...  "
      ]
     },
     "execution_count": 42,
     "metadata": {},
     "output_type": "execute_result"
    }
   ],
   "source": [
    "df.head()"
   ]
  },
  {
   "cell_type": "markdown",
   "metadata": {},
   "source": [
    "필요한 함수(성윤)\n",
    "1. 유의어 사전\n",
    "2. 유의어 대체 함수"
   ]
  },
  {
   "cell_type": "markdown",
   "metadata": {},
   "source": [
    "## 노이즈 제거"
   ]
  },
  {
   "cell_type": "code",
   "execution_count": 19,
   "metadata": {
    "ExecuteTime": {
     "end_time": "2019-05-10T03:36:06.060602Z",
     "start_time": "2019-05-10T03:36:06.048602Z"
    }
   },
   "outputs": [],
   "source": [
    "import pandas as pd\n",
    "import matplotlib\n",
    "import matplotlib.pyplot as plt\n",
    "import numpy as np\n",
    "def count_topic(tokenized_doc, topic):\n",
    "    counting = []\n",
    "    for news in tokenized_doc:\n",
    "        counting.append(news.count(topic))\n",
    "    return counting\n",
    "\n",
    "def plot_hist(counting):\n",
    "    counting_pd = pd.Series(counting)\n",
    "    bins = len(counting_pd.value_counts())\n",
    "    counting_pd.hist(figsize=(16, 12), bins=bins+20)\n",
    "    plt.xlabel(\"counting\", fontsize=14)\n",
    "    plt.show()\n",
    "\n",
    "def get_proper_news(data, counting, threshold):\n",
    "    select = np.array(counting) >= threshold\n",
    "    print('number of total data:', len(data))\n",
    "    print('number of proper data:', sum(select))\n",
    "    return data[select].copy()"
   ]
  },
  {
   "cell_type": "code",
   "execution_count": 21,
   "metadata": {
    "ExecuteTime": {
     "end_time": "2019-05-10T03:36:11.377602Z",
     "start_time": "2019-05-10T03:36:10.915602Z"
    }
   },
   "outputs": [
    {
     "data": {
      "image/png": "[encoded data removed]",
      "text/plain": [
       "<Figure size 1152x864 with 1 Axes>"
      ]
     },
     "metadata": {},
     "output_type": "display_data"
    }
   ],
   "source": [
    "counting = count_topic(df.tokenized_doc, \"미래에셋대우\")\n",
    "plot_hist(counting)"
   ]
  },
  {
   "cell_type": "code",
   "execution_count": 63,
   "metadata": {
    "ExecuteTime": {
     "end_time": "2019-05-10T04:31:00.471809Z",
     "start_time": "2019-05-10T04:31:00.420209Z"
    }
   },
   "outputs": [
    {
     "name": "stdout",
     "output_type": "stream",
     "text": [
      "number of total data: 10000\n",
      "number of proper data: 1829\n"
     ]
    }
   ],
   "source": [
    "data = get_proper_news(df, counting, threshold=3)"
   ]
  },
  {
   "cell_type": "markdown",
   "metadata": {},
   "source": [
    "필요한 함수\n",
    "1. 노이즈 제거 방법을 제목에 주제어 미포함으로 했을 때 노이즈 제거 함수 "
   ]
  },
  {
   "cell_type": "markdown",
   "metadata": {},
   "source": [
    "## 유의어, 불용어 처리"
   ]
  },
  {
   "cell_type": "code",
   "execution_count": 64,
   "metadata": {
    "ExecuteTime": {
     "end_time": "2019-05-10T04:31:00.522809Z",
     "start_time": "2019-05-10T04:31:00.472809Z"
    }
   },
   "outputs": [
    {
     "name": "stdout",
     "output_type": "stream",
     "text": [
      "******GetSimilarWords******\n",
      "1) get_w2v_model(토큰화된 문서(Series),doc2vec 차원 크기(int)) : doc2vec 모델 학습\n",
      "2) get_similar_words(단어(str)) : 유의어 출력\n",
      "3) get_bow(토큰화된 문서(Series)) : bow 생성\n",
      "4) get_stop_words(단어 출현 빈도 순위(int)) : 단어 출현 빈도 상위 n 개, 하위 n 개 출력\n",
      "*****************************\n"
     ]
    }
   ],
   "source": [
    "special_words = newsight.GetSpecialWords()\n",
    "special_words.help()"
   ]
  },
  {
   "cell_type": "markdown",
   "metadata": {},
   "source": [
    "### word2vec으로 유의어 찾기"
   ]
  },
  {
   "cell_type": "code",
   "execution_count": 25,
   "metadata": {
    "ExecuteTime": {
     "end_time": "2019-05-10T03:47:21.391602Z",
     "start_time": "2019-05-10T03:36:26.501602Z"
    }
   },
   "outputs": [
    {
     "name": "stderr",
     "output_type": "stream",
     "text": [
      "C:\\ProgramData\\Anaconda3\\lib\\site-packages\\gensim\\models\\base_any2vec.py:743: UserWarning: C extension not loaded, training will be slow. Install a C compiler and reinstall gensim for fast training.\n",
      "  \"C extension not loaded, training will be slow. \"\n"
     ]
    },
    {
     "ename": "KeyboardInterrupt",
     "evalue": "",
     "output_type": "error",
     "traceback": [
      "\u001b[1;31m---------------------------------------------------------------------------\u001b[0m",
      "\u001b[1;31mKeyboardInterrupt\u001b[0m                         Traceback (most recent call last)",
      "\u001b[1;32m<timed eval>\u001b[0m in \u001b[0;36m<module>\u001b[1;34m()\u001b[0m\n",
      "\u001b[1;32m~\\Desktop\\뉴스 자동 분류 프로젝트\\코드 정리\\newsight.py\u001b[0m in \u001b[0;36mget_w2v_model\u001b[1;34m(self, tokenized_doc, size, window, min_count, workers, sg)\u001b[0m\n\u001b[0;32m    150\u001b[0m     \u001b[1;32mdef\u001b[0m \u001b[0mget_w2v_model\u001b[0m\u001b[1;33m(\u001b[0m\u001b[0mself\u001b[0m\u001b[1;33m,\u001b[0m \u001b[0mtokenized_doc\u001b[0m\u001b[1;33m,\u001b[0m \u001b[0msize\u001b[0m\u001b[1;33m=\u001b[0m\u001b[1;36m300\u001b[0m\u001b[1;33m,\u001b[0m \u001b[0mwindow\u001b[0m\u001b[1;33m=\u001b[0m\u001b[1;36m5\u001b[0m\u001b[1;33m,\u001b[0m \u001b[0mmin_count\u001b[0m\u001b[1;33m=\u001b[0m\u001b[1;36m5\u001b[0m\u001b[1;33m,\u001b[0m \u001b[0mworkers\u001b[0m\u001b[1;33m=\u001b[0m\u001b[1;36m4\u001b[0m\u001b[1;33m,\u001b[0m \u001b[0msg\u001b[0m\u001b[1;33m=\u001b[0m\u001b[1;36m1\u001b[0m\u001b[1;33m)\u001b[0m\u001b[1;33m:\u001b[0m\u001b[1;33m\u001b[0m\u001b[0m\n\u001b[0;32m    151\u001b[0m         self.model = Word2Vec(sentences=tokenized_doc, size=size, window=window, min_count=min_count, workers=workers,\n\u001b[1;32m--> 152\u001b[1;33m                               sg=sg)\n\u001b[0m\u001b[0;32m    153\u001b[0m \u001b[1;33m\u001b[0m\u001b[0m\n\u001b[0;32m    154\u001b[0m     \u001b[1;32mdef\u001b[0m \u001b[0mget_similar_words\u001b[0m\u001b[1;33m(\u001b[0m\u001b[0mself\u001b[0m\u001b[1;33m,\u001b[0m \u001b[0mstring\u001b[0m\u001b[1;33m)\u001b[0m\u001b[1;33m:\u001b[0m\u001b[1;33m\u001b[0m\u001b[0m\n",
      "\u001b[1;32mC:\\ProgramData\\Anaconda3\\lib\\site-packages\\gensim\\models\\word2vec.py\u001b[0m in \u001b[0;36m__init__\u001b[1;34m(self, sentences, corpus_file, size, alpha, window, min_count, max_vocab_size, sample, seed, workers, min_alpha, sg, hs, negative, ns_exponent, cbow_mean, hashfxn, iter, null_word, trim_rule, sorted_vocab, batch_words, compute_loss, callbacks, max_final_vocab)\u001b[0m\n\u001b[0;32m    781\u001b[0m             \u001b[0mcallbacks\u001b[0m\u001b[1;33m=\u001b[0m\u001b[0mcallbacks\u001b[0m\u001b[1;33m,\u001b[0m \u001b[0mbatch_words\u001b[0m\u001b[1;33m=\u001b[0m\u001b[0mbatch_words\u001b[0m\u001b[1;33m,\u001b[0m \u001b[0mtrim_rule\u001b[0m\u001b[1;33m=\u001b[0m\u001b[0mtrim_rule\u001b[0m\u001b[1;33m,\u001b[0m \u001b[0msg\u001b[0m\u001b[1;33m=\u001b[0m\u001b[0msg\u001b[0m\u001b[1;33m,\u001b[0m \u001b[0malpha\u001b[0m\u001b[1;33m=\u001b[0m\u001b[0malpha\u001b[0m\u001b[1;33m,\u001b[0m \u001b[0mwindow\u001b[0m\u001b[1;33m=\u001b[0m\u001b[0mwindow\u001b[0m\u001b[1;33m,\u001b[0m\u001b[1;33m\u001b[0m\u001b[0m\n\u001b[0;32m    782\u001b[0m             \u001b[0mseed\u001b[0m\u001b[1;33m=\u001b[0m\u001b[0mseed\u001b[0m\u001b[1;33m,\u001b[0m \u001b[0mhs\u001b[0m\u001b[1;33m=\u001b[0m\u001b[0mhs\u001b[0m\u001b[1;33m,\u001b[0m \u001b[0mnegative\u001b[0m\u001b[1;33m=\u001b[0m\u001b[0mnegative\u001b[0m\u001b[1;33m,\u001b[0m \u001b[0mcbow_mean\u001b[0m\u001b[1;33m=\u001b[0m\u001b[0mcbow_mean\u001b[0m\u001b[1;33m,\u001b[0m \u001b[0mmin_alpha\u001b[0m\u001b[1;33m=\u001b[0m\u001b[0mmin_alpha\u001b[0m\u001b[1;33m,\u001b[0m \u001b[0mcompute_loss\u001b[0m\u001b[1;33m=\u001b[0m\u001b[0mcompute_loss\u001b[0m\u001b[1;33m,\u001b[0m\u001b[1;33m\u001b[0m\u001b[0m\n\u001b[1;32m--> 783\u001b[1;33m             fast_version=FAST_VERSION)\n\u001b[0m\u001b[0;32m    784\u001b[0m \u001b[1;33m\u001b[0m\u001b[0m\n\u001b[0;32m    785\u001b[0m     def _do_train_epoch(self, corpus_file, thread_id, offset, cython_vocab, thread_private_mem, cur_epoch,\n",
      "\u001b[1;32mC:\\ProgramData\\Anaconda3\\lib\\site-packages\\gensim\\models\\base_any2vec.py\u001b[0m in \u001b[0;36m__init__\u001b[1;34m(self, sentences, corpus_file, workers, vector_size, epochs, callbacks, batch_words, trim_rule, sg, alpha, window, seed, hs, negative, ns_exponent, cbow_mean, min_alpha, compute_loss, fast_version, **kwargs)\u001b[0m\n\u001b[0;32m    761\u001b[0m                 \u001b[0msentences\u001b[0m\u001b[1;33m=\u001b[0m\u001b[0msentences\u001b[0m\u001b[1;33m,\u001b[0m \u001b[0mcorpus_file\u001b[0m\u001b[1;33m=\u001b[0m\u001b[0mcorpus_file\u001b[0m\u001b[1;33m,\u001b[0m \u001b[0mtotal_examples\u001b[0m\u001b[1;33m=\u001b[0m\u001b[0mself\u001b[0m\u001b[1;33m.\u001b[0m\u001b[0mcorpus_count\u001b[0m\u001b[1;33m,\u001b[0m\u001b[1;33m\u001b[0m\u001b[0m\n\u001b[0;32m    762\u001b[0m                 \u001b[0mtotal_words\u001b[0m\u001b[1;33m=\u001b[0m\u001b[0mself\u001b[0m\u001b[1;33m.\u001b[0m\u001b[0mcorpus_total_words\u001b[0m\u001b[1;33m,\u001b[0m \u001b[0mepochs\u001b[0m\u001b[1;33m=\u001b[0m\u001b[0mself\u001b[0m\u001b[1;33m.\u001b[0m\u001b[0mepochs\u001b[0m\u001b[1;33m,\u001b[0m \u001b[0mstart_alpha\u001b[0m\u001b[1;33m=\u001b[0m\u001b[0mself\u001b[0m\u001b[1;33m.\u001b[0m\u001b[0malpha\u001b[0m\u001b[1;33m,\u001b[0m\u001b[1;33m\u001b[0m\u001b[0m\n\u001b[1;32m--> 763\u001b[1;33m                 end_alpha=self.min_alpha, compute_loss=compute_loss)\n\u001b[0m\u001b[0;32m    764\u001b[0m         \u001b[1;32melse\u001b[0m\u001b[1;33m:\u001b[0m\u001b[1;33m\u001b[0m\u001b[0m\n\u001b[0;32m    765\u001b[0m             \u001b[1;32mif\u001b[0m \u001b[0mtrim_rule\u001b[0m \u001b[1;32mis\u001b[0m \u001b[1;32mnot\u001b[0m \u001b[1;32mNone\u001b[0m\u001b[1;33m:\u001b[0m\u001b[1;33m\u001b[0m\u001b[0m\n",
      "\u001b[1;32mC:\\ProgramData\\Anaconda3\\lib\\site-packages\\gensim\\models\\word2vec.py\u001b[0m in \u001b[0;36mtrain\u001b[1;34m(self, sentences, corpus_file, total_examples, total_words, epochs, start_alpha, end_alpha, word_count, queue_factor, report_delay, compute_loss, callbacks)\u001b[0m\n\u001b[0;32m    908\u001b[0m             \u001b[0msentences\u001b[0m\u001b[1;33m=\u001b[0m\u001b[0msentences\u001b[0m\u001b[1;33m,\u001b[0m \u001b[0mcorpus_file\u001b[0m\u001b[1;33m=\u001b[0m\u001b[0mcorpus_file\u001b[0m\u001b[1;33m,\u001b[0m \u001b[0mtotal_examples\u001b[0m\u001b[1;33m=\u001b[0m\u001b[0mtotal_examples\u001b[0m\u001b[1;33m,\u001b[0m \u001b[0mtotal_words\u001b[0m\u001b[1;33m=\u001b[0m\u001b[0mtotal_words\u001b[0m\u001b[1;33m,\u001b[0m\u001b[1;33m\u001b[0m\u001b[0m\n\u001b[0;32m    909\u001b[0m             \u001b[0mepochs\u001b[0m\u001b[1;33m=\u001b[0m\u001b[0mepochs\u001b[0m\u001b[1;33m,\u001b[0m \u001b[0mstart_alpha\u001b[0m\u001b[1;33m=\u001b[0m\u001b[0mstart_alpha\u001b[0m\u001b[1;33m,\u001b[0m \u001b[0mend_alpha\u001b[0m\u001b[1;33m=\u001b[0m\u001b[0mend_alpha\u001b[0m\u001b[1;33m,\u001b[0m \u001b[0mword_count\u001b[0m\u001b[1;33m=\u001b[0m\u001b[0mword_count\u001b[0m\u001b[1;33m,\u001b[0m\u001b[1;33m\u001b[0m\u001b[0m\n\u001b[1;32m--> 910\u001b[1;33m             queue_factor=queue_factor, report_delay=report_delay, compute_loss=compute_loss, callbacks=callbacks)\n\u001b[0m\u001b[0;32m    911\u001b[0m \u001b[1;33m\u001b[0m\u001b[0m\n\u001b[0;32m    912\u001b[0m     \u001b[1;32mdef\u001b[0m \u001b[0mscore\u001b[0m\u001b[1;33m(\u001b[0m\u001b[0mself\u001b[0m\u001b[1;33m,\u001b[0m \u001b[0msentences\u001b[0m\u001b[1;33m,\u001b[0m \u001b[0mtotal_sentences\u001b[0m\u001b[1;33m=\u001b[0m\u001b[0mint\u001b[0m\u001b[1;33m(\u001b[0m\u001b[1;36m1e6\u001b[0m\u001b[1;33m)\u001b[0m\u001b[1;33m,\u001b[0m \u001b[0mchunksize\u001b[0m\u001b[1;33m=\u001b[0m\u001b[1;36m100\u001b[0m\u001b[1;33m,\u001b[0m \u001b[0mqueue_factor\u001b[0m\u001b[1;33m=\u001b[0m\u001b[1;36m2\u001b[0m\u001b[1;33m,\u001b[0m \u001b[0mreport_delay\u001b[0m\u001b[1;33m=\u001b[0m\u001b[1;36m1\u001b[0m\u001b[1;33m)\u001b[0m\u001b[1;33m:\u001b[0m\u001b[1;33m\u001b[0m\u001b[0m\n",
      "\u001b[1;32mC:\\ProgramData\\Anaconda3\\lib\\site-packages\\gensim\\models\\base_any2vec.py\u001b[0m in \u001b[0;36mtrain\u001b[1;34m(self, sentences, corpus_file, total_examples, total_words, epochs, start_alpha, end_alpha, word_count, queue_factor, report_delay, compute_loss, callbacks, **kwargs)\u001b[0m\n\u001b[0;32m   1079\u001b[0m             \u001b[0mtotal_words\u001b[0m\u001b[1;33m=\u001b[0m\u001b[0mtotal_words\u001b[0m\u001b[1;33m,\u001b[0m \u001b[0mepochs\u001b[0m\u001b[1;33m=\u001b[0m\u001b[0mepochs\u001b[0m\u001b[1;33m,\u001b[0m \u001b[0mstart_alpha\u001b[0m\u001b[1;33m=\u001b[0m\u001b[0mstart_alpha\u001b[0m\u001b[1;33m,\u001b[0m \u001b[0mend_alpha\u001b[0m\u001b[1;33m=\u001b[0m\u001b[0mend_alpha\u001b[0m\u001b[1;33m,\u001b[0m \u001b[0mword_count\u001b[0m\u001b[1;33m=\u001b[0m\u001b[0mword_count\u001b[0m\u001b[1;33m,\u001b[0m\u001b[1;33m\u001b[0m\u001b[0m\n\u001b[0;32m   1080\u001b[0m             \u001b[0mqueue_factor\u001b[0m\u001b[1;33m=\u001b[0m\u001b[0mqueue_factor\u001b[0m\u001b[1;33m,\u001b[0m \u001b[0mreport_delay\u001b[0m\u001b[1;33m=\u001b[0m\u001b[0mreport_delay\u001b[0m\u001b[1;33m,\u001b[0m \u001b[0mcompute_loss\u001b[0m\u001b[1;33m=\u001b[0m\u001b[0mcompute_loss\u001b[0m\u001b[1;33m,\u001b[0m \u001b[0mcallbacks\u001b[0m\u001b[1;33m=\u001b[0m\u001b[0mcallbacks\u001b[0m\u001b[1;33m,\u001b[0m\u001b[1;33m\u001b[0m\u001b[0m\n\u001b[1;32m-> 1081\u001b[1;33m             **kwargs)\n\u001b[0m\u001b[0;32m   1082\u001b[0m \u001b[1;33m\u001b[0m\u001b[0m\n\u001b[0;32m   1083\u001b[0m     \u001b[1;32mdef\u001b[0m \u001b[0m_get_job_params\u001b[0m\u001b[1;33m(\u001b[0m\u001b[0mself\u001b[0m\u001b[1;33m,\u001b[0m \u001b[0mcur_epoch\u001b[0m\u001b[1;33m)\u001b[0m\u001b[1;33m:\u001b[0m\u001b[1;33m\u001b[0m\u001b[0m\n",
      "\u001b[1;32mC:\\ProgramData\\Anaconda3\\lib\\site-packages\\gensim\\models\\base_any2vec.py\u001b[0m in \u001b[0;36mtrain\u001b[1;34m(self, data_iterable, corpus_file, epochs, total_examples, total_words, queue_factor, report_delay, callbacks, **kwargs)\u001b[0m\n\u001b[0;32m    551\u001b[0m                 trained_word_count_epoch, raw_word_count_epoch, job_tally_epoch = self._train_epoch(\n\u001b[0;32m    552\u001b[0m                     \u001b[0mdata_iterable\u001b[0m\u001b[1;33m,\u001b[0m \u001b[0mcur_epoch\u001b[0m\u001b[1;33m=\u001b[0m\u001b[0mcur_epoch\u001b[0m\u001b[1;33m,\u001b[0m \u001b[0mtotal_examples\u001b[0m\u001b[1;33m=\u001b[0m\u001b[0mtotal_examples\u001b[0m\u001b[1;33m,\u001b[0m\u001b[1;33m\u001b[0m\u001b[0m\n\u001b[1;32m--> 553\u001b[1;33m                     total_words=total_words, queue_factor=queue_factor, report_delay=report_delay)\n\u001b[0m\u001b[0;32m    554\u001b[0m             \u001b[1;32melse\u001b[0m\u001b[1;33m:\u001b[0m\u001b[1;33m\u001b[0m\u001b[0m\n\u001b[0;32m    555\u001b[0m                 trained_word_count_epoch, raw_word_count_epoch, job_tally_epoch = self._train_epoch_corpusfile(\n",
      "\u001b[1;32mC:\\ProgramData\\Anaconda3\\lib\\site-packages\\gensim\\models\\base_any2vec.py\u001b[0m in \u001b[0;36m_train_epoch\u001b[1;34m(self, data_iterable, cur_epoch, total_examples, total_words, queue_factor, report_delay)\u001b[0m\n\u001b[0;32m    487\u001b[0m         trained_word_count, raw_word_count, job_tally = self._log_epoch_progress(\n\u001b[0;32m    488\u001b[0m             \u001b[0mprogress_queue\u001b[0m\u001b[1;33m,\u001b[0m \u001b[0mjob_queue\u001b[0m\u001b[1;33m,\u001b[0m \u001b[0mcur_epoch\u001b[0m\u001b[1;33m=\u001b[0m\u001b[0mcur_epoch\u001b[0m\u001b[1;33m,\u001b[0m \u001b[0mtotal_examples\u001b[0m\u001b[1;33m=\u001b[0m\u001b[0mtotal_examples\u001b[0m\u001b[1;33m,\u001b[0m \u001b[0mtotal_words\u001b[0m\u001b[1;33m=\u001b[0m\u001b[0mtotal_words\u001b[0m\u001b[1;33m,\u001b[0m\u001b[1;33m\u001b[0m\u001b[0m\n\u001b[1;32m--> 489\u001b[1;33m             report_delay=report_delay, is_corpus_file_mode=False)\n\u001b[0m\u001b[0;32m    490\u001b[0m \u001b[1;33m\u001b[0m\u001b[0m\n\u001b[0;32m    491\u001b[0m         \u001b[1;32mreturn\u001b[0m \u001b[0mtrained_word_count\u001b[0m\u001b[1;33m,\u001b[0m \u001b[0mraw_word_count\u001b[0m\u001b[1;33m,\u001b[0m \u001b[0mjob_tally\u001b[0m\u001b[1;33m\u001b[0m\u001b[0m\n",
      "\u001b[1;32mC:\\ProgramData\\Anaconda3\\lib\\site-packages\\gensim\\models\\base_any2vec.py\u001b[0m in \u001b[0;36m_log_epoch_progress\u001b[1;34m(self, progress_queue, job_queue, cur_epoch, total_examples, total_words, report_delay, is_corpus_file_mode)\u001b[0m\n\u001b[0;32m    344\u001b[0m \u001b[1;33m\u001b[0m\u001b[0m\n\u001b[0;32m    345\u001b[0m         \u001b[1;32mwhile\u001b[0m \u001b[0munfinished_worker_count\u001b[0m \u001b[1;33m>\u001b[0m \u001b[1;36m0\u001b[0m\u001b[1;33m:\u001b[0m\u001b[1;33m\u001b[0m\u001b[0m\n\u001b[1;32m--> 346\u001b[1;33m             \u001b[0mreport\u001b[0m \u001b[1;33m=\u001b[0m \u001b[0mprogress_queue\u001b[0m\u001b[1;33m.\u001b[0m\u001b[0mget\u001b[0m\u001b[1;33m(\u001b[0m\u001b[1;33m)\u001b[0m  \u001b[1;31m# blocks if workers too slow\u001b[0m\u001b[1;33m\u001b[0m\u001b[0m\n\u001b[0m\u001b[0;32m    347\u001b[0m             \u001b[1;32mif\u001b[0m \u001b[0mreport\u001b[0m \u001b[1;32mis\u001b[0m \u001b[1;32mNone\u001b[0m\u001b[1;33m:\u001b[0m  \u001b[1;31m# a thread reporting that it finished\u001b[0m\u001b[1;33m\u001b[0m\u001b[0m\n\u001b[0;32m    348\u001b[0m                 \u001b[0munfinished_worker_count\u001b[0m \u001b[1;33m-=\u001b[0m \u001b[1;36m1\u001b[0m\u001b[1;33m\u001b[0m\u001b[0m\n",
      "\u001b[1;32mC:\\ProgramData\\Anaconda3\\lib\\queue.py\u001b[0m in \u001b[0;36mget\u001b[1;34m(self, block, timeout)\u001b[0m\n\u001b[0;32m    162\u001b[0m             \u001b[1;32melif\u001b[0m \u001b[0mtimeout\u001b[0m \u001b[1;32mis\u001b[0m \u001b[1;32mNone\u001b[0m\u001b[1;33m:\u001b[0m\u001b[1;33m\u001b[0m\u001b[0m\n\u001b[0;32m    163\u001b[0m                 \u001b[1;32mwhile\u001b[0m \u001b[1;32mnot\u001b[0m \u001b[0mself\u001b[0m\u001b[1;33m.\u001b[0m\u001b[0m_qsize\u001b[0m\u001b[1;33m(\u001b[0m\u001b[1;33m)\u001b[0m\u001b[1;33m:\u001b[0m\u001b[1;33m\u001b[0m\u001b[0m\n\u001b[1;32m--> 164\u001b[1;33m                     \u001b[0mself\u001b[0m\u001b[1;33m.\u001b[0m\u001b[0mnot_empty\u001b[0m\u001b[1;33m.\u001b[0m\u001b[0mwait\u001b[0m\u001b[1;33m(\u001b[0m\u001b[1;33m)\u001b[0m\u001b[1;33m\u001b[0m\u001b[0m\n\u001b[0m\u001b[0;32m    165\u001b[0m             \u001b[1;32melif\u001b[0m \u001b[0mtimeout\u001b[0m \u001b[1;33m<\u001b[0m \u001b[1;36m0\u001b[0m\u001b[1;33m:\u001b[0m\u001b[1;33m\u001b[0m\u001b[0m\n\u001b[0;32m    166\u001b[0m                 \u001b[1;32mraise\u001b[0m \u001b[0mValueError\u001b[0m\u001b[1;33m(\u001b[0m\u001b[1;34m\"'timeout' must be a non-negative number\"\u001b[0m\u001b[1;33m)\u001b[0m\u001b[1;33m\u001b[0m\u001b[0m\n",
      "\u001b[1;32mC:\\ProgramData\\Anaconda3\\lib\\threading.py\u001b[0m in \u001b[0;36mwait\u001b[1;34m(self, timeout)\u001b[0m\n\u001b[0;32m    293\u001b[0m         \u001b[1;32mtry\u001b[0m\u001b[1;33m:\u001b[0m    \u001b[1;31m# restore state no matter what (e.g., KeyboardInterrupt)\u001b[0m\u001b[1;33m\u001b[0m\u001b[0m\n\u001b[0;32m    294\u001b[0m             \u001b[1;32mif\u001b[0m \u001b[0mtimeout\u001b[0m \u001b[1;32mis\u001b[0m \u001b[1;32mNone\u001b[0m\u001b[1;33m:\u001b[0m\u001b[1;33m\u001b[0m\u001b[0m\n\u001b[1;32m--> 295\u001b[1;33m                 \u001b[0mwaiter\u001b[0m\u001b[1;33m.\u001b[0m\u001b[0macquire\u001b[0m\u001b[1;33m(\u001b[0m\u001b[1;33m)\u001b[0m\u001b[1;33m\u001b[0m\u001b[0m\n\u001b[0m\u001b[0;32m    296\u001b[0m                 \u001b[0mgotit\u001b[0m \u001b[1;33m=\u001b[0m \u001b[1;32mTrue\u001b[0m\u001b[1;33m\u001b[0m\u001b[0m\n\u001b[0;32m    297\u001b[0m             \u001b[1;32melse\u001b[0m\u001b[1;33m:\u001b[0m\u001b[1;33m\u001b[0m\u001b[0m\n",
      "\u001b[1;31mKeyboardInterrupt\u001b[0m: "
     ]
    }
   ],
   "source": [
    "%%time\n",
    "special_words.get_w2v_model(data.tokenized_doc,size = 300)"
   ]
  },
  {
   "cell_type": "code",
   "execution_count": 26,
   "metadata": {
    "ExecuteTime": {
     "end_time": "2019-05-10T03:47:21.410602Z",
     "start_time": "2019-05-10T03:47:21.394602Z"
    }
   },
   "outputs": [
    {
     "name": "stdout",
     "output_type": "stream",
     "text": [
      "단어 : 유사도\n"
     ]
    },
    {
     "ename": "AttributeError",
     "evalue": "'GetSpecialWords' object has no attribute 'model'",
     "output_type": "error",
     "traceback": [
      "\u001b[1;31m---------------------------------------------------------------------------\u001b[0m",
      "\u001b[1;31mAttributeError\u001b[0m                            Traceback (most recent call last)",
      "\u001b[1;32m<ipython-input-26-a57ded30fe2a>\u001b[0m in \u001b[0;36m<module>\u001b[1;34m()\u001b[0m\n\u001b[1;32m----> 1\u001b[1;33m \u001b[0mspecial_words\u001b[0m\u001b[1;33m.\u001b[0m\u001b[0mget_similar_words\u001b[0m\u001b[1;33m(\u001b[0m\u001b[1;34m'투자'\u001b[0m\u001b[1;33m)\u001b[0m\u001b[1;33m\u001b[0m\u001b[0m\n\u001b[0m",
      "\u001b[1;32m~\\Desktop\\뉴스 자동 분류 프로젝트\\코드 정리\\newsight.py\u001b[0m in \u001b[0;36mget_similar_words\u001b[1;34m(self, string)\u001b[0m\n\u001b[0;32m    154\u001b[0m     \u001b[1;32mdef\u001b[0m \u001b[0mget_similar_words\u001b[0m\u001b[1;33m(\u001b[0m\u001b[0mself\u001b[0m\u001b[1;33m,\u001b[0m \u001b[0mstring\u001b[0m\u001b[1;33m)\u001b[0m\u001b[1;33m:\u001b[0m\u001b[1;33m\u001b[0m\u001b[0m\n\u001b[0;32m    155\u001b[0m         \u001b[0mprint\u001b[0m\u001b[1;33m(\u001b[0m\u001b[1;34m'단어 : 유사도'\u001b[0m\u001b[1;33m)\u001b[0m\u001b[1;33m\u001b[0m\u001b[0m\n\u001b[1;32m--> 156\u001b[1;33m         \u001b[1;32mfor\u001b[0m \u001b[0mword\u001b[0m\u001b[1;33m,\u001b[0m \u001b[0mscore\u001b[0m \u001b[1;32min\u001b[0m \u001b[0mself\u001b[0m\u001b[1;33m.\u001b[0m\u001b[0mmodel\u001b[0m\u001b[1;33m.\u001b[0m\u001b[0mwv\u001b[0m\u001b[1;33m.\u001b[0m\u001b[0mmost_similar\u001b[0m\u001b[1;33m(\u001b[0m\u001b[0mstring\u001b[0m\u001b[1;33m)\u001b[0m\u001b[1;33m:\u001b[0m\u001b[1;33m\u001b[0m\u001b[0m\n\u001b[0m\u001b[0;32m    157\u001b[0m             \u001b[0mprint\u001b[0m\u001b[1;33m(\u001b[0m\u001b[0mword\u001b[0m\u001b[1;33m)\u001b[0m\u001b[1;33m\u001b[0m\u001b[0m\n\u001b[0;32m    158\u001b[0m \u001b[1;33m\u001b[0m\u001b[0m\n",
      "\u001b[1;31mAttributeError\u001b[0m: 'GetSpecialWords' object has no attribute 'model'"
     ]
    }
   ],
   "source": [
    "special_words.get_similar_words('투자')"
   ]
  },
  {
   "cell_type": "markdown",
   "metadata": {},
   "source": [
    "### bow로 불용어 찾기"
   ]
  },
  {
   "cell_type": "code",
   "execution_count": null,
   "metadata": {
    "ExecuteTime": {
     "end_time": "2019-05-10T03:47:21.411602Z",
     "start_time": "2019-05-10T03:36:29.035Z"
    }
   },
   "outputs": [],
   "source": [
    "#stop_words = newsight.GetStopWords()\n",
    "#stop_words.help()"
   ]
  },
  {
   "cell_type": "code",
   "execution_count": 27,
   "metadata": {
    "ExecuteTime": {
     "end_time": "2019-05-10T03:47:37.794602Z",
     "start_time": "2019-05-10T03:47:37.665602Z"
    }
   },
   "outputs": [
    {
     "name": "stdout",
     "output_type": "stream",
     "text": [
      "의견\n",
      "목표\n",
      "투자\n",
      "미래에셋대우\n",
      "매수\n",
      "주가\n",
      "제시\n",
      "유지\n",
      "증권\n",
      "최근\n",
      "일봉\n",
      "쿼드\n",
      "액티비전\n",
      "목도\n",
      "상원\n",
      "과분\n",
      "불미\n",
      "파라\n",
      "근간\n",
      "글리\n"
     ]
    }
   ],
   "source": [
    "special_words.get_bow(data.tokenized_doc)\n",
    "special_words.get_stop_words(10) # 출현 빈도 상위,하위 10위 단어 출력"
   ]
  },
  {
   "cell_type": "markdown",
   "metadata": {},
   "source": [
    "# 카테고리화!!"
   ]
  },
  {
   "cell_type": "markdown",
   "metadata": {},
   "source": [
    "## TF-IDF 벡터화 "
   ]
  },
  {
   "cell_type": "code",
   "execution_count": 65,
   "metadata": {
    "ExecuteTime": {
     "end_time": "2019-05-10T04:31:00.559809Z",
     "start_time": "2019-05-10T04:31:00.523809Z"
    }
   },
   "outputs": [
    {
     "name": "stdout",
     "output_type": "stream",
     "text": [
      "******GetDocsFromQuery******\n",
      "1)get_tfidf_vec(토큰화된 문서(Series),단어 수(int)) : 문서를 tfidf 벡터(x) 와 단어(words)로 반환\n",
      "2)get_doc2vec(토큰화된 문서(Series)) : doc2vec 벡터 반환\n",
      "3)load_doc2vec_model(토큰화된 문서(Series),모델객체(word2vec_obj)): 저장된 모델로  doc2vec 벡터 반환\n",
      "*****************************\n"
     ]
    }
   ],
   "source": [
    "vectorizer = newsight.Vectorizer()\n",
    "vectorizer.help()"
   ]
  },
  {
   "cell_type": "code",
   "execution_count": 66,
   "metadata": {
    "ExecuteTime": {
     "end_time": "2019-05-10T04:31:00.883609Z",
     "start_time": "2019-05-10T04:31:00.561809Z"
    }
   },
   "outputs": [],
   "source": [
    "x_tfidf, words = vectorizer.get_tfidf_vec(data.tokenized_doc, max_feat=5000,\n",
    "                                         min_df=0.1, max_df=0.9) # tf idf"
   ]
  },
  {
   "cell_type": "markdown",
   "metadata": {},
   "source": [
    "## LDA"
   ]
  },
  {
   "cell_type": "code",
   "execution_count": 74,
   "metadata": {
    "ExecuteTime": {
     "end_time": "2019-05-10T04:40:31.580210Z",
     "start_time": "2019-05-10T04:40:26.354210Z"
    }
   },
   "outputs": [
    {
     "name": "stdout",
     "output_type": "stream",
     "text": [
      "Wall time: 5.22 s\n"
     ]
    }
   ],
   "source": [
    "%%time\n",
    "from sklearn.decomposition import LatentDirichletAllocation\n",
    "lda = LatentDirichletAllocation(n_components=10, learning_method=\"batch\",\n",
    "                               max_iter=25, random_state=0)\n",
    "document_topics = lda.fit_transform(x_tfidf)"
   ]
  },
  {
   "cell_type": "code",
   "execution_count": 75,
   "metadata": {
    "ExecuteTime": {
     "end_time": "2019-05-10T04:40:31.586210Z",
     "start_time": "2019-05-10T04:40:31.582210Z"
    }
   },
   "outputs": [],
   "source": [
    "def get_topics(components, feature_names, n=10):\n",
    "    issues = []\n",
    "    for idx, topic in enumerate(components):\n",
    "        print(\"Topic %d:\" % (idx+1), \n",
    "              [(feature_names[i], topic[i].round(2), i) for i in topic.argsort()[:-n - 1:-1]])\n",
    "        tmp = []\n",
    "        tmp.extend(feature_names[i] for i in topic.argsort()[:-n - 1:-1])\n",
    "        issues.append(tmp)\n",
    "    return issues"
   ]
  },
  {
   "cell_type": "code",
   "execution_count": 76,
   "metadata": {
    "ExecuteTime": {
     "end_time": "2019-05-10T04:40:31.630210Z",
     "start_time": "2019-05-10T04:40:31.588210Z"
    }
   },
   "outputs": [
    {
     "name": "stdout",
     "output_type": "stream",
     "text": [
      "Topic 1: [('가의', 0.1, 4), ('추세', 0.1, 185), ('보수', 0.1, 81), ('해석', 0.1, 209), ('종가', 0.1, 160), ('차이', 0.1, 179), ('역시', 0.1, 124), ('대신', 0.1, 46), ('전일', 0.1, 147), ('통계', 0.1, 190)]\n",
      "Topic 2: [('고객', 48.79, 17), ('서비스', 42.8, 102), ('주식', 38.93, 164), ('자산', 36.02, 143), ('관리', 28.9, 23), ('상품', 24.36, 99), ('해외', 22.8, 210), ('투자자', 20.24, 192), ('글로벌', 17.47, 29), ('센터', 16.78, 105)]\n",
      "Topic 3: [('글로벌', 60.09, 29), ('금융', 44.09, 30), ('투자', 42.36, 191), ('해외', 42.1, 210), ('법인', 37.69, 79), ('그룹', 37.36, 28), ('인수', 28.52, 141), ('사업', 28.09, 95), ('대표', 24.66, 47), ('참여', 24.28, 180)]\n",
      "Topic 4: [('가의', 0.1, 4), ('추세', 0.1, 185), ('보수', 0.1, 81), ('해석', 0.1, 209), ('종가', 0.1, 160), ('차이', 0.1, 179), ('역시', 0.1, 124), ('대신', 0.1, 46), ('전일', 0.1, 147), ('통계', 0.1, 190)]\n",
      "Topic 5: [('주가', 26.52, 163), ('기관', 23.53, 34), ('하락', 21.34, 201), ('상품', 19.61, 99), ('수익률', 18.7, 110), ('수익', 18.19, 109), ('비중', 17.75, 94), ('거래', 17.35, 12), ('손실', 14.81, 106), ('기준', 14.71, 41)]\n",
      "Topic 6: [('증권', 75.64, 169), ('투자', 37.87, 191), ('삼성', 36.38, 96), ('증권사', 34.6, 170), ('실적', 34.58, 118), ('수익', 33.34, 109), ('업계', 30.5, 122), ('한국투자증권', 27.06, 206), ('영업', 26.36, 127), ('증가', 26.06, 168)]\n",
      "Topic 7: [('의견', 391.95, 136), ('목표', 295.19, 73), ('매수', 259.9, 66), ('제시', 207.48, 155), ('주가', 189.01, 163), ('유지', 178.17, 134), ('투자', 155.9, 191), ('컨센서스', 124.62, 187), ('발표', 92.22, 78), ('증권', 76.65, 169)]\n",
      "Topic 8: [('애널', 1.21, 121), ('리스트', 1.17, 62), ('대형', 0.1, 51), ('리포트', 0.1, 63), ('연속', 0.1, 126), ('센터', 0.1, 105), ('분석', 0.1, 91), ('다시', 0.1, 42), ('전망', 0.1, 146), ('계속', 0.1, 15)]\n",
      "Topic 9: [('가의', 0.1, 4), ('추세', 0.1, 185), ('보수', 0.1, 81), ('해석', 0.1, 209), ('종가', 0.1, 160), ('차이', 0.1, 179), ('역시', 0.1, 124), ('대신', 0.1, 46), ('전일', 0.1, 147), ('통계', 0.1, 190)]\n",
      "Topic 10: [('주주', 22.54, 166), ('회사', 4.5, 216), ('대표', 4.37, 47), ('주식', 3.58, 164), ('한국', 2.91, 205), ('지난', 2.8, 171), ('가치', 2.79, 6), ('예정', 2.67, 130), ('규모', 2.26, 26), ('계획', 2.17, 16)]\n"
     ]
    }
   ],
   "source": [
    "issues = get_topics(lda.components_, words)"
   ]
  },
  {
   "cell_type": "code",
   "execution_count": 77,
   "metadata": {
    "ExecuteTime": {
     "end_time": "2019-05-10T04:40:31.666210Z",
     "start_time": "2019-05-10T04:40:31.631210Z"
    }
   },
   "outputs": [
    {
     "data": {
      "text/plain": [
       "[['가의', '추세', '보수', '해석', '종가', '차이', '역시', '대신', '전일', '통계'],\n",
       " ['고객', '서비스', '주식', '자산', '관리', '상품', '해외', '투자자', '글로벌', '센터'],\n",
       " ['글로벌', '금융', '투자', '해외', '법인', '그룹', '인수', '사업', '대표', '참여'],\n",
       " ['가의', '추세', '보수', '해석', '종가', '차이', '역시', '대신', '전일', '통계'],\n",
       " ['주가', '기관', '하락', '상품', '수익률', '수익', '비중', '거래', '손실', '기준'],\n",
       " ['증권', '투자', '삼성', '증권사', '실적', '수익', '업계', '한국투자증권', '영업', '증가'],\n",
       " ['의견', '목표', '매수', '제시', '주가', '유지', '투자', '컨센서스', '발표', '증권'],\n",
       " ['애널', '리스트', '대형', '리포트', '연속', '센터', '분석', '다시', '전망', '계속'],\n",
       " ['가의', '추세', '보수', '해석', '종가', '차이', '역시', '대신', '전일', '통계'],\n",
       " ['주주', '회사', '대표', '주식', '한국', '지난', '가치', '예정', '규모', '계획']]"
      ]
     },
     "execution_count": 77,
     "metadata": {},
     "output_type": "execute_result"
    }
   ],
   "source": [
    "issues"
   ]
  },
  {
   "cell_type": "markdown",
   "metadata": {},
   "source": [
    "## LDA 주제별 문서 뽑기"
   ]
  },
  {
   "cell_type": "code",
   "execution_count": null,
   "metadata": {
    "ExecuteTime": {
     "end_time": "2019-05-10T03:47:21.421602Z",
     "start_time": "2019-05-10T03:39:12.849Z"
    }
   },
   "outputs": [],
   "source": [
    "data_from_issues  = newsight.GetKeyword()"
   ]
  },
  {
   "cell_type": "code",
   "execution_count": null,
   "metadata": {
    "ExecuteTime": {
     "end_time": "2019-05-10T03:47:21.423602Z",
     "start_time": "2019-05-10T03:39:13.117Z"
    },
    "scrolled": true
   },
   "outputs": [],
   "source": [
    "issues_based_data = data_from_issues.get_issues_based_dataframe(data, issues, length=70)"
   ]
  },
  {
   "cell_type": "code",
   "execution_count": null,
   "metadata": {
    "ExecuteTime": {
     "end_time": "2019-05-10T03:47:21.425602Z",
     "start_time": "2019-05-10T03:39:13.428Z"
    },
    "scrolled": false
   },
   "outputs": [],
   "source": [
    "for i in range(len(issues_based_data)):\n",
    "    display(issues_based_data[i].head())"
   ]
  },
  {
   "cell_type": "markdown",
   "metadata": {},
   "source": [
    "# ==============================="
   ]
  },
  {
   "cell_type": "markdown",
   "metadata": {},
   "source": [
    "## 문서검색(없어도 될듯)"
   ]
  },
  {
   "cell_type": "code",
   "execution_count": null,
   "metadata": {
    "ExecuteTime": {
     "end_time": "2019-05-10T03:47:21.428602Z",
     "start_time": "2019-05-10T03:39:14.324Z"
    }
   },
   "outputs": [],
   "source": [
    "doc_selector = newsight.GetDocsFromQuery()\n",
    "doc_selector.help()"
   ]
  },
  {
   "cell_type": "code",
   "execution_count": null,
   "metadata": {
    "ExecuteTime": {
     "end_time": "2019-05-10T03:47:21.430602Z",
     "start_time": "2019-05-10T03:39:17.187Z"
    }
   },
   "outputs": [],
   "source": [
    "doc_selector.set_query('미래에셋대우')"
   ]
  },
  {
   "cell_type": "code",
   "execution_count": null,
   "metadata": {
    "ExecuteTime": {
     "end_time": "2019-05-10T03:47:21.431602Z",
     "start_time": "2019-05-10T03:39:17.356Z"
    }
   },
   "outputs": [],
   "source": [
    "query_docs = doc_selector.select_news(data['tokenized_doc'])"
   ]
  },
  {
   "cell_type": "code",
   "execution_count": null,
   "metadata": {
    "ExecuteTime": {
     "end_time": "2019-05-10T03:47:21.432602Z",
     "start_time": "2019-05-10T03:39:17.550Z"
    }
   },
   "outputs": [],
   "source": [
    "query_docs.tail()"
   ]
  },
  {
   "cell_type": "markdown",
   "metadata": {},
   "source": [
    "## 주제별 TF-IDF, Doc2Vec 벡터화"
   ]
  },
  {
   "cell_type": "code",
   "execution_count": null,
   "metadata": {
    "ExecuteTime": {
     "end_time": "2019-05-10T03:47:21.433602Z",
     "start_time": "2019-05-10T03:39:18.073Z"
    }
   },
   "outputs": [],
   "source": [
    "vectorizer = newsight.Vectorizer()\n",
    "vectorizer.help()"
   ]
  },
  {
   "cell_type": "markdown",
   "metadata": {},
   "source": [
    "### TFIDF"
   ]
  },
  {
   "cell_type": "code",
   "execution_count": null,
   "metadata": {
    "ExecuteTime": {
     "end_time": "2019-05-10T03:47:21.434602Z",
     "start_time": "2019-05-10T03:39:18.695Z"
    }
   },
   "outputs": [],
   "source": [
    "x_tfidf_list = []\n",
    "words_list = []\n",
    "for i in range(len(issues_based_data)):\n",
    "    x_tfidf, words = vectorizer.get_tfidf_vec(issues_based_data[i].tokenized_doc,max_feat=5000,\n",
    "                                             min_df=0.1, max_df=0.9) # tf idf\n",
    "    x_tfidf_list.append(x_tfidf)\n",
    "    words_list.append(words_list)"
   ]
  },
  {
   "cell_type": "markdown",
   "metadata": {},
   "source": [
    "### Dov2Vec"
   ]
  },
  {
   "cell_type": "code",
   "execution_count": null,
   "metadata": {
    "ExecuteTime": {
     "end_time": "2019-05-10T03:47:21.435602Z",
     "start_time": "2019-05-10T03:39:19.151Z"
    }
   },
   "outputs": [],
   "source": [
    "%%time\n",
    "x_doc2vec_list = []\n",
    "for i in range(len(issues_based_data)):\n",
    "    print(\"Issue %s\" %i)\n",
    "    x_doc2vec = vectorizer.get_doc2vec(issues_based_data[i].tokenized_doc, \n",
    "                                       model_name=\"d2v%s.model\" %i)\n",
    "    x_doc2vec_list.append(x_doc2vec)\n",
    "    print(\"=\" * 10)"
   ]
  },
  {
   "cell_type": "markdown",
   "metadata": {},
   "source": [
    "## 군집화, 시각화, 분석"
   ]
  },
  {
   "cell_type": "markdown",
   "metadata": {},
   "source": [
    "### TF-IDF"
   ]
  },
  {
   "cell_type": "code",
   "execution_count": null,
   "metadata": {
    "ExecuteTime": {
     "end_time": "2019-05-10T03:47:21.437602Z",
     "start_time": "2019-05-10T03:39:19.918Z"
    }
   },
   "outputs": [],
   "source": [
    "from sklearn.decomposition import PCA\n",
    "from sklearn.cluster import DBSCAN\n",
    "from sklearn.preprocessing import StandardScaler\n",
    "\n",
    "class Get2DPlot:\n",
    "\n",
    "    def help(self):\n",
    "        print('아 난해하다 알아서 쓰세요')\n",
    "\n",
    "    def __init__(self, x, vec_kind='tfidf',reduction_method=\"PCA\",\n",
    "                 learning_rate=200, init='pca', random_state=10,\n",
    "                 cluster_method=\"DBSCAN\", eps=7, min_sample=2, n_clusters=3):\n",
    "        self.reduction_method = reduction_method\n",
    "        self.learning_rate = learning_rate\n",
    "        self.init = init\n",
    "        self.random_state = random_state\n",
    "        self.cluster_method = cluster_method\n",
    "        self.eps = eps\n",
    "        self.min_sample = min_sample\n",
    "        self.n_clusters = n_clusters\n",
    "        if vec_kind == 'tfidf':\n",
    "            self.x_scaled = x\n",
    "        elif vec_kind == 'doc2vec':\n",
    "            self.x_scaled = StandardScaler().fit_transform(x)\n",
    "        else:\n",
    "            print(\"vec_kind must me 'tfidf' or 'doc2vec'\")\n",
    "            raise NotImplementedError\n",
    "\n",
    "    def get_2D_vec(self):\n",
    "        if self.reduction_method == 'TSNE':\n",
    "            t_sne = TSNE(n_components=2, learning_rate=self.learning_rate, init=self.init,\n",
    "                         random_state=self.random_state)\n",
    "            self.vec = t_sne.fit_transform(self.x_scaled)\n",
    "        elif self.reduction_method == 'PCA':\n",
    "            pca = PCA(n_components=2)\n",
    "            self.vec = pca.fit_transform(self.x_scaled)\n",
    "        return self.vec\n",
    "\n",
    "    def get_cluster_labels(self):\n",
    "        if self.cluster_method == 'kmeans':\n",
    "            cluster = KMeans(n_clusters=self.n_clusters, random_state=self.random_state).fit(self.x_scaled)\n",
    "            self.cluster_labels = cluster.labels_\n",
    "        elif self.cluster_method == 'DBSCAN':\n",
    "            self.cluster_labels = DBSCAN(eps=self.eps, min_samples=self.min_sample, metric='cosine').fit_predict(self.x_scaled)\n",
    "        vec_pd = np.c_[self.vec, self.cluster_labels]\n",
    "        self.vec_pd = pd.DataFrame(vec_pd, columns=['x', 'y', 'labels'])\n",
    "        print(self.cluster_labels)\n",
    "\n",
    "    def plot2D(self):\n",
    "        print(self.reduction_method, self.cluster_method)\n",
    "        groups = self.vec_pd.groupby('labels')\n",
    "        fig, ax = plt.subplots()\n",
    "        for name, group in groups:\n",
    "            ax.plot(group.x,\n",
    "                    group.y,\n",
    "                    marker='o',\n",
    "                    linestyle='',\n",
    "                    label=name)\n",
    "        # ax.legend(fontsize=12, loc='upper left') # legend position\n",
    "\n",
    "        plt.title('%s Plot of %s' % (self.reduction_method, self.cluster_method), fontsize=20)\n",
    "        plt.xlabel('x', fontsize=14)\n",
    "        plt.ylabel('y', fontsize=14)\n",
    "        plt.show() "
   ]
  },
  {
   "cell_type": "code",
   "execution_count": null,
   "metadata": {
    "ExecuteTime": {
     "end_time": "2019-05-10T03:47:21.440602Z",
     "start_time": "2019-05-10T03:39:20.663Z"
    }
   },
   "outputs": [],
   "source": [
    "issues"
   ]
  },
  {
   "cell_type": "code",
   "execution_count": null,
   "metadata": {
    "ExecuteTime": {
     "end_time": "2019-05-10T03:47:21.441602Z",
     "start_time": "2019-05-10T03:39:21.005Z"
    }
   },
   "outputs": [],
   "source": [
    "issue_number = 2\n",
    "x_tfidf = x_tfidf_list[issue_number]\n",
    "x_doc2vec = x_doc2vec_list[issue_number]\n",
    "issue_data = issues_based_data[issue_number]\n",
    "print(issues[issue_number])"
   ]
  },
  {
   "cell_type": "markdown",
   "metadata": {},
   "source": [
    "#### 군집화, 시각화"
   ]
  },
  {
   "cell_type": "code",
   "execution_count": null,
   "metadata": {
    "ExecuteTime": {
     "end_time": "2019-05-10T03:47:21.442602Z",
     "start_time": "2019-05-10T03:39:21.651Z"
    }
   },
   "outputs": [],
   "source": [
    "cluster_tfidf = Get2DPlot(x_tfidf, 'tfidf', eps=0.3, min_sample=4)\n",
    "cluster_tfidf.help()"
   ]
  },
  {
   "cell_type": "code",
   "execution_count": null,
   "metadata": {
    "ExecuteTime": {
     "end_time": "2019-05-10T03:47:21.444602Z",
     "start_time": "2019-05-10T03:39:21.931Z"
    }
   },
   "outputs": [],
   "source": [
    "%%time\n",
    "tfidf_2d = cluster_tfidf.get_2D_vec()\n",
    "cluster_tfidf.get_cluster_labels()\n",
    "cluster_tfidf.plot2D()"
   ]
  },
  {
   "cell_type": "code",
   "execution_count": null,
   "metadata": {
    "ExecuteTime": {
     "end_time": "2019-05-10T03:47:21.446602Z",
     "start_time": "2019-05-10T03:39:22.235Z"
    }
   },
   "outputs": [],
   "source": [
    "# 라벨 생성\n",
    "clusters = sorted(list(set(cluster_tfidf.cluster_labels)))\n",
    "issue_data['labels'] = cluster_tfidf.cluster_labels"
   ]
  },
  {
   "cell_type": "markdown",
   "metadata": {},
   "source": [
    "#### 분석"
   ]
  },
  {
   "cell_type": "code",
   "execution_count": null,
   "metadata": {
    "ExecuteTime": {
     "end_time": "2019-05-10T03:47:21.447602Z",
     "start_time": "2019-05-10T03:39:22.709Z"
    }
   },
   "outputs": [],
   "source": [
    "analyzer = newsight.AnalyzingNewsData()\n",
    "analyzer.help()"
   ]
  },
  {
   "cell_type": "code",
   "execution_count": null,
   "metadata": {
    "ExecuteTime": {
     "end_time": "2019-05-10T03:47:21.449602Z",
     "start_time": "2019-05-10T03:39:22.928Z"
    }
   },
   "outputs": [],
   "source": [
    "display(analyzer.get_n_data_per_cluster(cluster_tfidf.cluster_labels)[0:10])"
   ]
  },
  {
   "cell_type": "code",
   "execution_count": null,
   "metadata": {
    "ExecuteTime": {
     "end_time": "2019-05-10T03:47:21.450602Z",
     "start_time": "2019-05-10T03:39:23.135Z"
    },
    "scrolled": false
   },
   "outputs": [],
   "source": [
    "analyzer.print_news_per_cluster(issue_data, analyzer.get_n_data_per_cluster(cluster_tfidf.cluster_labels)[1:10].index, 'title')"
   ]
  },
  {
   "cell_type": "markdown",
   "metadata": {},
   "source": [
    "### Doc2Vec"
   ]
  },
  {
   "cell_type": "code",
   "execution_count": null,
   "metadata": {
    "ExecuteTime": {
     "end_time": "2019-05-10T03:47:21.461602Z",
     "start_time": "2019-05-10T03:39:23.585Z"
    }
   },
   "outputs": [],
   "source": [
    "cluster_doc2vec = Get2DPlot(x_doc2vec, 'doc2vec', eps=0.47, min_sample=4)\n",
    "cluster_doc2vec.help()"
   ]
  },
  {
   "cell_type": "code",
   "execution_count": null,
   "metadata": {
    "ExecuteTime": {
     "end_time": "2019-05-10T03:47:21.463602Z",
     "start_time": "2019-05-10T03:39:24.030Z"
    }
   },
   "outputs": [],
   "source": [
    "doc2vec_2d = cluster_doc2vec.get_2D_vec()\n",
    "cluster_doc2vec.get_cluster_labels()\n",
    "cluster_doc2vec.plot2D()"
   ]
  },
  {
   "cell_type": "code",
   "execution_count": null,
   "metadata": {
    "ExecuteTime": {
     "end_time": "2019-05-10T03:47:21.465602Z",
     "start_time": "2019-05-10T03:39:24.249Z"
    }
   },
   "outputs": [],
   "source": [
    "# 라벨 생성\n",
    "clusters = sorted(list(set(cluster_doc2vec.cluster_labels)))\n",
    "issue_data['labels'] = cluster_doc2vec.cluster_labels"
   ]
  },
  {
   "cell_type": "markdown",
   "metadata": {},
   "source": [
    "#### 분석"
   ]
  },
  {
   "cell_type": "code",
   "execution_count": null,
   "metadata": {
    "ExecuteTime": {
     "end_time": "2019-05-10T03:47:21.466602Z",
     "start_time": "2019-05-10T03:39:24.637Z"
    }
   },
   "outputs": [],
   "source": [
    "analyzer = newsight.AnalyzingNewsData()\n",
    "analyzer.help()"
   ]
  },
  {
   "cell_type": "code",
   "execution_count": null,
   "metadata": {
    "ExecuteTime": {
     "end_time": "2019-05-10T03:47:21.468602Z",
     "start_time": "2019-05-10T03:39:24.849Z"
    }
   },
   "outputs": [],
   "source": [
    "display(analyzer.get_n_data_per_cluster(cluster_doc2vec.cluster_labels)[0:10])"
   ]
  },
  {
   "cell_type": "code",
   "execution_count": null,
   "metadata": {
    "ExecuteTime": {
     "end_time": "2019-05-10T03:47:21.470602Z",
     "start_time": "2019-05-10T03:39:25.049Z"
    },
    "scrolled": false
   },
   "outputs": [],
   "source": [
    "analyzer.print_news_per_cluster(issue_data, analyzer.get_n_data_per_cluster(cluster_doc2vec.cluster_labels)[1:10].index, 'title')"
   ]
  },
  {
   "cell_type": "code",
   "execution_count": null,
   "metadata": {},
   "outputs": [],
   "source": []
  },
  {
   "cell_type": "code",
   "execution_count": null,
   "metadata": {},
   "outputs": [],
   "source": []
  },
  {
   "cell_type": "code",
   "execution_count": null,
   "metadata": {},
   "outputs": [],
   "source": []
  },
  {
   "cell_type": "code",
   "execution_count": null,
   "metadata": {},
   "outputs": [],
   "source": []
  },
  {
   "cell_type": "code",
   "execution_count": null,
   "metadata": {},
   "outputs": [],
   "source": []
  },
  {
   "cell_type": "code",
   "execution_count": null,
   "metadata": {},
   "outputs": [],
   "source": []
  },
  {
   "cell_type": "code",
   "execution_count": null,
   "metadata": {},
   "outputs": [],
   "source": []
  },
  {
   "cell_type": "code",
   "execution_count": null,
   "metadata": {},
   "outputs": [],
   "source": []
  },
  {
   "cell_type": "code",
   "execution_count": null,
   "metadata": {},
   "outputs": [],
   "source": []
  },
  {
   "cell_type": "code",
   "execution_count": null,
   "metadata": {},
   "outputs": [],
   "source": []
  },
  {
   "cell_type": "code",
   "execution_count": null,
   "metadata": {},
   "outputs": [],
   "source": []
  },
  {
   "cell_type": "code",
   "execution_count": null,
   "metadata": {},
   "outputs": [],
   "source": []
  },
  {
   "cell_type": "code",
   "execution_count": null,
   "metadata": {},
   "outputs": [],
   "source": []
  },
  {
   "cell_type": "code",
   "execution_count": null,
   "metadata": {},
   "outputs": [],
   "source": []
  },
  {
   "cell_type": "code",
   "execution_count": null,
   "metadata": {},
   "outputs": [],
   "source": []
  },
  {
   "cell_type": "code",
   "execution_count": null,
   "metadata": {},
   "outputs": [],
   "source": []
  },
  {
   "cell_type": "code",
   "execution_count": null,
   "metadata": {},
   "outputs": [],
   "source": []
  },
  {
   "cell_type": "code",
   "execution_count": null,
   "metadata": {},
   "outputs": [],
   "source": []
  },
  {
   "cell_type": "code",
   "execution_count": null,
   "metadata": {},
   "outputs": [],
   "source": []
  },
  {
   "cell_type": "code",
   "execution_count": null,
   "metadata": {},
   "outputs": [],
   "source": []
  },
  {
   "cell_type": "code",
   "execution_count": null,
   "metadata": {},
   "outputs": [],
   "source": []
  },
  {
   "cell_type": "code",
   "execution_count": null,
   "metadata": {},
   "outputs": [],
   "source": []
  },
  {
   "cell_type": "code",
   "execution_count": null,
   "metadata": {},
   "outputs": [],
   "source": [
    "import pickle\n",
    "import datetime"
   ]
  },
  {
   "cell_type": "code",
   "execution_count": null,
   "metadata": {},
   "outputs": [],
   "source": [
    "def get_dataframe(data_name_with_route):\n",
    "        with open(data_name_with_route, 'rb') as file:\n",
    "            data_list = []\n",
    "            while True:\n",
    "                try:\n",
    "                    data = pickle.load(file)\n",
    "                except EOFError:\n",
    "                    break\n",
    "                data_list.append(data)\n",
    "        # construct lists for data frame\n",
    "        title = []\n",
    "        content = []\n",
    "        date = []\n",
    "        category = []\n",
    "        for news in data_list[0]['return_object']['documents']:\n",
    "            title.append(news['title'])\n",
    "            content.append(news['content'])\n",
    "            date.append(news['published_at'][:10])  # 시간 조정이 필요하면 바꾸기\n",
    "            category.append(news['category'])\n",
    "        # make lists as data frame\n",
    "        news_data = pd.DataFrame([])\n",
    "        news_data['date'] = date\n",
    "        news_data['title'] = title\n",
    "        news_data['content'] = content\n",
    "        news_data['category'] = category\n",
    "        news_data['date_tmp'] = news_data['date'].apply(lambda x: datetime.datetime.strptime(x, '%Y-%m-%d').toordinal())\n",
    "        return news_data"
   ]
  },
  {
   "cell_type": "code",
   "execution_count": null,
   "metadata": {},
   "outputs": [],
   "source": [
    "df = get_dataframe('data/미래에셋대우/rawdata_미래에셋대우.pickle')"
   ]
  },
  {
   "cell_type": "code",
   "execution_count": null,
   "metadata": {},
   "outputs": [],
   "source": []
  },
  {
   "cell_type": "code",
   "execution_count": null,
   "metadata": {},
   "outputs": [],
   "source": []
  },
  {
   "cell_type": "code",
   "execution_count": null,
   "metadata": {},
   "outputs": [],
   "source": []
  },
  {
   "cell_type": "code",
   "execution_count": null,
   "metadata": {},
   "outputs": [],
   "source": []
  },
  {
   "cell_type": "code",
   "execution_count": null,
   "metadata": {},
   "outputs": [],
   "source": []
  },
  {
   "cell_type": "code",
   "execution_count": null,
   "metadata": {},
   "outputs": [],
   "source": [
    "tmp_idx = []\n",
    "for idx in range(df.shape[0]):\n",
    "    if '미래에셋' in df.iloc[idx]['title'] : tmp_idx.append(idx)"
   ]
  },
  {
   "cell_type": "code",
   "execution_count": null,
   "metadata": {
    "scrolled": false
   },
   "outputs": [],
   "source": [
    "df[df['category'].apply(lambda x :  True if len(x) == 0 else False)].title"
   ]
  },
  {
   "cell_type": "code",
   "execution_count": null,
   "metadata": {},
   "outputs": [],
   "source": [
    "df.category"
   ]
  },
  {
   "cell_type": "code",
   "execution_count": null,
   "metadata": {},
   "outputs": [],
   "source": [
    "df_category = []\n",
    "for category in df.iloc[tmp_idx].category:\n",
    "    if len(category) != 0:\n",
    "        df_category.append(category)"
   ]
  },
  {
   "cell_type": "code",
   "execution_count": null,
   "metadata": {},
   "outputs": [],
   "source": [
    "df.category[0][0]"
   ]
  },
  {
   "cell_type": "code",
   "execution_count": null,
   "metadata": {},
   "outputs": [],
   "source": [
    "df_category"
   ]
  },
  {
   "cell_type": "code",
   "execution_count": null,
   "metadata": {},
   "outputs": [],
   "source": [
    "pd.Series(df_category).apply(lambda x : ' '.join(x)).value_counts()"
   ]
  },
  {
   "cell_type": "code",
   "execution_count": null,
   "metadata": {},
   "outputs": [],
   "source": []
  }
 ],
 "metadata": {
  "hide_input": false,
  "kernelspec": {
   "display_name": "Python 3",
   "language": "python",
   "name": "python3"
  },
  "language_info": {
   "codemirror_mode": {
    "name": "ipython",
    "version": 3
   },
   "file_extension": ".py",
   "mimetype": "text/x-python",
   "name": "python",
   "nbconvert_exporter": "python",
   "pygments_lexer": "ipython3",
   "version": "3.6.5"
  },
  "toc": {
   "base_numbering": 1,
   "nav_menu": {},
   "number_sections": true,
   "sideBar": true,
   "skip_h1_title": false,
   "title_cell": "Table of Contents",
   "title_sidebar": "Contents",
   "toc_cell": false,
   "toc_position": {},
   "toc_section_display": true,
   "toc_window_display": false
  }
 },
 "nbformat": 4,
 "nbformat_minor": 2
}
