{
 "cells": [
  {
   "cell_type": "markdown",
   "metadata": {
    "toc": true
   },
   "source": [
    "<h1>Table of Contents<span class=\"tocSkip\"></span></h1>\n",
    "<div class=\"toc\"><ul class=\"toc-item\"><li><span><a href=\"#개요\" data-toc-modified-id=\"개요-1\"><span class=\"toc-item-num\">1&nbsp;&nbsp;</span>개요</a></span><ul class=\"toc-item\"><li><span><a href=\"#주제:-Allstate-Claims-Severity\" data-toc-modified-id=\"주제:-Allstate-Claims-Severity-1.1\"><span class=\"toc-item-num\">1.1&nbsp;&nbsp;</span>주제: Allstate Claims Severity</a></span></li><li><span><a href=\"#데이터-설명\" data-toc-modified-id=\"데이터-설명-1.2\"><span class=\"toc-item-num\">1.2&nbsp;&nbsp;</span>데이터 설명</a></span></li></ul></li><li><span><a href=\"#탐색적-분석\" data-toc-modified-id=\"탐색적-분석-2\"><span class=\"toc-item-num\">2&nbsp;&nbsp;</span>탐색적 분석</a></span><ul class=\"toc-item\"><li><span><a href=\"#cat변수-시각화\" data-toc-modified-id=\"cat변수-시각화-2.1\"><span class=\"toc-item-num\">2.1&nbsp;&nbsp;</span>cat변수 시각화</a></span></li><li><span><a href=\"#cont-변수-시각화\" data-toc-modified-id=\"cont-변수-시각화-2.2\"><span class=\"toc-item-num\">2.2&nbsp;&nbsp;</span>cont 변수 시각화</a></span></li><li><span><a href=\"#loss-시각화\" data-toc-modified-id=\"loss-시각화-2.3\"><span class=\"toc-item-num\">2.3&nbsp;&nbsp;</span>loss 시각화</a></span></li></ul></li><li><span><a href=\"#데이터-전처리\" data-toc-modified-id=\"데이터-전처리-3\"><span class=\"toc-item-num\">3&nbsp;&nbsp;</span>데이터 전처리</a></span><ul class=\"toc-item\"><li><span><a href=\"#cat변수-K-means로-군집화\" data-toc-modified-id=\"cat변수-K-means로-군집화-3.1\"><span class=\"toc-item-num\">3.1&nbsp;&nbsp;</span>cat변수 K-means로 군집화</a></span></li><li><span><a href=\"#SVD로-축소\" data-toc-modified-id=\"SVD로-축소-3.2\"><span class=\"toc-item-num\">3.2&nbsp;&nbsp;</span>SVD로 축소</a></span></li></ul></li><li><span><a href=\"#모델링\" data-toc-modified-id=\"모델링-4\"><span class=\"toc-item-num\">4&nbsp;&nbsp;</span>모델링</a></span><ul class=\"toc-item\"><li><span><a href=\"#선형회귀\" data-toc-modified-id=\"선형회귀-4.1\"><span class=\"toc-item-num\">4.1&nbsp;&nbsp;</span>선형회귀</a></span></li></ul></li></ul></div>"
   ]
  },
  {
   "cell_type": "markdown",
   "metadata": {},
   "source": [
    "### 개요\n",
    "#### 주제: Allstate Claims Severity\n",
    "https://www.kaggle.com/c/allstate-claims-severity<br>\n",
    "보험금 청구비용(loss) 예측 모델을 구축한다.\n",
    "\n",
    "#### 데이터 설명\n",
    ": 미국의 개인 보험 회사 Allstate 계약(id)별 보험금 청구액(loss)관련 자료이다.<br>\n",
    "컬럼명 cat1,2,3... cont1,2,3... 은 아래와 같이 의미한다. 'cat' - categorical(명목형 변수)<br>\n",
    "'cont' - continuous (연속형 변수)<br>\n",
    "\n",
    "cat 데이터는 A,B,C...., LB,DC,CQ...등 유형을 나타내도록 변환되었고, cont 데이터는 0~1 소숫점으로 변환되어 주어진 상태이다."
   ]
  },
  {
   "cell_type": "code",
   "execution_count": 1,
   "metadata": {
    "ExecuteTime": {
     "end_time": "2019-04-03T15:20:33.088953Z",
     "start_time": "2019-04-03T15:20:31.531465Z"
    }
   },
   "outputs": [],
   "source": [
    "# !pip install xgboost\n",
    "import pandas as pd\n",
    "pd.set_option('display.max_columns', 200)\n",
    "import numpy as np\n",
    "\n",
    "import matplotlib.pyplot as plt\n",
    "import seaborn as sns\n",
    "\n",
    "from sklearn.cluster import KMeans\n",
    "from sklearn.linear_model import LinearRegression\n",
    "from sklearn.model_selection import train_test_split\n",
    "from sklearn import metrics\n",
    "\n",
    "import xgboost as xgb\n",
    "\n",
    "import warnings\n",
    "warnings.filterwarnings('ignore')"
   ]
  },
  {
   "cell_type": "markdown",
   "metadata": {},
   "source": [
    "### 탐색적 분석"
   ]
  },
  {
   "cell_type": "code",
   "execution_count": 2,
   "metadata": {
    "ExecuteTime": {
     "end_time": "2019-04-03T15:20:35.605286Z",
     "start_time": "2019-04-03T15:20:33.811898Z"
    }
   },
   "outputs": [
    {
     "data": {
      "text/plain": [
       "(188318, 132)"
      ]
     },
     "execution_count": 2,
     "metadata": {},
     "output_type": "execute_result"
    }
   ],
   "source": [
    "train = pd.read_csv('train.csv')\n",
    "train.shape"
   ]
  },
  {
   "cell_type": "code",
   "execution_count": 3,
   "metadata": {
    "ExecuteTime": {
     "end_time": "2019-04-03T15:20:36.697864Z",
     "start_time": "2019-04-03T15:20:36.063939Z"
    }
   },
   "outputs": [],
   "source": [
    "X = train.iloc[:,1:-1]\n",
    "y = train.loss\n",
    "X, X_validation, y, y_validation = train_test_split(X, y, test_size=0.5, random_state=5)\n",
    "\n",
    "X = X.reset_index()\n",
    "X = X.drop(columns='index')\n",
    "y = y.reset_index()\n",
    "y = y.drop(columns='index')"
   ]
  },
  {
   "cell_type": "code",
   "execution_count": null,
   "metadata": {
    "ExecuteTime": {
     "end_time": "2019-04-03T14:46:29.453238Z",
     "start_time": "2019-04-03T14:46:29.445293Z"
    }
   },
   "outputs": [],
   "source": [
    "X.info()"
   ]
  },
  {
   "cell_type": "code",
   "execution_count": null,
   "metadata": {
    "ExecuteTime": {
     "end_time": "2019-04-03T14:46:30.027918Z",
     "start_time": "2019-04-03T14:46:29.957110Z"
    }
   },
   "outputs": [],
   "source": [
    "X.head()"
   ]
  },
  {
   "cell_type": "code",
   "execution_count": null,
   "metadata": {
    "ExecuteTime": {
     "end_time": "2019-04-03T14:46:37.153105Z",
     "start_time": "2019-04-03T14:46:35.719434Z"
    },
    "scrolled": false
   },
   "outputs": [],
   "source": [
    "X.describe(include = ['object'])"
   ]
  },
  {
   "cell_type": "code",
   "execution_count": null,
   "metadata": {
    "ExecuteTime": {
     "end_time": "2019-04-03T14:32:17.684329Z",
     "start_time": "2019-04-03T14:32:17.476884Z"
    }
   },
   "outputs": [],
   "source": [
    "X.describe()"
   ]
  },
  {
   "cell_type": "code",
   "execution_count": 4,
   "metadata": {
    "ExecuteTime": {
     "end_time": "2019-04-03T15:20:43.281031Z",
     "start_time": "2019-04-03T15:20:43.276076Z"
    }
   },
   "outputs": [],
   "source": [
    "# cout와 cat 변수명 리스트로 담기\n",
    "cont_columns = []\n",
    "cat_columns = []\n",
    "\n",
    "for i in X.columns:\n",
    "    if X[i].dtype == 'float':\n",
    "        cont_columns.append(i)\n",
    "    elif X[i].dtype == 'object':\n",
    "        cat_columns.append(i)"
   ]
  },
  {
   "cell_type": "markdown",
   "metadata": {},
   "source": [
    "#### cat변수 시각화"
   ]
  },
  {
   "cell_type": "code",
   "execution_count": null,
   "metadata": {},
   "outputs": [],
   "source": [
    "cols = X.columns\n",
    "\n",
    "# 29x4 형태로 시각화\n",
    "\n",
    "n_cols = 4\n",
    "n_rows = 29\n",
    "for i in range(n_rows):\n",
    "    fg,ax = plt.subplots(nrows=1,ncols=n_cols,sharey=True,figsize=(18, 8))\n",
    "    for j in range(n_cols):\n",
    "        sns.countplot(x=cols[i*n_cols+j], data=train, ax=ax[j])"
   ]
  },
  {
   "cell_type": "code",
   "execution_count": null,
   "metadata": {},
   "outputs": [],
   "source": []
  },
  {
   "cell_type": "code",
   "execution_count": null,
   "metadata": {},
   "outputs": [],
   "source": []
  },
  {
   "cell_type": "code",
   "execution_count": null,
   "metadata": {},
   "outputs": [],
   "source": []
  },
  {
   "cell_type": "markdown",
   "metadata": {},
   "source": [
    "#### cont 변수 시각화\n",
    "- 각 상관계수가 높은 변수를 어떻게 처리할 것인지 고민 필요"
   ]
  },
  {
   "cell_type": "code",
   "execution_count": null,
   "metadata": {
    "ExecuteTime": {
     "end_time": "2019-04-03T13:55:40.064871Z",
     "start_time": "2019-04-03T13:55:32.070429Z"
    }
   },
   "outputs": [],
   "source": [
    "cols=X[cont_columns].columns \n",
    "n_cols = 2\n",
    "n_rows = 7\n",
    "\n",
    "for i in range(n_rows):\n",
    "    fg,ax = plt.subplots(nrows=1,ncols=n_cols,figsize=(12, 5))\n",
    "    for j in range(n_cols):\n",
    "        sns.violinplot(cols[i*n_cols+j], data=X, ax=ax[j], orient='v')"
   ]
  },
  {
   "cell_type": "code",
   "execution_count": null,
   "metadata": {
    "ExecuteTime": {
     "end_time": "2019-04-03T13:55:57.264071Z",
     "start_time": "2019-04-03T13:55:56.661802Z"
    }
   },
   "outputs": [],
   "source": [
    "round(X[cont_columns].corr(),2).style.background_gradient(cmap='coolwarm')"
   ]
  },
  {
   "cell_type": "code",
   "execution_count": null,
   "metadata": {},
   "outputs": [],
   "source": []
  },
  {
   "cell_type": "markdown",
   "metadata": {},
   "source": [
    "#### loss 시각화\n",
    "- 좌편향된 loss에 log를 취하면 정규분포에 근사하게 만들 수 있다."
   ]
  },
  {
   "cell_type": "code",
   "execution_count": null,
   "metadata": {
    "ExecuteTime": {
     "end_time": "2019-04-03T14:06:01.708720Z",
     "start_time": "2019-04-03T14:06:01.367551Z"
    }
   },
   "outputs": [],
   "source": [
    "# loss가 좌편향되어 있어 log를 취함\n",
    "train['loss_log'] = np.log1p(train['loss'])\n",
    "\n",
    "fig, (ax1, ax2) = plt.subplots(1, 2)\n",
    "fig.set_size_inches(15, 6)\n",
    "sns.distplot(train.loss, ax=ax1)\n",
    "sns.distplot(train.loss_log, ax=ax2, color=\"green\")\n",
    "plt.show()"
   ]
  },
  {
   "cell_type": "code",
   "execution_count": null,
   "metadata": {
    "ExecuteTime": {
     "end_time": "2019-04-03T14:01:01.178802Z",
     "start_time": "2019-04-03T14:01:00.902592Z"
    }
   },
   "outputs": [],
   "source": [
    "round(pd.concat([X[cont_columns],train.loss, train.loss_log], axis=1).corr(),2).style.background_gradient(cmap='coolwarm')"
   ]
  },
  {
   "cell_type": "code",
   "execution_count": null,
   "metadata": {},
   "outputs": [],
   "source": []
  },
  {
   "cell_type": "markdown",
   "metadata": {},
   "source": [
    "### 데이터 전처리\n",
    "#### cat변수 K-means로 군집화\n",
    "- elbow 최적점 확인 어려움.."
   ]
  },
  {
   "cell_type": "code",
   "execution_count": 6,
   "metadata": {
    "ExecuteTime": {
     "end_time": "2019-04-03T15:21:01.950934Z",
     "start_time": "2019-04-03T15:21:01.006460Z"
    }
   },
   "outputs": [],
   "source": [
    "# cat변수 더미(one-hot encoding)로 변환\n",
    "X_cat_dummy = X.iloc[:,0:116]\n",
    "X_cat_dummy = pd.get_dummies(X_cat_dummy, prefix=X_cat_dummy.columns)\n",
    "\n",
    "# kmeans로 확인 후 cont변수와 합쳐주는 DF 생성 함수\n",
    "def kmeans_united(n) :\n",
    "    # Kmenas로 변환\n",
    "    kmeans = KMeans(n_clusters=n)\n",
    "    kmeans.fit(X_cat_dummy)\n",
    "    res = pd.Series(kmeans.labels_)\n",
    "    tmp_X = pd.get_dummies(res, prefix=\"kmeans\")\n",
    "    \n",
    "    # 기존 cont데이터와 병합\n",
    "    new_X = pd.concat([tmp_X, X[cont_columns]], axis=1)\n",
    "    \n",
    "    return new_X"
   ]
  },
  {
   "cell_type": "code",
   "execution_count": null,
   "metadata": {
    "ExecuteTime": {
     "end_time": "2019-04-03T06:24:12.373200Z",
     "start_time": "2019-04-03T04:11:27.202200Z"
    },
    "scrolled": true
   },
   "outputs": [],
   "source": [
    "# 실행하면 두시간걸림 실행전 주의!!!\n",
    "cluster_range = range( 1, 20 )\n",
    "cluster_errors = []\n",
    "\n",
    "for num_clusters in cluster_range:\n",
    "  clusters = KMeans( num_clusters )\n",
    "  clusters.fit( X_cat_dummy )\n",
    "  cluster_errors.append( clusters.inertia_ )\n",
    "\n",
    "clusters_df = pd.DataFrame( { \"num_clusters\":cluster_range, \"cluster_errors\": cluster_errors } )\n",
    "\n",
    "# Kmeans cluster_errors의 최적화 시각화\n",
    "plt.figure(figsize=(12,6), )\n",
    "plt.plot( clusters_df.num_clusters, clusters_df.cluster_errors, marker = \"o\", )\n",
    "plt.title(\"The Elbow Method showing the optimal k\")\n",
    "plt.show()"
   ]
  },
  {
   "attachments": {
    "The%20Elbow%20Method%20showing%20the%20optimal%20k.png": {
     "image/png": "[encoded data removed]"
    }
   },
   "cell_type": "markdown",
   "metadata": {},
   "source": [
    "![The%20Elbow%20Method%20showing%20the%20optimal%20k.png](attachment:The%20Elbow%20Method%20showing%20the%20optimal%20k.png)"
   ]
  },
  {
   "cell_type": "code",
   "execution_count": 18,
   "metadata": {
    "ExecuteTime": {
     "end_time": "2019-04-03T15:49:52.222407Z",
     "start_time": "2019-04-03T15:45:30.956522Z"
    }
   },
   "outputs": [],
   "source": [
    "reg_train_result = []\n",
    "reg_test_result = []\n",
    "kmeans_n = []\n",
    "for cluster in [3,5,10,15,20,25]:\n",
    "    # Kmeans 실행\n",
    "    X_kmeans = kmeans_united(cluster) \n",
    "    \n",
    "    # 회귀분석 실행\n",
    "    X_train, X_test, Y_train, Y_test = train_test_split(X_kmeans, y, test_size=0.3, random_state=5) \n",
    "    lm = LinearRegression()\n",
    "    lm.fit(X_train,Y_train)\n",
    "    Y_pred_train = lm.predict(X_train)\n",
    "    Y_pred_test = lm.predict(X_test)\n",
    "    \n",
    "    # 결과저장\n",
    "    kmeans_n.append(f'Kmeans_{cluster}')\n",
    "    reg_train_result.append(str(np.sqrt(metrics.mean_squared_error(Y_train, Y_pred_train))))\n",
    "    reg_test_result.append(str(np.sqrt(metrics.mean_squared_error(Y_test, Y_pred_test))))"
   ]
  },
  {
   "cell_type": "code",
   "execution_count": 19,
   "metadata": {
    "ExecuteTime": {
     "end_time": "2019-04-03T15:50:48.925029Z",
     "start_time": "2019-04-03T15:50:48.916051Z"
    }
   },
   "outputs": [
    {
     "data": {
      "text/html": [
       "<div>\n",
       "<style scoped>\n",
       "    .dataframe tbody tr th:only-of-type {\n",
       "        vertical-align: middle;\n",
       "    }\n",
       "\n",
       "    .dataframe tbody tr th {\n",
       "        vertical-align: top;\n",
       "    }\n",
       "\n",
       "    .dataframe thead th {\n",
       "        text-align: right;\n",
       "    }\n",
       "</style>\n",
       "<table border=\"1\" class=\"dataframe\">\n",
       "  <thead>\n",
       "    <tr style=\"text-align: right;\">\n",
       "      <th></th>\n",
       "      <th>kmeans_n</th>\n",
       "      <th>reg_train_result</th>\n",
       "      <th>reg_test_result</th>\n",
       "    </tr>\n",
       "  </thead>\n",
       "  <tbody>\n",
       "    <tr>\n",
       "      <th>0</th>\n",
       "      <td>Kmeans_3</td>\n",
       "      <td>2832.709154421556</td>\n",
       "      <td>2761.962971209864</td>\n",
       "    </tr>\n",
       "    <tr>\n",
       "      <th>1</th>\n",
       "      <td>Kmeans_5</td>\n",
       "      <td>2790.471461699895</td>\n",
       "      <td>2725.300806756419</td>\n",
       "    </tr>\n",
       "    <tr>\n",
       "      <th>2</th>\n",
       "      <td>Kmeans_10</td>\n",
       "      <td>2790.0727171852254</td>\n",
       "      <td>2728.5963504172255</td>\n",
       "    </tr>\n",
       "    <tr>\n",
       "      <th>3</th>\n",
       "      <td>Kmeans_15</td>\n",
       "      <td>2700.614039211342</td>\n",
       "      <td>2654.105341443054</td>\n",
       "    </tr>\n",
       "    <tr>\n",
       "      <th>4</th>\n",
       "      <td>Kmeans_20</td>\n",
       "      <td>2675.819830323635</td>\n",
       "      <td>2627.7520060541633</td>\n",
       "    </tr>\n",
       "    <tr>\n",
       "      <th>5</th>\n",
       "      <td>Kmeans_25</td>\n",
       "      <td>2684.518942983769</td>\n",
       "      <td>2629.985562558695</td>\n",
       "    </tr>\n",
       "  </tbody>\n",
       "</table>\n",
       "</div>"
      ],
      "text/plain": [
       "    kmeans_n    reg_train_result     reg_test_result\n",
       "0   Kmeans_3   2832.709154421556   2761.962971209864\n",
       "1   Kmeans_5   2790.471461699895   2725.300806756419\n",
       "2  Kmeans_10  2790.0727171852254  2728.5963504172255\n",
       "3  Kmeans_15   2700.614039211342   2654.105341443054\n",
       "4  Kmeans_20   2675.819830323635  2627.7520060541633\n",
       "5  Kmeans_25   2684.518942983769   2629.985562558695"
      ]
     },
     "execution_count": 19,
     "metadata": {},
     "output_type": "execute_result"
    }
   ],
   "source": [
    "list_result = list(zip(kmeans_n, reg_train_result, reg_test_result))\n",
    "result = pd.DataFrame(list_result, columns = ['kmeans_n', 'reg_train_result','reg_test_result'])\n",
    "result"
   ]
  },
  {
   "cell_type": "markdown",
   "metadata": {},
   "source": [
    "#### SVD로 축소"
   ]
  },
  {
   "cell_type": "markdown",
   "metadata": {},
   "source": [
    "SVD 참고 사이트 : https://hadrienj.github.io/posts/Deep-Learning-Book-Series-2.8-Singular-Value-Decomposition/"
   ]
  },
  {
   "cell_type": "code",
   "execution_count": null,
   "metadata": {
    "ExecuteTime": {
     "end_time": "2019-04-03T14:14:59.952857Z",
     "start_time": "2019-04-03T14:14:59.949867Z"
    }
   },
   "outputs": [],
   "source": []
  },
  {
   "cell_type": "code",
   "execution_count": null,
   "metadata": {},
   "outputs": [],
   "source": []
  },
  {
   "cell_type": "code",
   "execution_count": null,
   "metadata": {},
   "outputs": [],
   "source": []
  },
  {
   "cell_type": "code",
   "execution_count": null,
   "metadata": {},
   "outputs": [],
   "source": []
  },
  {
   "cell_type": "markdown",
   "metadata": {},
   "source": [
    "### 모델링\n",
    "#### 선형회귀"
   ]
  },
  {
   "cell_type": "code",
   "execution_count": null,
   "metadata": {
    "ExecuteTime": {
     "end_time": "2019-04-03T14:20:26.780158Z",
     "start_time": "2019-04-03T14:20:26.006011Z"
    }
   },
   "outputs": [],
   "source": [
    "X_train, X_test, Y_train, Y_test = train_test_split(X_cat_dummy, y, test_size=0.3, random_state=5)"
   ]
  },
  {
   "cell_type": "code",
   "execution_count": null,
   "metadata": {
    "ExecuteTime": {
     "end_time": "2019-04-03T14:20:28.027822Z",
     "start_time": "2019-04-03T14:20:28.023885Z"
    }
   },
   "outputs": [],
   "source": [
    "print(X_train.shape)\n",
    "print(X_test.shape)\n",
    "print(Y_train.shape)\n",
    "print(Y_test.shape)"
   ]
  },
  {
   "cell_type": "code",
   "execution_count": null,
   "metadata": {
    "ExecuteTime": {
     "end_time": "2019-04-03T14:20:41.227796Z",
     "start_time": "2019-04-03T14:20:29.080542Z"
    }
   },
   "outputs": [],
   "source": [
    "lm = LinearRegression()\n",
    "lm.fit(X_train,Y_train)\n",
    "Y_pred_train = lm.predict(X_train)\n",
    "Y_pred_test = lm.predict(X_test)"
   ]
  },
  {
   "cell_type": "code",
   "execution_count": null,
   "metadata": {
    "ExecuteTime": {
     "end_time": "2019-04-03T14:20:42.449932Z",
     "start_time": "2019-04-03T14:20:42.437948Z"
    }
   },
   "outputs": [],
   "source": [
    "#print('Training MSE is: ' + str(np.mean((Y_train - Y_pred_train)**2)))\n",
    "#print('Testing MSE is: ' + str(np.mean((Y_test - Y_pred_test)**2)))\n",
    "print('Training MSE is: ' + str(metrics.mean_squared_error(Y_train, Y_pred_train)))\n",
    "print('Testing MSE is: ' + str(metrics.mean_squared_error(Y_test, Y_pred_test)))\n",
    "print('-'*50)\n",
    "print('Training RMSE is: ' + str(np.sqrt(metrics.mean_squared_error(Y_train, Y_pred_train))))\n",
    "print('Testing RMSE is: ' + str(np.sqrt(metrics.mean_squared_error(Y_test, Y_pred_test))))"
   ]
  },
  {
   "cell_type": "code",
   "execution_count": null,
   "metadata": {
    "ExecuteTime": {
     "end_time": "2019-04-03T08:12:45.026200Z",
     "start_time": "2019-04-03T08:12:45.008200Z"
    }
   },
   "outputs": [],
   "source": [
    "#pd.DataFrame(lm.coef_.reshape(-1,1), index = header,columns=['Value'])\n",
    "pd.DataFrame(lm.coef_,index=['Value'],columns=header)"
   ]
  },
  {
   "cell_type": "code",
   "execution_count": null,
   "metadata": {},
   "outputs": [],
   "source": []
  },
  {
   "cell_type": "code",
   "execution_count": null,
   "metadata": {},
   "outputs": [],
   "source": []
  }
 ],
 "metadata": {
  "celltoolbar": "Raw Cell Format",
  "kernelspec": {
   "display_name": "Python 3",
   "language": "python",
   "name": "python3"
  },
  "language_info": {
   "codemirror_mode": {
    "name": "ipython",
    "version": 3
   },
   "file_extension": ".py",
   "mimetype": "text/x-python",
   "name": "python",
   "nbconvert_exporter": "python",
   "pygments_lexer": "ipython3",
   "version": "3.6.5"
  },
  "toc": {
   "base_numbering": 1,
   "nav_menu": {},
   "number_sections": true,
   "sideBar": true,
   "skip_h1_title": false,
   "title_cell": "Table of Contents",
   "title_sidebar": "Contents",
   "toc_cell": true,
   "toc_position": {},
   "toc_section_display": true,
   "toc_window_display": false
  },
  "varInspector": {
   "cols": {
    "lenName": 16,
    "lenType": 16,
    "lenVar": 40
   },
   "kernels_config": {
    "python": {
     "delete_cmd_postfix": "",
     "delete_cmd_prefix": "del ",
     "library": "var_list.py",
     "varRefreshCmd": "print(var_dic_list())"
    },
    "r": {
     "delete_cmd_postfix": ") ",
     "delete_cmd_prefix": "rm(",
     "library": "var_list.r",
     "varRefreshCmd": "cat(var_dic_list()) "
    }
   },
   "types_to_exclude": [
    "module",
    "function",
    "builtin_function_or_method",
    "instance",
    "_Feature"
   ],
   "window_display": false
  }
 },
 "nbformat": 4,
 "nbformat_minor": 2
}
